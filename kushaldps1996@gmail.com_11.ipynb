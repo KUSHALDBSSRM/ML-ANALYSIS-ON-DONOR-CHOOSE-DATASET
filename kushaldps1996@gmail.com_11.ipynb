{
 "cells": [
  {
   "cell_type": "markdown",
   "metadata": {
    "colab_type": "text",
    "id": "EDXvFCBdqzDy"
   },
   "source": [
    "# DonorsChoose"
   ]
  },
  {
   "cell_type": "markdown",
   "metadata": {
    "colab_type": "text",
    "id": "p5XOeWwAqzD1"
   },
   "source": [
    "<p>\n",
    "DonorsChoose.org receives hundreds of thousands of project proposals each year for classroom projects in need of funding. Right now, a large number of volunteers is needed to manually screen each submission before it's approved to be posted on the DonorsChoose.org website.\n",
    "</p>\n",
    "<p>\n",
    "    Next year, DonorsChoose.org expects to receive close to 500,000 project proposals. As a result, there are three main problems they need to solve:\n",
    "<ul>\n",
    "<li>\n",
    "    How to scale current manual processes and resources to screen 500,000 projects so that they can be posted as quickly and as efficiently as possible</li>\n",
    "    <li>How to increase the consistency of project vetting across different volunteers to improve the experience for teachers</li>\n",
    "    <li>How to focus volunteer time on the applications that need the most assistance</li>\n",
    "    </ul>\n",
    "</p>    \n",
    "<p>\n",
    "The goal of the competition is to predict whether or not a DonorsChoose.org project proposal submitted by a teacher will be approved, using the text of project descriptions as well as additional metadata about the project, teacher, and school. DonorsChoose.org can then use this information to identify projects most likely to need further review before approval.\n",
    "</p>"
   ]
  },
  {
   "cell_type": "markdown",
   "metadata": {
    "colab_type": "text",
    "id": "vC79X84FqzD4"
   },
   "source": [
    "## About the DonorsChoose Data Set\n",
    "\n",
    "The `train.csv` data set provided by DonorsChoose contains the following features:\n",
    "\n",
    "Feature | Description \n",
    "----------|---------------\n",
    "**`project_id`** | A unique identifier for the proposed project. **Example:** `p036502`   \n",
    "**`project_title`**    | Title of the project. **Examples:**<br><ul><li><code>Art Will Make You Happy!</code></li><li><code>First Grade Fun</code></li></ul> \n",
    "**`project_grade_category`** | Grade level of students for which the project is targeted. One of the following enumerated values: <br/><ul><li><code>Grades PreK-2</code></li><li><code>Grades 3-5</code></li><li><code>Grades 6-8</code></li><li><code>Grades 9-12</code></li></ul>  \n",
    " **`project_subject_categories`** | One or more (comma-separated) subject categories for the project from the following enumerated list of values:  <br/><ul><li><code>Applied Learning</code></li><li><code>Care &amp; Hunger</code></li><li><code>Health &amp; Sports</code></li><li><code>History &amp; Civics</code></li><li><code>Literacy &amp; Language</code></li><li><code>Math &amp; Science</code></li><li><code>Music &amp; The Arts</code></li><li><code>Special Needs</code></li><li><code>Warmth</code></li></ul><br/> **Examples:** <br/><ul><li><code>Music &amp; The Arts</code></li><li><code>Literacy &amp; Language, Math &amp; Science</code></li>  \n",
    "  **`school_state`** | State where school is located ([Two-letter U.S. postal code](https://en.wikipedia.org/wiki/List_of_U.S._state_abbreviations#Postal_codes)). **Example:** `WY`\n",
    "**`project_subject_subcategories`** | One or more (comma-separated) subject subcategories for the project. **Examples:** <br/><ul><li><code>Literacy</code></li><li><code>Literature &amp; Writing, Social Sciences</code></li></ul> \n",
    "**`project_resource_summary`** | An explanation of the resources needed for the project. **Example:** <br/><ul><li><code>My students need hands on literacy materials to manage sensory needs!</code</li></ul> \n",
    "**`project_essay_1`**    | First application essay<sup>*</sup>  \n",
    "**`project_essay_2`**    | Second application essay<sup>*</sup> \n",
    "**`project_essay_3`**    | Third application essay<sup>*</sup> \n",
    "**`project_essay_4`**    | Fourth application essay<sup>*</sup> \n",
    "**`project_submitted_datetime`** | Datetime when project application was submitted. **Example:** `2016-04-28 12:43:56.245`   \n",
    "**`teacher_id`** | A unique identifier for the teacher of the proposed project. **Example:** `bdf8baa8fedef6bfeec7ae4ff1c15c56`  \n",
    "**`teacher_prefix`** | Teacher's title. One of the following enumerated values: <br/><ul><li><code>nan</code></li><li><code>Dr.</code></li><li><code>Mr.</code></li><li><code>Mrs.</code></li><li><code>Ms.</code></li><li><code>Teacher.</code></li></ul>  \n",
    "**`teacher_number_of_previously_posted_projects`** | Number of project applications previously submitted by the same teacher. **Example:** `2` \n",
    "\n",
    "<sup>*</sup> See the section <b>Notes on the Essay Data</b> for more details about these features.\n",
    "\n",
    "Additionally, the `resources.csv` data set provides more data about the resources required for each project. Each line in this file represents a resource required by a project:\n",
    "\n",
    "Feature | Description \n",
    "----------|---------------\n",
    "**`id`** | A `project_id` value from the `train.csv` file.  **Example:** `p036502`   \n",
    "**`description`** | Desciption of the resource. **Example:** `Tenor Saxophone Reeds, Box of 25`   \n",
    "**`quantity`** | Quantity of the resource required. **Example:** `3`   \n",
    "**`price`** | Price of the resource required. **Example:** `9.95`   \n",
    "\n",
    "**Note:** Many projects require multiple resources. The `id` value corresponds to a `project_id` in train.csv, so you use it as a key to retrieve all resources needed for a project:\n",
    "\n",
    "The data set contains the following label (the value you will attempt to predict):\n",
    "\n",
    "Label | Description\n",
    "----------|---------------\n",
    "`project_is_approved` | A binary flag indicating whether DonorsChoose approved the project. A value of `0` indicates the project was not approved, and a value of `1` indicates the project was approved."
   ]
  },
  {
   "cell_type": "markdown",
   "metadata": {
    "colab_type": "text",
    "id": "uIHEH9oEqzD6"
   },
   "source": [
    "### Notes on the Essay Data\n",
    "\n",
    "<ul>\n",
    "Prior to May 17, 2016, the prompts for the essays were as follows:\n",
    "<li>__project_essay_1:__ \"Introduce us to your classroom\"</li>\n",
    "<li>__project_essay_2:__ \"Tell us more about your students\"</li>\n",
    "<li>__project_essay_3:__ \"Describe how your students will use the materials you're requesting\"</li>\n",
    "<li>__project_essay_3:__ \"Close by sharing why your project will make a difference\"</li>\n",
    "</ul>\n",
    "\n",
    "\n",
    "<ul>\n",
    "Starting on May 17, 2016, the number of essays was reduced from 4 to 2, and the prompts for the first 2 essays were changed to the following:<br>\n",
    "<li>__project_essay_1:__ \"Describe your students: What makes your students special? Specific details about their background, your neighborhood, and your school are all helpful.\"</li>\n",
    "<li>__project_essay_2:__ \"About your project: How will these materials make a difference in your students' learning and improve their school lives?\"</li>\n",
    "<br>For all projects with project_submitted_datetime of 2016-05-17 and later, the values of project_essay_3 and project_essay_4 will be NaN.\n",
    "</ul>\n"
   ]
  },
  {
   "cell_type": "code",
   "execution_count": 1,
   "metadata": {
    "colab": {},
    "colab_type": "code",
    "id": "Tl5MIbKJqzD8",
    "outputId": "ab45903b-ab16-4047-fdad-52e12078a038"
   },
   "outputs": [
    {
     "name": "stderr",
     "output_type": "stream",
     "text": [
      "IOPub data rate exceeded.\n",
      "The notebook server will temporarily stop sending output\n",
      "to the client in order to avoid crashing it.\n",
      "To change this limit, set the config variable\n",
      "`--NotebookApp.iopub_data_rate_limit`.\n"
     ]
    }
   ],
   "source": [
    "%matplotlib inline\n",
    "import warnings\n",
    "warnings.filterwarnings(\"ignore\")\n",
    "\n",
    "import sqlite3\n",
    "import pandas as pd\n",
    "import numpy as np\n",
    "import nltk\n",
    "import string\n",
    "import matplotlib.pyplot as plt\n",
    "import seaborn as sns\n",
    "from sklearn.feature_extraction.text import TfidfTransformer\n",
    "from sklearn.feature_extraction.text import TfidfVectorizer\n",
    "\n",
    "from sklearn.feature_extraction.text import CountVectorizer\n",
    "from sklearn.metrics import confusion_matrix\n",
    "from sklearn import metrics\n",
    "from sklearn.metrics import roc_curve, auc\n",
    "from nltk.stem.porter import PorterStemmer\n",
    "\n",
    "import re\n",
    "# Tutorial about Python regular expressions: https://pymotw.com/2/re/\n",
    "import string\n",
    "from nltk.corpus import stopwords\n",
    "from nltk.stem import PorterStemmer\n",
    "from nltk.stem.wordnet import WordNetLemmatizer\n",
    "\n",
    "from gensim.models import Word2Vec\n",
    "from gensim.models import KeyedVectors\n",
    "import pickle\n",
    "\n",
    "from tqdm import tqdm\n",
    "import os\n",
    "\n",
    "from plotly import plotly\n",
    "import plotly.offline as offline\n",
    "import plotly.graph_objs as go\n",
    "offline.init_notebook_mode()\n",
    "from collections import Counter"
   ]
  },
  {
   "cell_type": "markdown",
   "metadata": {
    "colab_type": "text",
    "id": "M_JDk8pbqzEG"
   },
   "source": [
    "## 1.1 Reading Data"
   ]
  },
  {
   "cell_type": "code",
   "execution_count": 2,
   "metadata": {
    "colab": {},
    "colab_type": "code",
    "collapsed": true,
    "id": "2dUWtwPZqzEH"
   },
   "outputs": [],
   "source": [
    "project_data = pd.read_csv('train_data.csv')\n",
    "resource_data = pd.read_csv('resources.csv')"
   ]
  },
  {
   "cell_type": "code",
   "execution_count": 3,
   "metadata": {
    "colab": {},
    "colab_type": "code",
    "id": "EKhwq5eLqzEL",
    "outputId": "a4742747-498f-4f63-ad24-9f75fd70530f"
   },
   "outputs": [
    {
     "name": "stdout",
     "output_type": "stream",
     "text": [
      "Number of data points in train data (109248, 17)\n",
      "--------------------------------------------------\n",
      "The attributes of data : ['Unnamed: 0' 'id' 'teacher_id' 'teacher_prefix' 'school_state'\n",
      " 'project_submitted_datetime' 'project_grade_category'\n",
      " 'project_subject_categories' 'project_subject_subcategories'\n",
      " 'project_title' 'project_essay_1' 'project_essay_2' 'project_essay_3'\n",
      " 'project_essay_4' 'project_resource_summary'\n",
      " 'teacher_number_of_previously_posted_projects' 'project_is_approved']\n"
     ]
    }
   ],
   "source": [
    "print(\"Number of data points in train data\", project_data.shape)\n",
    "print('-'*50)\n",
    "print(\"The attributes of data :\", project_data.columns.values)"
   ]
  },
  {
   "cell_type": "code",
   "execution_count": 4,
   "metadata": {
    "colab": {},
    "colab_type": "code",
    "id": "Yfiv6saRqzEQ",
    "outputId": "f939ef04-22c2-45d8-c965-7eb6884e451b"
   },
   "outputs": [
    {
     "name": "stdout",
     "output_type": "stream",
     "text": [
      "Number of data points in train data (1541272, 4)\n",
      "['id' 'description' 'quantity' 'price']\n"
     ]
    },
    {
     "data": {
      "text/html": [
       "<div>\n",
       "<style>\n",
       "    .dataframe thead tr:only-child th {\n",
       "        text-align: right;\n",
       "    }\n",
       "\n",
       "    .dataframe thead th {\n",
       "        text-align: left;\n",
       "    }\n",
       "\n",
       "    .dataframe tbody tr th {\n",
       "        vertical-align: top;\n",
       "    }\n",
       "</style>\n",
       "<table border=\"1\" class=\"dataframe\">\n",
       "  <thead>\n",
       "    <tr style=\"text-align: right;\">\n",
       "      <th></th>\n",
       "      <th>id</th>\n",
       "      <th>description</th>\n",
       "      <th>quantity</th>\n",
       "      <th>price</th>\n",
       "    </tr>\n",
       "  </thead>\n",
       "  <tbody>\n",
       "    <tr>\n",
       "      <th>0</th>\n",
       "      <td>p233245</td>\n",
       "      <td>LC652 - Lakeshore Double-Space Mobile Drying Rack</td>\n",
       "      <td>1</td>\n",
       "      <td>149.00</td>\n",
       "    </tr>\n",
       "    <tr>\n",
       "      <th>1</th>\n",
       "      <td>p069063</td>\n",
       "      <td>Bouncy Bands for Desks (Blue support pipes)</td>\n",
       "      <td>3</td>\n",
       "      <td>14.95</td>\n",
       "    </tr>\n",
       "  </tbody>\n",
       "</table>\n",
       "</div>"
      ],
      "text/plain": [
       "        id                                        description  quantity  \\\n",
       "0  p233245  LC652 - Lakeshore Double-Space Mobile Drying Rack         1   \n",
       "1  p069063        Bouncy Bands for Desks (Blue support pipes)         3   \n",
       "\n",
       "    price  \n",
       "0  149.00  \n",
       "1   14.95  "
      ]
     },
     "execution_count": 4,
     "metadata": {},
     "output_type": "execute_result"
    }
   ],
   "source": [
    "print(\"Number of data points in train data\", resource_data.shape)\n",
    "print(resource_data.columns.values)\n",
    "resource_data.head(2)"
   ]
  },
  {
   "cell_type": "markdown",
   "metadata": {
    "colab_type": "text",
    "id": "NjcNkdW-qzEV"
   },
   "source": [
    "## 1.2 preprocessing of `project_subject_categories`"
   ]
  },
  {
   "cell_type": "code",
   "execution_count": 5,
   "metadata": {
    "colab": {},
    "colab_type": "code",
    "collapsed": true,
    "id": "jMWc8iWWqzEX"
   },
   "outputs": [],
   "source": [
    "catogories = list(project_data['project_subject_categories'].values)\n",
    "# remove special characters from list of strings python: https://stackoverflow.com/a/47301924/4084039\n",
    "\n",
    "# https://www.geeksforgeeks.org/removing-stop-words-nltk-python/\n",
    "# https://stackoverflow.com/questions/23669024/how-to-strip-a-specific-word-from-a-string\n",
    "# https://stackoverflow.com/questions/8270092/remove-all-whitespace-in-a-string-in-python\n",
    "cat_list = []\n",
    "for i in catogories:\n",
    "    temp = \"\"\n",
    "    # consider we have text like this \"Math & Science, Warmth, Care & Hunger\"\n",
    "    for j in i.split(','): # it will split it in three parts [\"Math & Science\", \"Warmth\", \"Care & Hunger\"]\n",
    "        if 'The' in j.split(): # this will split each of the catogory based on space \"Math & Science\"=> \"Math\",\"&\", \"Science\"\n",
    "            j=j.replace('The','') # if we have the words \"The\" we are going to replace it with ''(i.e removing 'The')\n",
    "        j = j.replace(' ','') # we are placeing all the ' '(space) with ''(empty) ex:\"Math & Science\"=>\"Math&Science\"\n",
    "        temp+=j.strip()+\" \" #\" abc \".strip() will return \"abc\", remove the trailing spaces\n",
    "        temp = temp.replace('&','_') # we are replacing the & value into \n",
    "    cat_list.append(temp.strip())\n",
    "    \n",
    "project_data['clean_categories'] = cat_list\n",
    "project_data.drop(['project_subject_categories'], axis=1, inplace=True)\n",
    "\n",
    "from collections import Counter\n",
    "my_counter = Counter()\n",
    "for word in project_data['clean_categories'].values:\n",
    "    my_counter.update(word.split())\n",
    "\n",
    "cat_dict = dict(my_counter)\n",
    "sorted_cat_dict = dict(sorted(cat_dict.items(), key=lambda kv: kv[1]))\n"
   ]
  },
  {
   "cell_type": "markdown",
   "metadata": {
    "colab_type": "text",
    "id": "qSdt27klqzEa"
   },
   "source": [
    "## 1.3 preprocessing of `project_subject_subcategories`"
   ]
  },
  {
   "cell_type": "code",
   "execution_count": 6,
   "metadata": {
    "colab": {},
    "colab_type": "code",
    "collapsed": true,
    "id": "FpQ01pxpqzEb"
   },
   "outputs": [],
   "source": [
    "sub_catogories = list(project_data['project_subject_subcategories'].values)\n",
    "# remove special characters from list of strings python: https://stackoverflow.com/a/47301924/4084039\n",
    "\n",
    "# https://www.geeksforgeeks.org/removing-stop-words-nltk-python/\n",
    "# https://stackoverflow.com/questions/23669024/how-to-strip-a-specific-word-from-a-string\n",
    "# https://stackoverflow.com/questions/8270092/remove-all-whitespace-in-a-string-in-python\n",
    "\n",
    "sub_cat_list = []\n",
    "for i in sub_catogories:\n",
    "    temp = \"\"\n",
    "    # consider we have text like this \"Math & Science, Warmth, Care & Hunger\"\n",
    "    for j in i.split(','): # it will split it in three parts [\"Math & Science\", \"Warmth\", \"Care & Hunger\"]\n",
    "        if 'The' in j.split(): # this will split each of the catogory based on space \"Math & Science\"=> \"Math\",\"&\", \"Science\"\n",
    "            j=j.replace('The','') # if we have the words \"The\" we are going to replace it with ''(i.e removing 'The')\n",
    "        j = j.replace(' ','') # we are placeing all the ' '(space) with ''(empty) ex:\"Math & Science\"=>\"Math&Science\"\n",
    "        temp +=j.strip()+\" \"#\" abc \".strip() will return \"abc\", remove the trailing spaces\n",
    "        temp = temp.replace('&','_')\n",
    "    sub_cat_list.append(temp.strip())\n",
    "\n",
    "project_data['clean_subcategories'] = sub_cat_list\n",
    "project_data.drop(['project_subject_subcategories'], axis=1, inplace=True)\n",
    "\n",
    "# count of all the words in corpus python: https://stackoverflow.com/a/22898595/4084039\n",
    "my_counter = Counter()\n",
    "for word in project_data['clean_subcategories'].values:\n",
    "    my_counter.update(word.split())\n",
    "    \n",
    "sub_cat_dict = dict(my_counter)\n",
    "sorted_sub_cat_dict = dict(sorted(sub_cat_dict.items(), key=lambda kv: kv[1]))"
   ]
  },
  {
   "cell_type": "markdown",
   "metadata": {
    "colab_type": "text",
    "id": "ZC7AJh4vqzEe"
   },
   "source": [
    "## 1.3 Text preprocessing"
   ]
  },
  {
   "cell_type": "code",
   "execution_count": 7,
   "metadata": {
    "colab": {},
    "colab_type": "code",
    "collapsed": true,
    "id": "0Z7z7sWnqzEf"
   },
   "outputs": [],
   "source": [
    "# merge two column text dataframe: \n",
    "project_data[\"essay\"] = project_data[\"project_essay_1\"].map(str) +\\\n",
    "                        project_data[\"project_essay_2\"].map(str) + \\\n",
    "                        project_data[\"project_essay_3\"].map(str) + \\\n",
    "                        project_data[\"project_essay_4\"].map(str)"
   ]
  },
  {
   "cell_type": "code",
   "execution_count": 8,
   "metadata": {
    "colab": {},
    "colab_type": "code",
    "id": "ZMq1M1umqzEi",
    "outputId": "5947c859-bca2-486c-9a74-5d65dcd5a537"
   },
   "outputs": [
    {
     "data": {
      "text/html": [
       "<div>\n",
       "<style>\n",
       "    .dataframe thead tr:only-child th {\n",
       "        text-align: right;\n",
       "    }\n",
       "\n",
       "    .dataframe thead th {\n",
       "        text-align: left;\n",
       "    }\n",
       "\n",
       "    .dataframe tbody tr th {\n",
       "        vertical-align: top;\n",
       "    }\n",
       "</style>\n",
       "<table border=\"1\" class=\"dataframe\">\n",
       "  <thead>\n",
       "    <tr style=\"text-align: right;\">\n",
       "      <th></th>\n",
       "      <th>Unnamed: 0</th>\n",
       "      <th>id</th>\n",
       "      <th>teacher_id</th>\n",
       "      <th>teacher_prefix</th>\n",
       "      <th>school_state</th>\n",
       "      <th>project_submitted_datetime</th>\n",
       "      <th>project_grade_category</th>\n",
       "      <th>project_title</th>\n",
       "      <th>project_essay_1</th>\n",
       "      <th>project_essay_2</th>\n",
       "      <th>project_essay_3</th>\n",
       "      <th>project_essay_4</th>\n",
       "      <th>project_resource_summary</th>\n",
       "      <th>teacher_number_of_previously_posted_projects</th>\n",
       "      <th>project_is_approved</th>\n",
       "      <th>clean_categories</th>\n",
       "      <th>clean_subcategories</th>\n",
       "      <th>essay</th>\n",
       "    </tr>\n",
       "  </thead>\n",
       "  <tbody>\n",
       "    <tr>\n",
       "      <th>0</th>\n",
       "      <td>160221</td>\n",
       "      <td>p253737</td>\n",
       "      <td>c90749f5d961ff158d4b4d1e7dc665fc</td>\n",
       "      <td>Mrs.</td>\n",
       "      <td>IN</td>\n",
       "      <td>2016-12-05 13:43:57</td>\n",
       "      <td>Grades PreK-2</td>\n",
       "      <td>Educational Support for English Learners at Home</td>\n",
       "      <td>My students are English learners that are work...</td>\n",
       "      <td>\\\"The limits of your language are the limits o...</td>\n",
       "      <td>NaN</td>\n",
       "      <td>NaN</td>\n",
       "      <td>My students need opportunities to practice beg...</td>\n",
       "      <td>0</td>\n",
       "      <td>0</td>\n",
       "      <td>Literacy_Language</td>\n",
       "      <td>ESL Literacy</td>\n",
       "      <td>My students are English learners that are work...</td>\n",
       "    </tr>\n",
       "    <tr>\n",
       "      <th>1</th>\n",
       "      <td>140945</td>\n",
       "      <td>p258326</td>\n",
       "      <td>897464ce9ddc600bced1151f324dd63a</td>\n",
       "      <td>Mr.</td>\n",
       "      <td>FL</td>\n",
       "      <td>2016-10-25 09:22:10</td>\n",
       "      <td>Grades 6-8</td>\n",
       "      <td>Wanted: Projector for Hungry Learners</td>\n",
       "      <td>Our students arrive to our school eager to lea...</td>\n",
       "      <td>The projector we need for our school is very c...</td>\n",
       "      <td>NaN</td>\n",
       "      <td>NaN</td>\n",
       "      <td>My students need a projector to help with view...</td>\n",
       "      <td>7</td>\n",
       "      <td>1</td>\n",
       "      <td>History_Civics Health_Sports</td>\n",
       "      <td>Civics_Government TeamSports</td>\n",
       "      <td>Our students arrive to our school eager to lea...</td>\n",
       "    </tr>\n",
       "  </tbody>\n",
       "</table>\n",
       "</div>"
      ],
      "text/plain": [
       "   Unnamed: 0       id                        teacher_id teacher_prefix  \\\n",
       "0      160221  p253737  c90749f5d961ff158d4b4d1e7dc665fc           Mrs.   \n",
       "1      140945  p258326  897464ce9ddc600bced1151f324dd63a            Mr.   \n",
       "\n",
       "  school_state project_submitted_datetime project_grade_category  \\\n",
       "0           IN        2016-12-05 13:43:57          Grades PreK-2   \n",
       "1           FL        2016-10-25 09:22:10             Grades 6-8   \n",
       "\n",
       "                                      project_title  \\\n",
       "0  Educational Support for English Learners at Home   \n",
       "1             Wanted: Projector for Hungry Learners   \n",
       "\n",
       "                                     project_essay_1  \\\n",
       "0  My students are English learners that are work...   \n",
       "1  Our students arrive to our school eager to lea...   \n",
       "\n",
       "                                     project_essay_2 project_essay_3  \\\n",
       "0  \\\"The limits of your language are the limits o...             NaN   \n",
       "1  The projector we need for our school is very c...             NaN   \n",
       "\n",
       "  project_essay_4                           project_resource_summary  \\\n",
       "0             NaN  My students need opportunities to practice beg...   \n",
       "1             NaN  My students need a projector to help with view...   \n",
       "\n",
       "   teacher_number_of_previously_posted_projects  project_is_approved  \\\n",
       "0                                             0                    0   \n",
       "1                                             7                    1   \n",
       "\n",
       "               clean_categories           clean_subcategories  \\\n",
       "0             Literacy_Language                  ESL Literacy   \n",
       "1  History_Civics Health_Sports  Civics_Government TeamSports   \n",
       "\n",
       "                                               essay  \n",
       "0  My students are English learners that are work...  \n",
       "1  Our students arrive to our school eager to lea...  "
      ]
     },
     "execution_count": 8,
     "metadata": {},
     "output_type": "execute_result"
    }
   ],
   "source": [
    "project_data.head(2)"
   ]
  },
  {
   "cell_type": "code",
   "execution_count": 9,
   "metadata": {
    "colab": {},
    "colab_type": "code",
    "collapsed": true,
    "id": "ty4rAP0ZqzEm"
   },
   "outputs": [],
   "source": [
    "#### 1.4.2.3 Using Pretrained Models: TFIDF weighted W2V"
   ]
  },
  {
   "cell_type": "code",
   "execution_count": 10,
   "metadata": {
    "colab": {},
    "colab_type": "code",
    "id": "wKVzNh_RqzEo",
    "outputId": "3e7346cf-5ab8-4ef9-e5ee-98ec58988e32"
   },
   "outputs": [
    {
     "name": "stdout",
     "output_type": "stream",
     "text": [
      "My students are English learners that are working on English as their second or third languages. We are a melting pot of refugees, immigrants, and native-born Americans bringing the gift of language to our school. \\r\\n\\r\\n We have over 24 languages represented in our English Learner program with students at every level of mastery.  We also have over 40 countries represented with the families within our school.  Each student brings a wealth of knowledge and experiences to us that open our eyes to new cultures, beliefs, and respect.\\\"The limits of your language are the limits of your world.\\\"-Ludwig Wittgenstein  Our English learner's have a strong support system at home that begs for more resources.  Many times our parents are learning to read and speak English along side of their children.  Sometimes this creates barriers for parents to be able to help their child learn phonetics, letter recognition, and other reading skills.\\r\\n\\r\\nBy providing these dvd's and players, students are able to continue their mastery of the English language even if no one at home is able to assist.  All families with students within the Level 1 proficiency status, will be a offered to be a part of this program.  These educational videos will be specially chosen by the English Learner Teacher and will be sent home regularly to watch.  The videos are to help the child develop early reading skills.\\r\\n\\r\\nParents that do not have access to a dvd player will have the opportunity to check out a dvd player to use for the year.  The plan is to use these videos and educational dvd's for the years to come for other EL students.\\r\\nnannan\n",
      "==================================================\n",
      "The 51 fifth grade students that will cycle through my classroom this year all love learning, at least most of the time. At our school, 97.3% of the students receive free or reduced price lunch. Of the 560 students, 97.3% are minority students. \\r\\nThe school has a vibrant community that loves to get together and celebrate. Around Halloween there is a whole school parade to show off the beautiful costumes that students wear. On Cinco de Mayo we put on a big festival with crafts made by the students, dances, and games. At the end of the year the school hosts a carnival to celebrate the hard work put in during the school year, with a dunk tank being the most popular activity.My students will use these five brightly colored Hokki stools in place of regular, stationary, 4-legged chairs. As I will only have a total of ten in the classroom and not enough for each student to have an individual one, they will be used in a variety of ways. During independent reading time they will be used as special chairs students will each use on occasion. I will utilize them in place of chairs at my small group tables during math and reading times. The rest of the day they will be used by the students who need the highest amount of movement in their life in order to stay focused on school.\\r\\n\\r\\nWhenever asked what the classroom is missing, my students always say more Hokki Stools. They can't get their fill of the 5 stools we already have. When the students are sitting in group with me on the Hokki Stools, they are always moving, but at the same time doing their work. Anytime the students get to pick where they can sit, the Hokki Stools are the first to be taken. There are always students who head over to the kidney table to get one of the stools who are disappointed as there are not enough of them. \\r\\n\\r\\nWe ask a lot of students to sit for 7 hours a day. The Hokki stools will be a compromise that allow my students to do desk work and move at the same time. These stools will help students to meet their 60 minutes a day of movement by allowing them to activate their core muscles for balance while they sit. For many of my students, these chairs will take away the barrier that exists in schools for a child who can't sit still.nannan\n",
      "==================================================\n",
      "How do you remember your days of school? Was it in a sterile environment with plain walls, rows of desks, and a teacher in front of the room? A typical day in our room is nothing like that. I work hard to create a warm inviting themed room for my students look forward to coming to each day.\\r\\n\\r\\nMy class is made up of 28 wonderfully unique boys and girls of mixed races in Arkansas.\\r\\nThey attend a Title I school, which means there is a high enough percentage of free and reduced-price lunch to qualify. Our school is an \\\"open classroom\\\" concept, which is very unique as there are no walls separating the classrooms. These 9 and 10 year-old students are very eager learners; they are like sponges, absorbing all the information and experiences and keep on wanting more.With these resources such as the comfy red throw pillows and the whimsical nautical hanging decor and the blue fish nets, I will be able to help create the mood in our classroom setting to be one of a themed nautical environment. Creating a classroom environment is very important in the success in each and every child's education. The nautical photo props will be used with each child as they step foot into our classroom for the first time on Meet the Teacher evening. I'll take pictures of each child with them, have them developed, and then hung in our classroom ready for their first day of 4th grade.  This kind gesture will set the tone before even the first day of school! The nautical thank you cards will be used throughout the year by the students as they create thank you cards to their team groups.\\r\\n\\r\\nYour generous donations will help me to help make our classroom a fun, inviting, learning environment from day one.\\r\\n\\r\\nIt costs lost of money out of my own pocket on resources to get our classroom ready. Please consider helping with this project to make our new school year a very successful one. Thank you!nannan\n",
      "==================================================\n",
      "My kindergarten students have varied disabilities ranging from speech and language delays, cognitive delays, gross/fine motor delays, to autism. They are eager beavers and always strive to work their hardest working past their limitations. \\r\\n\\r\\nThe materials we have are the ones I seek out for my students. I teach in a Title I school where most of the students receive free or reduced price lunch.  Despite their disabilities and limitations, my students love coming to school and come eager to learn and explore.Have you ever felt like you had ants in your pants and you needed to groove and move as you were in a meeting? This is how my kids feel all the time. The want to be able to move as they learn or so they say.Wobble chairs are the answer and I love then because they develop their core, which enhances gross motor and in Turn fine motor skills. \\r\\nThey also want to learn through games, my kids don't want to sit and do worksheets. They want to learn to count by jumping and playing. Physical engagement is the key to our success. The number toss and color and shape mats can make that happen. My students will forget they are doing work and just have the fun a 6 year old deserves.nannan\n",
      "==================================================\n",
      "The mediocre teacher tells. The good teacher explains. The superior teacher demonstrates. The great teacher inspires. -William A. Ward\\r\\n\\r\\nMy school has 803 students which is makeup is 97.6% African-American, making up the largest segment of the student body. A typical school in Dallas is made up of 23.2% African-American students. Most of the students are on free or reduced lunch. We aren't receiving doctors, lawyers, or engineers children from rich backgrounds or neighborhoods. As an educator I am inspiring minds of young children and we focus not only on academics but one smart, effective, efficient, and disciplined students with good character.In our classroom we can utilize the Bluetooth for swift transitions during class. I use a speaker which doesn't amplify the sound enough to receive the message. Due to the volume of my speaker my students can't hear videos or books clearly and it isn't making the lessons as meaningful. But with the bluetooth speaker my students will be able to hear and I can stop, pause and replay it at any time.\\r\\nThe cart will allow me to have more room for storage of things that are needed for the day and has an extra part to it I can use.  The table top chart has all of the letter, words and pictures for students to learn about different letters and it is more accessible.nannan\n",
      "==================================================\n"
     ]
    }
   ],
   "source": [
    "# printing some random reviews\n",
    "print(project_data['essay'].values[0])\n",
    "print(\"=\"*50)\n",
    "print(project_data['essay'].values[150])\n",
    "print(\"=\"*50)\n",
    "print(project_data['essay'].values[1000])\n",
    "print(\"=\"*50)\n",
    "print(project_data['essay'].values[20000])\n",
    "print(\"=\"*50)\n",
    "print(project_data['essay'].values[99999])\n",
    "print(\"=\"*50)"
   ]
  },
  {
   "cell_type": "code",
   "execution_count": 11,
   "metadata": {
    "colab": {},
    "colab_type": "code",
    "collapsed": true,
    "id": "d1bbAf3kqzEr"
   },
   "outputs": [],
   "source": [
    "# https://stackoverflow.com/a/47091490/4084039\n",
    "import re\n",
    "\n",
    "def decontracted(phrase):\n",
    "    # specific\n",
    "    phrase = re.sub(r\"won't\", \"will not\", phrase)\n",
    "    phrase = re.sub(r\"can\\'t\", \"can not\", phrase)\n",
    "\n",
    "    # general\n",
    "    phrase = re.sub(r\"n\\'t\", \" not\", phrase)\n",
    "    phrase = re.sub(r\"\\'re\", \" are\", phrase)\n",
    "    phrase = re.sub(r\"\\'s\", \" is\", phrase)\n",
    "    phrase = re.sub(r\"\\'d\", \" would\", phrase)\n",
    "    phrase = re.sub(r\"\\'ll\", \" will\", phrase)\n",
    "    phrase = re.sub(r\"\\'t\", \" not\", phrase)\n",
    "    phrase = re.sub(r\"\\'ve\", \" have\", phrase)\n",
    "    phrase = re.sub(r\"\\'m\", \" am\", phrase)\n",
    "    return phrase"
   ]
  },
  {
   "cell_type": "code",
   "execution_count": 12,
   "metadata": {
    "colab": {},
    "colab_type": "code",
    "id": "rqMUeFd8qzEt",
    "outputId": "be9e4dfa-15f1-424e-dc29-5239909adcb5"
   },
   "outputs": [
    {
     "name": "stdout",
     "output_type": "stream",
     "text": [
      "My kindergarten students have varied disabilities ranging from speech and language delays, cognitive delays, gross/fine motor delays, to autism. They are eager beavers and always strive to work their hardest working past their limitations. \\r\\n\\r\\nThe materials we have are the ones I seek out for my students. I teach in a Title I school where most of the students receive free or reduced price lunch.  Despite their disabilities and limitations, my students love coming to school and come eager to learn and explore.Have you ever felt like you had ants in your pants and you needed to groove and move as you were in a meeting? This is how my kids feel all the time. The want to be able to move as they learn or so they say.Wobble chairs are the answer and I love then because they develop their core, which enhances gross motor and in Turn fine motor skills. \\r\\nThey also want to learn through games, my kids do not want to sit and do worksheets. They want to learn to count by jumping and playing. Physical engagement is the key to our success. The number toss and color and shape mats can make that happen. My students will forget they are doing work and just have the fun a 6 year old deserves.nannan\n",
      "==================================================\n"
     ]
    }
   ],
   "source": [
    "sent = decontracted(project_data['essay'].values[20000])\n",
    "print(sent)\n",
    "print(\"=\"*50)"
   ]
  },
  {
   "cell_type": "code",
   "execution_count": 13,
   "metadata": {
    "colab": {},
    "colab_type": "code",
    "id": "HUkb_Y0nqzEx",
    "outputId": "b460e72a-c284-438e-b133-809f66746b78"
   },
   "outputs": [
    {
     "name": "stdout",
     "output_type": "stream",
     "text": [
      "My kindergarten students have varied disabilities ranging from speech and language delays, cognitive delays, gross/fine motor delays, to autism. They are eager beavers and always strive to work their hardest working past their limitations.     The materials we have are the ones I seek out for my students. I teach in a Title I school where most of the students receive free or reduced price lunch.  Despite their disabilities and limitations, my students love coming to school and come eager to learn and explore.Have you ever felt like you had ants in your pants and you needed to groove and move as you were in a meeting? This is how my kids feel all the time. The want to be able to move as they learn or so they say.Wobble chairs are the answer and I love then because they develop their core, which enhances gross motor and in Turn fine motor skills.   They also want to learn through games, my kids do not want to sit and do worksheets. They want to learn to count by jumping and playing. Physical engagement is the key to our success. The number toss and color and shape mats can make that happen. My students will forget they are doing work and just have the fun a 6 year old deserves.nannan\n"
     ]
    }
   ],
   "source": [
    "# \\r \\n \\t remove from string python: http://texthandler.com/info/remove-line-breaks-python/\n",
    "sent = sent.replace('\\\\r', ' ')\n",
    "sent = sent.replace('\\\\\"', ' ')\n",
    "sent = sent.replace('\\\\n', ' ')\n",
    "print(sent)"
   ]
  },
  {
   "cell_type": "code",
   "execution_count": 14,
   "metadata": {
    "colab": {},
    "colab_type": "code",
    "id": "ZSsIKikpqzE0",
    "outputId": "9a1c72d3-ed1d-4c6c-937e-ff4b9d5b1e3b"
   },
   "outputs": [
    {
     "name": "stdout",
     "output_type": "stream",
     "text": [
      "My kindergarten students have varied disabilities ranging from speech and language delays cognitive delays gross fine motor delays to autism They are eager beavers and always strive to work their hardest working past their limitations The materials we have are the ones I seek out for my students I teach in a Title I school where most of the students receive free or reduced price lunch Despite their disabilities and limitations my students love coming to school and come eager to learn and explore Have you ever felt like you had ants in your pants and you needed to groove and move as you were in a meeting This is how my kids feel all the time The want to be able to move as they learn or so they say Wobble chairs are the answer and I love then because they develop their core which enhances gross motor and in Turn fine motor skills They also want to learn through games my kids do not want to sit and do worksheets They want to learn to count by jumping and playing Physical engagement is the key to our success The number toss and color and shape mats can make that happen My students will forget they are doing work and just have the fun a 6 year old deserves nannan\n"
     ]
    }
   ],
   "source": [
    "#remove spacial character: https://stackoverflow.com/a/5843547/4084039\n",
    "sent = re.sub('[^A-Za-z0-9]+', ' ', sent)\n",
    "print(sent)"
   ]
  },
  {
   "cell_type": "code",
   "execution_count": 15,
   "metadata": {
    "colab": {},
    "colab_type": "code",
    "collapsed": true,
    "id": "rSj2A4X3qzE3"
   },
   "outputs": [],
   "source": [
    "# https://gist.github.com/sebleier/554280\n",
    "# we are removing the words from the stop words list: 'no', 'nor', 'not'\n",
    "stopwords= ['i', 'me', 'my', 'myself', 'we', 'our', 'ours', 'ourselves', 'you', \"you're\", \"you've\",\\\n",
    "            \"you'll\", \"you'd\", 'your', 'yours', 'yourself', 'yourselves', 'he', 'him', 'his', 'himself', \\\n",
    "            'she', \"she's\", 'her', 'hers', 'herself', 'it', \"it's\", 'its', 'itself', 'they', 'them', 'their',\\\n",
    "            'theirs', 'themselves', 'what', 'which', 'who', 'whom', 'this', 'that', \"that'll\", 'these', 'those', \\\n",
    "            'am', 'is', 'are', 'was', 'were', 'be', 'been', 'being', 'have', 'has', 'had', 'having', 'do', 'does', \\\n",
    "            'did', 'doing', 'a', 'an', 'the', 'and', 'but', 'if', 'or', 'because', 'as', 'until', 'while', 'of', \\\n",
    "            'at', 'by', 'for', 'with', 'about', 'against', 'between', 'into', 'through', 'during', 'before', 'after',\\\n",
    "            'above', 'below', 'to', 'from', 'up', 'down', 'in', 'out', 'on', 'off', 'over', 'under', 'again', 'further',\\\n",
    "            'then', 'once', 'here', 'there', 'when', 'where', 'why', 'how', 'all', 'any', 'both', 'each', 'few', 'more',\\\n",
    "            'most', 'other', 'some', 'such', 'only', 'own', 'same', 'so', 'than', 'too', 'very', \\\n",
    "            's', 't', 'can', 'will', 'just', 'don', \"don't\", 'should', \"should've\", 'now', 'd', 'll', 'm', 'o', 're', \\\n",
    "            've', 'y', 'ain', 'aren', \"aren't\", 'couldn', \"couldn't\", 'didn', \"didn't\", 'doesn', \"doesn't\", 'hadn',\\\n",
    "            \"hadn't\", 'hasn', \"hasn't\", 'haven', \"haven't\", 'isn', \"isn't\", 'ma', 'mightn', \"mightn't\", 'mustn',\\\n",
    "            \"mustn't\", 'needn', \"needn't\", 'shan', \"shan't\", 'shouldn', \"shouldn't\", 'wasn', \"wasn't\", 'weren', \"weren't\", \\\n",
    "            'won', \"won't\", 'wouldn', \"wouldn't\"]"
   ]
  },
  {
   "cell_type": "code",
   "execution_count": 16,
   "metadata": {
    "colab": {},
    "colab_type": "code",
    "id": "BVHat8CDqzE6",
    "outputId": "1be624b6-e607-402f-8f06-7b840ae9825c"
   },
   "outputs": [
    {
     "name": "stderr",
     "output_type": "stream",
     "text": [
      "100%|████████████████████████████████████████████████████████████████████████| 109248/109248 [01:37<00:00, 1118.25it/s]\n"
     ]
    }
   ],
   "source": [
    "# Combining all the above stundents \n",
    "from tqdm import tqdm\n",
    "preprocessed_essays = []\n",
    "# tqdm is for printing the status bar\n",
    "for sentance in tqdm(project_data['essay'].values):\n",
    "    sent = decontracted(sentance)\n",
    "    sent = sent.replace('\\\\r', ' ')\n",
    "    sent = sent.replace('\\\\\"', ' ')\n",
    "    sent = sent.replace('\\\\n', ' ')\n",
    "    sent = re.sub('[^A-Za-z0-9]+', ' ', sent)\n",
    "    # https://gist.github.com/sebleier/554280\n",
    "    sent = ' '.join(e for e in sent.split() if e not in stopwords)\n",
    "    preprocessed_essays.append(sent.lower().strip())"
   ]
  },
  {
   "cell_type": "code",
   "execution_count": 17,
   "metadata": {
    "colab": {},
    "colab_type": "code",
    "id": "lPE34vOSqzE9",
    "outputId": "279d7ec9-082f-4a5e-b3c0-3f6ba970cbab"
   },
   "outputs": [
    {
     "data": {
      "text/plain": [
       "'my kindergarten students varied disabilities ranging speech language delays cognitive delays gross fine motor delays autism they eager beavers always strive work hardest working past limitations the materials ones i seek students i teach title i school students receive free reduced price lunch despite disabilities limitations students love coming school come eager learn explore have ever felt like ants pants needed groove move meeting this kids feel time the want able move learn say wobble chairs answer i love develop core enhances gross motor turn fine motor skills they also want learn games kids not want sit worksheets they want learn count jumping playing physical engagement key success the number toss color shape mats make happen my students forget work fun 6 year old deserves nannan'"
      ]
     },
     "execution_count": 17,
     "metadata": {},
     "output_type": "execute_result"
    }
   ],
   "source": [
    "# after preprocesing\n",
    "preprocessed_essays[20000]"
   ]
  },
  {
   "cell_type": "markdown",
   "metadata": {
    "colab_type": "text",
    "id": "FWXHdTQuqzFA"
   },
   "source": [
    "<h2><font color='red'> 1.4 Preprocessing of `project_title`</font></h2>"
   ]
  },
  {
   "cell_type": "code",
   "execution_count": 18,
   "metadata": {
    "colab": {},
    "colab_type": "code",
    "collapsed": true,
    "id": "pYqmPFunqzFB"
   },
   "outputs": [],
   "source": [
    "# similarly you can preprocess the titles also"
   ]
  },
  {
   "cell_type": "code",
   "execution_count": 19,
   "metadata": {},
   "outputs": [
    {
     "name": "stderr",
     "output_type": "stream",
     "text": [
      "100%|███████████████████████████████████████████████████████████████████████| 109248/109248 [00:03<00:00, 30026.65it/s]\n"
     ]
    }
   ],
   "source": [
    "# similarly you can preprocess the titles also\n",
    "from tqdm import tqdm\n",
    "preprocessed_title = []\n",
    "# tqdm is for printing the status bar\n",
    "for sentance in tqdm(project_data['project_title'].values):\n",
    "    sent = decontracted(sentance)\n",
    "    sent = sent.replace('\\\\r', ' ')\n",
    "    sent = sent.replace('\\\\\"', ' ')\n",
    "    sent = sent.replace('\\\\n', ' ')\n",
    "    sent = re.sub('[^A-Za-z0-9]+', ' ', sent)\n",
    "    # https://gist.github.com/sebleier/554280\n",
    "    sent = ' '.join(e for e in sent.split() if e not in stopwords)\n",
    "    preprocessed_title.append(sent.lower().strip())"
   ]
  },
  {
   "cell_type": "markdown",
   "metadata": {
    "colab_type": "text",
    "id": "GNHTs-4dqzFC"
   },
   "source": [
    "## 1.5 Preparing data for models"
   ]
  },
  {
   "cell_type": "code",
   "execution_count": 20,
   "metadata": {
    "colab": {},
    "colab_type": "code",
    "id": "6JurQgqdqzFD",
    "outputId": "058ca8c5-f0f6-4923-908e-c4d6eff9e004"
   },
   "outputs": [
    {
     "data": {
      "text/plain": [
       "Index(['Unnamed: 0', 'id', 'teacher_id', 'teacher_prefix', 'school_state',\n",
       "       'project_submitted_datetime', 'project_grade_category', 'project_title',\n",
       "       'project_essay_1', 'project_essay_2', 'project_essay_3',\n",
       "       'project_essay_4', 'project_resource_summary',\n",
       "       'teacher_number_of_previously_posted_projects', 'project_is_approved',\n",
       "       'clean_categories', 'clean_subcategories', 'essay'],\n",
       "      dtype='object')"
      ]
     },
     "execution_count": 20,
     "metadata": {},
     "output_type": "execute_result"
    }
   ],
   "source": [
    "project_data.columns"
   ]
  },
  {
   "cell_type": "markdown",
   "metadata": {
    "colab_type": "text",
    "id": "wKNVjeVzqzFG"
   },
   "source": [
    "we are going to consider\n",
    "\n",
    "       - school_state : categorical data\n",
    "       - clean_categories : categorical data\n",
    "       - clean_subcategories : categorical data\n",
    "       - project_grade_category : categorical data\n",
    "       - teacher_prefix : categorical data\n",
    "       \n",
    "       - project_title : text data\n",
    "       - text : text data\n",
    "       - project_resource_summary: text data (optinal)\n",
    "       \n",
    "       - quantity : numerical (optinal)\n",
    "       - teacher_number_of_previously_posted_projects : numerical\n",
    "       - price : numerical"
   ]
  },
  {
   "cell_type": "markdown",
   "metadata": {
    "colab_type": "text",
    "id": "3wPSotkZqzFH"
   },
   "source": [
    "### 1.5.1 Vectorizing Categorical data"
   ]
  },
  {
   "cell_type": "markdown",
   "metadata": {
    "colab_type": "text",
    "id": "uHc7HKPbqzFH"
   },
   "source": [
    "- https://www.appliedaicourse.com/course/applied-ai-course-online/lessons/handling-categorical-and-numerical-features/"
   ]
  },
  {
   "cell_type": "code",
   "execution_count": 21,
   "metadata": {
    "colab": {},
    "colab_type": "code",
    "id": "BUvH2gX5qzFI",
    "outputId": "eb2ee18a-f177-4093-9c80-357c03a5d3cd"
   },
   "outputs": [
    {
     "name": "stdout",
     "output_type": "stream",
     "text": [
      "['Warmth', 'Care_Hunger', 'History_Civics', 'Music_Arts', 'AppliedLearning', 'SpecialNeeds', 'Health_Sports', 'Math_Science', 'Literacy_Language']\n",
      "Shape of matrix after one hot encodig  (109248, 9)\n"
     ]
    }
   ],
   "source": [
    "# we use count vectorizer to convert the values into one \n",
    "from sklearn.feature_extraction.text import CountVectorizer\n",
    "vectorizer = CountVectorizer(vocabulary=list(sorted_cat_dict.keys()), lowercase=False, binary=True)\n",
    "categories_one_hot = vectorizer.fit_transform(project_data['clean_categories'].values)\n",
    "print(vectorizer.get_feature_names())\n",
    "print(\"Shape of matrix after one hot encodig \",categories_one_hot.shape)"
   ]
  },
  {
   "cell_type": "code",
   "execution_count": 22,
   "metadata": {
    "colab": {},
    "colab_type": "code",
    "id": "8OC6W0XmqzFL",
    "outputId": "77c2f2ec-ea56-4f81-afea-dbf3b9c0485e"
   },
   "outputs": [
    {
     "name": "stdout",
     "output_type": "stream",
     "text": [
      "['Economics', 'CommunityService', 'FinancialLiteracy', 'ParentInvolvement', 'Extracurricular', 'Civics_Government', 'ForeignLanguages', 'NutritionEducation', 'Warmth', 'Care_Hunger', 'SocialSciences', 'PerformingArts', 'CharacterEducation', 'TeamSports', 'Other', 'College_CareerPrep', 'Music', 'History_Geography', 'Health_LifeScience', 'EarlyDevelopment', 'ESL', 'Gym_Fitness', 'EnvironmentalScience', 'VisualArts', 'Health_Wellness', 'AppliedSciences', 'SpecialNeeds', 'Literature_Writing', 'Mathematics', 'Literacy']\n",
      "Shape of matrix after one hot encodig  (109248, 30)\n"
     ]
    }
   ],
   "source": [
    "# we use count vectorizer to convert the values into one \n",
    "vectorizer = CountVectorizer(vocabulary=list(sorted_sub_cat_dict.keys()), lowercase=False, binary=True)\n",
    "sub_categories_one_hot = vectorizer.fit_transform(project_data['clean_subcategories'].values)\n",
    "print(vectorizer.get_feature_names())\n",
    "print(\"Shape of matrix after one hot encodig \",sub_categories_one_hot.shape)"
   ]
  },
  {
   "cell_type": "code",
   "execution_count": 23,
   "metadata": {
    "colab": {},
    "colab_type": "code",
    "collapsed": true,
    "id": "815aLaItqzFO"
   },
   "outputs": [],
   "source": [
    "# you can do the similar thing with state, teacher_prefix and project_grade_category also"
   ]
  },
  {
   "cell_type": "code",
   "execution_count": 24,
   "metadata": {},
   "outputs": [
    {
     "name": "stdout",
     "output_type": "stream",
     "text": [
      "['AK', 'AL', 'AR', 'AZ', 'CA', 'CO', 'CT', 'DC', 'DE', 'FL', 'GA', 'HI', 'IA', 'ID', 'IL', 'IN', 'KS', 'KY', 'LA', 'MA', 'MD', 'ME', 'MI', 'MN', 'MO', 'MS', 'MT', 'NC', 'ND', 'NE', 'NH', 'NJ', 'NM', 'NV', 'NY', 'OH', 'OK', 'OR', 'PA', 'RI', 'SC', 'SD', 'TN', 'TX', 'UT', 'VA', 'VT', 'WA', 'WI', 'WV', 'WY']\n",
      "Shape of matrix after one hot encodig  (109248, 51)\n"
     ]
    }
   ],
   "source": [
    "vectorizer = CountVectorizer(lowercase=False, binary=True)\n",
    "vectorizer.fit(project_data['school_state'].values)\n",
    "print(vectorizer.get_feature_names())\n",
    "school_state_one_hot = vectorizer.transform(project_data['school_state'].values)\n",
    "print(\"Shape of matrix after one hot encodig \",school_state_one_hot.shape)"
   ]
  },
  {
   "cell_type": "code",
   "execution_count": 25,
   "metadata": {},
   "outputs": [
    {
     "name": "stdout",
     "output_type": "stream",
     "text": [
      "['Dr', 'Mr', 'Mrs', 'Ms', 'Teacher', 'nan']\n",
      "Shape of matrix after one hot encodig  (109248, 6)\n"
     ]
    }
   ],
   "source": [
    "vectorizer = CountVectorizer(lowercase=False, binary=True)\n",
    "vectorizer.fit(project_data['teacher_prefix'].values.astype('U'))\n",
    "print(vectorizer.get_feature_names())\n",
    "teacher_prefix_one_hot = vectorizer.transform(project_data['teacher_prefix'].values.astype('U'))\n",
    "print(\"Shape of matrix after one hot encodig \",teacher_prefix_one_hot.shape)"
   ]
  },
  {
   "cell_type": "code",
   "execution_count": 26,
   "metadata": {},
   "outputs": [
    {
     "name": "stdout",
     "output_type": "stream",
     "text": [
      "['12', 'Grades', 'PreK']\n",
      "Shape of matrix after one hot encodig  (109248, 3)\n"
     ]
    }
   ],
   "source": [
    "vectorizer = CountVectorizer(lowercase=False,binary=True)\n",
    "vectorizer.fit(project_data['project_grade_category'].values.astype('U'))\n",
    "print(vectorizer.get_feature_names())\n",
    "project_grade_category_one_hot = vectorizer.transform(project_data['project_grade_category'].values.astype('U'))\n",
    "print(\"Shape of matrix after one hot encodig \",project_grade_category_one_hot.shape)"
   ]
  },
  {
   "cell_type": "code",
   "execution_count": null,
   "metadata": {
    "collapsed": true
   },
   "outputs": [],
   "source": []
  },
  {
   "cell_type": "markdown",
   "metadata": {
    "colab_type": "text",
    "id": "noI4mG-xqzFQ"
   },
   "source": [
    "### 1.5.2 Vectorizing Text data"
   ]
  },
  {
   "cell_type": "markdown",
   "metadata": {
    "colab_type": "text",
    "id": "gAopW81iqzFQ"
   },
   "source": [
    "#### 1.5.2.1 Bag of words"
   ]
  },
  {
   "cell_type": "code",
   "execution_count": 27,
   "metadata": {
    "colab": {},
    "colab_type": "code",
    "id": "hsg6RAREqzFR",
    "outputId": "feac099f-a576-4b0f-b227-14acad2c4b45"
   },
   "outputs": [
    {
     "name": "stdout",
     "output_type": "stream",
     "text": [
      "Shape of matrix after one hot encodig  (109248, 16623)\n"
     ]
    }
   ],
   "source": [
    "# We are considering only the words which appeared in at least 10 documents(rows or projects).\n",
    "vectorizer = CountVectorizer(min_df=10)\n",
    "text_bow = vectorizer.fit_transform(preprocessed_essays)\n",
    "print(\"Shape of matrix after one hot encodig \",text_bow.shape)"
   ]
  },
  {
   "cell_type": "code",
   "execution_count": 28,
   "metadata": {
    "colab": {},
    "colab_type": "code",
    "collapsed": true,
    "id": "WUfdFK3qqzFT"
   },
   "outputs": [],
   "source": [
    "# you can vectorize the title also \n",
    "# before you vectorize the title make sure you preprocess it"
   ]
  },
  {
   "cell_type": "code",
   "execution_count": 29,
   "metadata": {},
   "outputs": [
    {
     "name": "stdout",
     "output_type": "stream",
     "text": [
      "Shape of matrix after one hot encodig  (109248, 3329)\n"
     ]
    }
   ],
   "source": [
    "vectorizer = CountVectorizer(min_df=10)\n",
    "text_bow_title = vectorizer.fit_transform(preprocessed_title)\n",
    "print(\"Shape of matrix after one hot encodig \",text_bow_title.shape)"
   ]
  },
  {
   "cell_type": "markdown",
   "metadata": {
    "colab_type": "text",
    "id": "tvqx8dKSqzFV"
   },
   "source": [
    "#### 1.5.2.2 TFIDF vectorizer"
   ]
  },
  {
   "cell_type": "code",
   "execution_count": 30,
   "metadata": {
    "colab": {},
    "colab_type": "code",
    "id": "CqDGQ6PoqzFV",
    "outputId": "1c3c9e2e-a07e-4fac-cf57-aabb896d8280"
   },
   "outputs": [
    {
     "name": "stdout",
     "output_type": "stream",
     "text": [
      "Shape of matrix after one hot encodig  (109248, 16623)\n"
     ]
    }
   ],
   "source": [
    "from sklearn.feature_extraction.text import TfidfVectorizer\n",
    "vectorizer = TfidfVectorizer(min_df=10)\n",
    "text_tfidf = vectorizer.fit_transform(preprocessed_essays)\n",
    "print(\"Shape of matrix after one hot encodig \",text_tfidf.shape)"
   ]
  },
  {
   "cell_type": "code",
   "execution_count": 31,
   "metadata": {},
   "outputs": [
    {
     "name": "stdout",
     "output_type": "stream",
     "text": [
      "Shape of matrix after one hot encodig  (109248, 3329)\n"
     ]
    }
   ],
   "source": [
    "# Similarly you can vectorize for title also\n",
    "from sklearn.feature_extraction.text import TfidfVectorizer\n",
    "vectorizer = TfidfVectorizer(min_df=10)\n",
    "text_tfidf_title = vectorizer.fit_transform(preprocessed_title)\n",
    "print(\"Shape of matrix after one hot encodig \",text_tfidf_title.shape)"
   ]
  },
  {
   "cell_type": "markdown",
   "metadata": {
    "colab_type": "text",
    "id": "x9aLUNrQqzFX"
   },
   "source": [
    "#### 1.5.2.3 Using Pretrained Models: Avg W2V"
   ]
  },
  {
   "cell_type": "code",
   "execution_count": 0,
   "metadata": {
    "colab": {},
    "colab_type": "code",
    "id": "7LJl1YhZqzFY",
    "outputId": "33517b38-9632-4fa2-b551-405fe5e19abc"
   },
   "outputs": [
    {
     "data": {
      "text/plain": [
       "'\\n# Reading glove vectors in python: https://stackoverflow.com/a/38230349/4084039\\ndef loadGloveModel(gloveFile):\\n    print (\"Loading Glove Model\")\\n    f = open(gloveFile,\\'r\\', encoding=\"utf8\")\\n    model = {}\\n    for line in tqdm(f):\\n        splitLine = line.split()\\n        word = splitLine[0]\\n        embedding = np.array([float(val) for val in splitLine[1:]])\\n        model[word] = embedding\\n    print (\"Done.\",len(model),\" words loaded!\")\\n    return model\\nmodel = loadGloveModel(\\'glove.42B.300d.txt\\')\\n\\n# ============================\\nOutput:\\n    \\nLoading Glove Model\\n1917495it [06:32, 4879.69it/s]\\nDone. 1917495  words loaded!\\n\\n# ============================\\n\\nwords = []\\nfor i in preproced_texts:\\n    words.extend(i.split(\\' \\'))\\n\\nfor i in preproced_titles:\\n    words.extend(i.split(\\' \\'))\\nprint(\"all the words in the coupus\", len(words))\\nwords = set(words)\\nprint(\"the unique words in the coupus\", len(words))\\n\\ninter_words = set(model.keys()).intersection(words)\\nprint(\"The number of words that are present in both glove vectors and our coupus\",       len(inter_words),\"(\",np.round(len(inter_words)/len(words)*100,3),\"%)\")\\n\\nwords_courpus = {}\\nwords_glove = set(model.keys())\\nfor i in words:\\n    if i in words_glove:\\n        words_courpus[i] = model[i]\\nprint(\"word 2 vec length\", len(words_courpus))\\n\\n\\n# stronging variables into pickle files python: http://www.jessicayung.com/how-to-use-pickle-to-save-and-load-variables-in-python/\\n\\nimport pickle\\nwith open(\\'glove_vectors\\', \\'wb\\') as f:\\n    pickle.dump(words_courpus, f)\\n\\n\\n'"
      ]
     },
     "execution_count": 26,
     "metadata": {
      "tags": []
     },
     "output_type": "execute_result"
    }
   ],
   "source": [
    "'''\n",
    "# Reading glove vectors in python: https://stackoverflow.com/a/38230349/4084039\n",
    "def loadGloveModel(gloveFile):\n",
    "    print (\"Loading Glove Model\")\n",
    "    f = open(gloveFile,'r', encoding=\"utf8\")\n",
    "    model = {}\n",
    "    for line in tqdm(f):\n",
    "        splitLine = line.split()\n",
    "        word = splitLine[0]\n",
    "        embedding = np.array([float(val) for val in splitLine[1:]])\n",
    "        model[word] = embedding\n",
    "    print (\"Done.\",len(model),\" words loaded!\")\n",
    "    return model\n",
    "model = loadGloveModel('glove.42B.300d.txt')\n",
    "\n",
    "# ============================\n",
    "Output:\n",
    "    \n",
    "Loading Glove Model\n",
    "1917495it [06:32, 4879.69it/s]\n",
    "Done. 1917495  words loaded!\n",
    "\n",
    "# ============================\n",
    "\n",
    "words = []\n",
    "for i in preproced_texts:\n",
    "    words.extend(i.split(' '))\n",
    "\n",
    "for i in preproced_titles:\n",
    "    words.extend(i.split(' '))\n",
    "print(\"all the words in the coupus\", len(words))\n",
    "words = set(words)\n",
    "print(\"the unique words in the coupus\", len(words))\n",
    "\n",
    "inter_words = set(model.keys()).intersection(words)\n",
    "print(\"The number of words that are present in both glove vectors and our coupus\", \\\n",
    "      len(inter_words),\"(\",np.round(len(inter_words)/len(words)*100,3),\"%)\")\n",
    "\n",
    "words_courpus = {}\n",
    "words_glove = set(model.keys())\n",
    "for i in words:\n",
    "    if i in words_glove:\n",
    "        words_courpus[i] = model[i]\n",
    "print(\"word 2 vec length\", len(words_courpus))\n",
    "\n",
    "\n",
    "# stronging variables into pickle files python: http://www.jessicayung.com/how-to-use-pickle-to-save-and-load-variables-in-python/\n",
    "\n",
    "import pickle\n",
    "with open('glove_vectors', 'wb') as f:\n",
    "    pickle.dump(words_courpus, f)\n",
    "\n",
    "\n",
    "'''"
   ]
  },
  {
   "cell_type": "code",
   "execution_count": 32,
   "metadata": {
    "colab": {},
    "colab_type": "code",
    "collapsed": true,
    "id": "HHVf3DJZqzFa"
   },
   "outputs": [],
   "source": [
    "# stronging variables into pickle files python: http://www.jessicayung.com/how-to-use-pickle-to-save-and-load-variables-in-python/\n",
    "# make sure you have the glove_vectors file\n",
    "with open('glove_vectors', 'rb') as f:\n",
    "    model = pickle.load(f)\n",
    "    glove_words =  set(model.keys())"
   ]
  },
  {
   "cell_type": "code",
   "execution_count": 33,
   "metadata": {
    "colab": {},
    "colab_type": "code",
    "id": "29qa4IUdqzFb",
    "outputId": "e756850a-4e2c-4c57-b362-8bfb4c974478",
    "scrolled": true
   },
   "outputs": [
    {
     "name": "stderr",
     "output_type": "stream",
     "text": [
      "100%|████████████████████████████████████████████████████████████████████████| 109248/109248 [00:45<00:00, 2413.25it/s]\n"
     ]
    },
    {
     "name": "stdout",
     "output_type": "stream",
     "text": [
      "109248\n",
      "300\n"
     ]
    }
   ],
   "source": [
    "# average Word2Vec\n",
    "# compute average word2vec for each review.\n",
    "avg_w2v_vectors = []; # the avg-w2v for each sentence/review is stored in this list\n",
    "for sentence in tqdm(preprocessed_essays): # for each review/sentence\n",
    "    vector = np.zeros(300) # as word vectors are of zero length\n",
    "    cnt_words =0; # num of words with a valid vector in the sentence/review\n",
    "    for word in sentence.split(): # for each word in a review/sentence\n",
    "        if word in glove_words:\n",
    "            vector += model[word]\n",
    "            cnt_words += 1\n",
    "    if cnt_words != 0:\n",
    "        vector /= cnt_words\n",
    "    avg_w2v_vectors.append(vector)\n",
    "\n",
    "print(len(avg_w2v_vectors))\n",
    "print(len(avg_w2v_vectors[0]))"
   ]
  },
  {
   "cell_type": "code",
   "execution_count": 34,
   "metadata": {},
   "outputs": [
    {
     "name": "stderr",
     "output_type": "stream",
     "text": [
      "100%|███████████████████████████████████████████████████████████████████████| 109248/109248 [00:02<00:00, 43775.01it/s]\n"
     ]
    },
    {
     "name": "stdout",
     "output_type": "stream",
     "text": [
      "109248\n",
      "300\n"
     ]
    }
   ],
   "source": [
    "# Similarly you can vectorize for title also\n",
    "# average Word2Vec\n",
    "# compute average word2vec for each review.\n",
    "avg_w2v_vectors_title = []; # the avg-w2v for each sentence/review is stored in this list\n",
    "for sentence in tqdm(preprocessed_title): # for each review/sentence\n",
    "    vector = np.zeros(300) # as word vectors are of zero length\n",
    "    cnt_words =0; # num of words with a valid vector in the sentence/review\n",
    "    for word in sentence.split(): # for each word in a review/sentence\n",
    "        if word in glove_words:\n",
    "            vector += model[word]\n",
    "            cnt_words += 1\n",
    "    if cnt_words != 0:\n",
    "        vector /= cnt_words\n",
    "    avg_w2v_vectors_title.append(vector)\n",
    "\n",
    "print(len(avg_w2v_vectors_title))\n",
    "print(len(avg_w2v_vectors_title[0]))"
   ]
  },
  {
   "cell_type": "markdown",
   "metadata": {
    "colab_type": "text",
    "id": "HGCSvZChqzFd"
   },
   "source": [
    "#### 1.5.2.3 Using Pretrained Models: TFIDF weighted W2V"
   ]
  },
  {
   "cell_type": "code",
   "execution_count": 35,
   "metadata": {
    "colab": {},
    "colab_type": "code",
    "collapsed": true,
    "id": "XJjzRnfgqzFe"
   },
   "outputs": [],
   "source": [
    "# S = [\"abc def pqr\", \"def def def abc\", \"pqr pqr def\"]\n",
    "tfidf_model = TfidfVectorizer()\n",
    "tfidf_model.fit(preprocessed_essays)\n",
    "# we are converting a dictionary with word as a key, and the idf as a value\n",
    "dictionary = dict(zip(tfidf_model.get_feature_names(), list(tfidf_model.idf_)))\n",
    "tfidf_words = set(tfidf_model.get_feature_names())"
   ]
  },
  {
   "cell_type": "code",
   "execution_count": 36,
   "metadata": {
    "colab": {},
    "colab_type": "code",
    "id": "NjpXWTMmqzFf",
    "outputId": "a0bdd061-ed97-4082-b14e-3d5b4ed90094",
    "scrolled": true
   },
   "outputs": [
    {
     "name": "stderr",
     "output_type": "stream",
     "text": [
      "100%|█████████████████████████████████████████████████████████████████████████| 109248/109248 [05:21<00:00, 339.72it/s]\n"
     ]
    },
    {
     "name": "stdout",
     "output_type": "stream",
     "text": [
      "109248\n",
      "300\n"
     ]
    }
   ],
   "source": [
    "# average Word2Vec\n",
    "# compute average word2vec for each review.\n",
    "tfidf_w2v_vectors = []; # the avg-w2v for each sentence/review is stored in this list\n",
    "for sentence in tqdm(preprocessed_essays): # for each review/sentence\n",
    "    vector = np.zeros(300) # as word vectors are of zero length\n",
    "    tf_idf_weight =0; # num of words with a valid vector in the sentence/review\n",
    "    for word in sentence.split(): # for each word in a review/sentence\n",
    "        if (word in glove_words) and (word in tfidf_words):\n",
    "            vec = model[word] # getting the vector for each word\n",
    "            # here we are multiplying idf value(dictionary[word]) and the tf value((sentence.count(word)/len(sentence.split())))\n",
    "            tf_idf = dictionary[word]*(sentence.count(word)/len(sentence.split())) # getting the tfidf value for each word\n",
    "            vector += (vec * tf_idf) # calculating tfidf weighted w2v\n",
    "            tf_idf_weight += tf_idf\n",
    "    if tf_idf_weight != 0:\n",
    "        vector /= tf_idf_weight\n",
    "    tfidf_w2v_vectors.append(vector)\n",
    "\n",
    "print(len(tfidf_w2v_vectors))\n",
    "print(len(tfidf_w2v_vectors[0]))"
   ]
  },
  {
   "cell_type": "code",
   "execution_count": 37,
   "metadata": {
    "colab": {},
    "colab_type": "code",
    "collapsed": true,
    "id": "QUGJck8WqzFh"
   },
   "outputs": [],
   "source": [
    "# Similarly you can vectorize for title also"
   ]
  },
  {
   "cell_type": "code",
   "execution_count": 38,
   "metadata": {
    "collapsed": true
   },
   "outputs": [],
   "source": [
    "# S = [\"abc def pqr\", \"def def def abc\", \"pqr pqr def\"]\n",
    "tfidf_model = TfidfVectorizer()\n",
    "tfidf_model.fit(preprocessed_title)\n",
    "# we are converting a dictionary with word as a key, and the idf as a value\n",
    "dictionary = dict(zip(tfidf_model.get_feature_names(), list(tfidf_model.idf_)))\n",
    "tfidf_words = set(tfidf_model.get_feature_names())"
   ]
  },
  {
   "cell_type": "code",
   "execution_count": 39,
   "metadata": {},
   "outputs": [
    {
     "name": "stderr",
     "output_type": "stream",
     "text": [
      "100%|███████████████████████████████████████████████████████████████████████| 109248/109248 [00:04<00:00, 23316.32it/s]\n"
     ]
    },
    {
     "name": "stdout",
     "output_type": "stream",
     "text": [
      "109248\n",
      "300\n"
     ]
    }
   ],
   "source": [
    "# Similarly you can vectorize for title also\n",
    "# average Word2Vec\n",
    "# compute average word2vec for each review.\n",
    "tfidf_w2v_vectors_title = []; # the avg-w2v for each sentence/review is stored in this list\n",
    "for sentence in tqdm(preprocessed_title): # for each review/sentence\n",
    "    vector = np.zeros(300) # as word vectors are of zero length\n",
    "    tf_idf_weight =0; # num of words with a valid vector in the sentence/review\n",
    "    for word in sentence.split(): # for each word in a review/sentence\n",
    "        if (word in glove_words) and (word in tfidf_words):\n",
    "            vec = model[word] # getting the vector for each word\n",
    "            # here we are multiplying idf value(dictionary[word]) and the tf value((sentence.count(word)/len(sentence.split())))\n",
    "            tf_idf = dictionary[word]*(sentence.count(word)/len(sentence.split())) # getting the tfidf value for each word\n",
    "            vector += (vec * tf_idf) # calculating tfidf weighted w2v\n",
    "            tf_idf_weight += tf_idf\n",
    "    if tf_idf_weight != 0:\n",
    "        vector /= tf_idf_weight\n",
    "    tfidf_w2v_vectors_title.append(vector)\n",
    "\n",
    "print(len(tfidf_w2v_vectors_title))\n",
    "print(len(tfidf_w2v_vectors_title[0]))"
   ]
  },
  {
   "cell_type": "markdown",
   "metadata": {
    "colab_type": "text",
    "id": "A04BAQemqzFj"
   },
   "source": [
    "### 1.5.3 Vectorizing Numerical features"
   ]
  },
  {
   "cell_type": "code",
   "execution_count": 40,
   "metadata": {
    "colab": {},
    "colab_type": "code",
    "collapsed": true,
    "id": "7zOSXfCzqzFj"
   },
   "outputs": [],
   "source": [
    "price_data = resource_data.groupby('id').agg({'price':'sum', 'quantity':'sum'}).reset_index()\n",
    "project_data = pd.merge(project_data, price_data, on='id', how='left')"
   ]
  },
  {
   "cell_type": "markdown",
   "metadata": {},
   "source": [
    "__Normalizing the numerical features: Price__"
   ]
  },
  {
   "cell_type": "code",
   "execution_count": 41,
   "metadata": {
    "colab": {},
    "colab_type": "code",
    "id": "1-RBlcvDqzFk"
   },
   "outputs": [
    {
     "name": "stdout",
     "output_type": "stream",
     "text": [
      "Mean : 298.1193425966608, Standard deviation : 367.49634838483496\n"
     ]
    }
   ],
   "source": [
    "# check this one: https://www.youtube.com/watch?v=0HOqOcln3Z4&t=530s\n",
    "# standardization sklearn: https://scikit-learn.org/stable/modules/generated/sklearn.preprocessing.StandardScaler.html\n",
    "from sklearn.preprocessing import StandardScaler\n",
    "\n",
    "# price_standardized = standardScalar.fit(project_data['price'].values)\n",
    "# this will rise the error\n",
    "# ValueError: Expected 2D array, got 1D array instead: array=[725.05 213.03 329.   ... 399.   287.73   5.5 ].\n",
    "# Reshape your data either using array.reshape(-1, 1)\n",
    "\n",
    "price_scalar = StandardScaler()\n",
    "price_scalar.fit(project_data['price'].values.reshape(-1,1)) # finding the mean and standard deviation of this data\n",
    "print(f\"Mean : {price_scalar.mean_[0]}, Standard deviation : {np.sqrt(price_scalar.var_[0])}\")\n",
    "\n",
    "# Now standardize the data with above maen and variance.\n",
    "price_standardized = price_scalar.transform(project_data['price'].values.reshape(-1, 1))"
   ]
  },
  {
   "cell_type": "code",
   "execution_count": 42,
   "metadata": {
    "colab": {},
    "colab_type": "code",
    "id": "BjcejKpCqzFm",
    "outputId": "8f569eb7-d512-4513-aa19-5df82652ea9c"
   },
   "outputs": [
    {
     "data": {
      "text/plain": [
       "array([[-0.3905327 ],\n",
       "       [ 0.00239637],\n",
       "       [ 0.59519138],\n",
       "       ...,\n",
       "       [-0.15825829],\n",
       "       [-0.61243967],\n",
       "       [-0.51216657]])"
      ]
     },
     "execution_count": 42,
     "metadata": {},
     "output_type": "execute_result"
    }
   ],
   "source": [
    "price_standardized"
   ]
  },
  {
   "cell_type": "markdown",
   "metadata": {},
   "source": [
    "__Normalizing the numerical features: quantity__"
   ]
  },
  {
   "cell_type": "code",
   "execution_count": 43,
   "metadata": {},
   "outputs": [
    {
     "name": "stdout",
     "output_type": "stream",
     "text": [
      "Mean : 16.965610354422964, Standard deviation : 26.182821919093175\n"
     ]
    }
   ],
   "source": [
    "# check this one: https://www.youtube.com/watch?v=0HOqOcln3Z4&t=530s\n",
    "# standardization sklearn: https://scikit-learn.org/stable/modules/generated/sklearn.preprocessing.StandardScaler.html\n",
    "from sklearn.preprocessing import StandardScaler\n",
    "\n",
    "# price_standardized = standardScalar.fit(project_data['price'].values)\n",
    "# this will rise the error\n",
    "# ValueError: Expected 2D array, got 1D array instead: array=[725.05 213.03 329.   ... 399.   287.73   5.5 ].\n",
    "# Reshape your data either using array.reshape(-1, 1)\n",
    "\n",
    "quantity_scalar = StandardScaler()\n",
    "quantity_scalar.fit(project_data['quantity'].values.reshape(-1,1)) # finding the mean and standard deviation of this data\n",
    "print(f\"Mean : {quantity_scalar.mean_[0]}, Standard deviation : {np.sqrt(quantity_scalar.var_[0])}\")\n",
    "\n",
    "# Now standardize the data with above maen and variance.\n",
    "quantity_standardized = quantity_scalar.transform(project_data['quantity'].values.reshape(-1, 1))"
   ]
  },
  {
   "cell_type": "markdown",
   "metadata": {
    "colab_type": "text",
    "id": "_LJvvQBPqzFo"
   },
   "source": [
    "### 1.5.4 Merging all the above features"
   ]
  },
  {
   "cell_type": "markdown",
   "metadata": {
    "colab_type": "text",
    "id": "t3XAPhHtqzFo"
   },
   "source": [
    "- we need to merge all the numerical vectors i.e catogorical, text, numerical vectors"
   ]
  },
  {
   "cell_type": "code",
   "execution_count": 44,
   "metadata": {
    "colab": {},
    "colab_type": "code",
    "id": "_VeOpJi0qzFp",
    "outputId": "13fed116-02c4-492d-e00a-d8fac1479d39"
   },
   "outputs": [
    {
     "name": "stdout",
     "output_type": "stream",
     "text": [
      "(109248, 9)\n",
      "(109248, 30)\n",
      "(109248, 16623)\n",
      "(109248, 1)\n"
     ]
    }
   ],
   "source": [
    "print(categories_one_hot.shape)\n",
    "print(sub_categories_one_hot.shape)\n",
    "print(text_bow.shape)\n",
    "print(price_standardized.shape)"
   ]
  },
  {
   "cell_type": "code",
   "execution_count": 90,
   "metadata": {
    "colab": {},
    "colab_type": "code",
    "id": "4tZ5SQGwqzFr",
    "outputId": "8ea77750-ad13-4b53-eeff-d987a9f50db5"
   },
   "outputs": [
    {
     "data": {
      "text/plain": [
       "(109248, 2808)"
      ]
     },
     "execution_count": 90,
     "metadata": {},
     "output_type": "execute_result"
    }
   ],
   "source": [
    "# merge two sparse matrices: https://stackoverflow.com/a/19710648/4084039\n",
    "from scipy.sparse import hstack\n",
    "# with the same hstack function we are concatinating a sparse matrix and a dense matirx :)\n",
    "X = hstack((vec_essay,vec_title,vec_essay_title,school_state_one_hot, teacher_prefix_one_hot, project_grade_category_one_hot,sub_categories_one_hot,categories_one_hot,price_standardized,quantity_standardized,num_words_essay_standardized,num_words_title_standardized,tnoppp_standardized,project_data['compound_sent_score'].reshape(-1,1),project_data['positive_sent_score'].reshape(-1,1),project_data['negative_sent_score'].reshape(-1,1),project_data['neutral_sent_score'].reshape(-1,1)))\n",
    "X.shape"
   ]
  },
  {
   "cell_type": "code",
   "execution_count": 46,
   "metadata": {
    "colab": {},
    "colab_type": "code",
    "collapsed": true,
    "id": "dRtYPKjCqzFt"
   },
   "outputs": [],
   "source": [
    "# please write all the code with proper documentation, and proper titles for each subsection\n",
    "# when you plot any graph make sure you use \n",
    "    # a. Title, that describes your plot, this will be very helpful to the reader\n",
    "    # b. Legends if needed\n",
    "    # c. X-axis label\n",
    "    # d. Y-axis label"
   ]
  },
  {
   "cell_type": "markdown",
   "metadata": {
    "colab_type": "text",
    "id": "0pVkRVl3qzFu"
   },
   "source": [
    "__ Computing Sentiment Scores__"
   ]
  },
  {
   "cell_type": "code",
   "execution_count": 47,
   "metadata": {
    "colab": {},
    "colab_type": "code",
    "id": "m-7CnGTkqzFv",
    "outputId": "52a69fc9-e79e-42ae-b525-2d7186f492a2"
   },
   "outputs": [
    {
     "name": "stdout",
     "output_type": "stream",
     "text": [
      "neg: 0.01, neu: 0.745, pos: 0.245, compound: 0.9975, "
     ]
    }
   ],
   "source": [
    "import nltk\n",
    "from nltk.sentiment.vader import SentimentIntensityAnalyzer\n",
    "\n",
    "# import nltk\n",
    "# nltk.download('vader_lexicon')\n",
    "\n",
    "sid = SentimentIntensityAnalyzer()\n",
    "\n",
    "for_sentiment = 'a person is a person no matter how small dr seuss i teach the smallest students with the biggest enthusiasm \\\n",
    "for learning my students learn in many different ways using all of our senses and multiple intelligences i use a wide range\\\n",
    "of techniques to help all my students succeed students in my class come from a variety of different backgrounds which makes\\\n",
    "for wonderful sharing of experiences and cultures including native americans our school is a caring community of successful \\\n",
    "learners which can be seen through collaborative student project based learning in and out of the classroom kindergarteners \\\n",
    "in my class love to work with hands on materials and have many different opportunities to practice a skill before it is\\\n",
    "mastered having the social skills to work cooperatively with friends is a crucial aspect of the kindergarten curriculum\\\n",
    "montana is the perfect place to learn about agriculture and nutrition my students love to role play in our pretend kitchen\\\n",
    "in the early childhood classroom i have had several kids ask me can we try cooking with real food i will take their idea \\\n",
    "and create common core cooking lessons where we learn important math and writing concepts while cooking delicious healthy \\\n",
    "food for snack time my students will have a grounded appreciation for the work that went into making the food and knowledge \\\n",
    "of where the ingredients came from as well as how it is healthy for their bodies this project would expand our learning of \\\n",
    "nutrition and agricultural cooking recipes by having us peel our own apples to make homemade applesauce make our own bread \\\n",
    "and mix up healthy plants from our classroom garden in the spring we will also create our own cookbooks to be printed and \\\n",
    "shared with families students will gain math and literature skills as well as a life long enjoyment for healthy cooking \\\n",
    "nannan'\n",
    "ss = sid.polarity_scores(for_sentiment)\n",
    "\n",
    "for k in ss:\n",
    "    print('{0}: {1}, '.format(k, ss[k]), end='')\n",
    "\n",
    "# we can use these 4 things as features/attributes (neg, neu, pos, compound)\n",
    "# neg: 0.01, neu: 0.745, pos: 0.245, compound: 0.9975"
   ]
  },
  {
   "cell_type": "code",
   "execution_count": 48,
   "metadata": {},
   "outputs": [
    {
     "name": "stderr",
     "output_type": "stream",
     "text": [
      "100%|█████████████████████████████████████████████████████████████████████████| 109248/109248 [04:49<00:00, 376.88it/s]\n"
     ]
    }
   ],
   "source": [
    "compound_score = []\n",
    "neg_score = []\n",
    "neu_score = []\n",
    "pos_score = []\n",
    "\n",
    "for i in tqdm(range(len(project_data['essay']))) :\n",
    "    ss = sid.polarity_scores(preprocessed_essays[i])\n",
    "    compound_score.append(ss['compound'])\n",
    "    neu_score.append(ss['neu'])\n",
    "    neg_score.append(ss['neg'])\n",
    "    pos_score.append(ss['pos'])"
   ]
  },
  {
   "cell_type": "markdown",
   "metadata": {},
   "source": [
    "__ Computing Number of Words in preprocessed essays__"
   ]
  },
  {
   "cell_type": "code",
   "execution_count": 49,
   "metadata": {},
   "outputs": [
    {
     "name": "stderr",
     "output_type": "stream",
     "text": [
      "100%|███████████████████████████████████████████████████████████████████████| 109248/109248 [00:01<00:00, 59769.35it/s]\n"
     ]
    }
   ],
   "source": [
    "num_words_essay = []\n",
    "for i in tqdm(range(len(project_data['essay']))) :\n",
    "    string = preprocessed_essays[i]\n",
    "    tokens = string.split()\n",
    "    n_tokens = len(tokens)\n",
    "    num_words_essay.append(n_tokens)"
   ]
  },
  {
   "cell_type": "markdown",
   "metadata": {},
   "source": [
    "__ Computing Number of Words in preprocessed Titles__"
   ]
  },
  {
   "cell_type": "code",
   "execution_count": 50,
   "metadata": {},
   "outputs": [
    {
     "name": "stderr",
     "output_type": "stream",
     "text": [
      "100%|██████████████████████████████████████████████████████████████████████| 109248/109248 [00:00<00:00, 593877.59it/s]\n"
     ]
    }
   ],
   "source": [
    "num_words_title = []\n",
    "for i in tqdm(range(len(project_data['project_title']))) :\n",
    "    string = preprocessed_title[i]\n",
    "    tokens = string.split()\n",
    "    n_tokens = len(tokens)\n",
    "    num_words_title.append(n_tokens)"
   ]
  },
  {
   "cell_type": "markdown",
   "metadata": {},
   "source": [
    "__ Displaying all the features combined__"
   ]
  },
  {
   "cell_type": "code",
   "execution_count": 51,
   "metadata": {
    "collapsed": true
   },
   "outputs": [],
   "source": [
    "project_data['num_words_essay'] = num_words_essay\n",
    "project_data['num_words_title'] = num_words_title\n",
    "project_data['compound_sent_score'] = compound_score\n",
    "project_data['positive_sent_score'] = pos_score\n",
    "project_data['neutral_sent_score'] = neu_score\n",
    "project_data['negative_sent_score'] = neg_score"
   ]
  },
  {
   "cell_type": "code",
   "execution_count": 52,
   "metadata": {},
   "outputs": [
    {
     "data": {
      "text/html": [
       "<div>\n",
       "<style>\n",
       "    .dataframe thead tr:only-child th {\n",
       "        text-align: right;\n",
       "    }\n",
       "\n",
       "    .dataframe thead th {\n",
       "        text-align: left;\n",
       "    }\n",
       "\n",
       "    .dataframe tbody tr th {\n",
       "        vertical-align: top;\n",
       "    }\n",
       "</style>\n",
       "<table border=\"1\" class=\"dataframe\">\n",
       "  <thead>\n",
       "    <tr style=\"text-align: right;\">\n",
       "      <th></th>\n",
       "      <th>Unnamed: 0</th>\n",
       "      <th>id</th>\n",
       "      <th>teacher_id</th>\n",
       "      <th>teacher_prefix</th>\n",
       "      <th>school_state</th>\n",
       "      <th>project_submitted_datetime</th>\n",
       "      <th>project_grade_category</th>\n",
       "      <th>project_title</th>\n",
       "      <th>project_essay_1</th>\n",
       "      <th>project_essay_2</th>\n",
       "      <th>...</th>\n",
       "      <th>clean_subcategories</th>\n",
       "      <th>essay</th>\n",
       "      <th>price</th>\n",
       "      <th>quantity</th>\n",
       "      <th>num_words_essay</th>\n",
       "      <th>num_words_title</th>\n",
       "      <th>compound_sent_score</th>\n",
       "      <th>positive_sent_score</th>\n",
       "      <th>neutral_sent_score</th>\n",
       "      <th>negative_sent_score</th>\n",
       "    </tr>\n",
       "  </thead>\n",
       "  <tbody>\n",
       "    <tr>\n",
       "      <th>0</th>\n",
       "      <td>160221</td>\n",
       "      <td>p253737</td>\n",
       "      <td>c90749f5d961ff158d4b4d1e7dc665fc</td>\n",
       "      <td>Mrs.</td>\n",
       "      <td>IN</td>\n",
       "      <td>2016-12-05 13:43:57</td>\n",
       "      <td>Grades PreK-2</td>\n",
       "      <td>Educational Support for English Learners at Home</td>\n",
       "      <td>My students are English learners that are work...</td>\n",
       "      <td>\\\"The limits of your language are the limits o...</td>\n",
       "      <td>...</td>\n",
       "      <td>ESL Literacy</td>\n",
       "      <td>My students are English learners that are work...</td>\n",
       "      <td>154.6</td>\n",
       "      <td>23</td>\n",
       "      <td>161</td>\n",
       "      <td>5</td>\n",
       "      <td>0.9694</td>\n",
       "      <td>0.144</td>\n",
       "      <td>0.844</td>\n",
       "      <td>0.012</td>\n",
       "    </tr>\n",
       "  </tbody>\n",
       "</table>\n",
       "<p>1 rows × 26 columns</p>\n",
       "</div>"
      ],
      "text/plain": [
       "   Unnamed: 0       id                        teacher_id teacher_prefix  \\\n",
       "0      160221  p253737  c90749f5d961ff158d4b4d1e7dc665fc           Mrs.   \n",
       "\n",
       "  school_state project_submitted_datetime project_grade_category  \\\n",
       "0           IN        2016-12-05 13:43:57          Grades PreK-2   \n",
       "\n",
       "                                      project_title  \\\n",
       "0  Educational Support for English Learners at Home   \n",
       "\n",
       "                                     project_essay_1  \\\n",
       "0  My students are English learners that are work...   \n",
       "\n",
       "                                     project_essay_2         ...           \\\n",
       "0  \\\"The limits of your language are the limits o...         ...            \n",
       "\n",
       "  clean_subcategories                                              essay  \\\n",
       "0        ESL Literacy  My students are English learners that are work...   \n",
       "\n",
       "   price  quantity  num_words_essay num_words_title compound_sent_score  \\\n",
       "0  154.6        23              161               5              0.9694   \n",
       "\n",
       "  positive_sent_score  neutral_sent_score  negative_sent_score  \n",
       "0               0.144               0.844                0.012  \n",
       "\n",
       "[1 rows x 26 columns]"
      ]
     },
     "execution_count": 52,
     "metadata": {},
     "output_type": "execute_result"
    }
   ],
   "source": [
    "project_data.head(1)"
   ]
  },
  {
   "cell_type": "markdown",
   "metadata": {},
   "source": [
    "__Normalizing the numerical features: num_words_essay ___"
   ]
  },
  {
   "cell_type": "code",
   "execution_count": 53,
   "metadata": {},
   "outputs": [
    {
     "name": "stdout",
     "output_type": "stream",
     "text": [
      "Mean : 151.40636899531341, Standard deviation : 38.98659397088369\n"
     ]
    }
   ],
   "source": [
    "# check this one: https://www.youtube.com/watch?v=0HOqOcln3Z4&t=530s\n",
    "# standardization sklearn: https://scikit-learn.org/stable/modules/generated/sklearn.preprocessing.StandardScaler.html\n",
    "from sklearn.preprocessing import StandardScaler\n",
    "\n",
    "# price_standardized = standardScalar.fit(project_data['price'].values)\n",
    "# this will rise the error\n",
    "# ValueError: Expected 2D array, got 1D array instead: array=[725.05 213.03 329.   ... 399.   287.73   5.5 ].\n",
    "# Reshape your data either using array.reshape(-1, 1)\n",
    "\n",
    "num_words_essay_scalar = StandardScaler()\n",
    "num_words_essay_scalar.fit(project_data['num_words_essay'].values.reshape(-1,1)) # finding the mean and standard deviation of this data\n",
    "print(f\"Mean : {num_words_essay_scalar.mean_[0]}, Standard deviation : {np.sqrt(num_words_essay_scalar.var_[0])}\")\n",
    "\n",
    "# Now standardize the data with above maen and variance.\n",
    "num_words_essay_standardized = num_words_essay_scalar.transform(project_data['num_words_essay'].values.reshape(-1, 1))"
   ]
  },
  {
   "cell_type": "markdown",
   "metadata": {},
   "source": [
    "__Normalizing the numerical features: number of words in title__"
   ]
  },
  {
   "cell_type": "code",
   "execution_count": 54,
   "metadata": {},
   "outputs": [
    {
     "name": "stdout",
     "output_type": "stream",
     "text": [
      "Mean : 4.334816198008202, Standard deviation : 1.7866924240888524\n"
     ]
    }
   ],
   "source": [
    "# check this one: https://www.youtube.com/watch?v=0HOqOcln3Z4&t=530s\n",
    "# standardization sklearn: https://scikit-learn.org/stable/modules/generated/sklearn.preprocessing.StandardScaler.html\n",
    "from sklearn.preprocessing import StandardScaler\n",
    "\n",
    "# price_standardized = standardScalar.fit(project_data['price'].values)\n",
    "# this will rise the error\n",
    "# ValueError: Expected 2D array, got 1D array instead: array=[725.05 213.03 329.   ... 399.   287.73   5.5 ].\n",
    "# Reshape your data either using array.reshape(-1, 1)\n",
    "\n",
    "num_words_title_scalar = StandardScaler()\n",
    "num_words_title_scalar.fit(project_data['num_words_title'].values.reshape(-1,1)) # finding the mean and standard deviation of this data\n",
    "print(f\"Mean : {num_words_title_scalar.mean_[0]}, Standard deviation : {np.sqrt(num_words_title_scalar.var_[0])}\")\n",
    "\n",
    "# Now standardize the data with above maen and variance.\n",
    "num_words_title_standardized = num_words_title_scalar.transform(project_data['num_words_title'].values.reshape(-1, 1))"
   ]
  },
  {
   "cell_type": "markdown",
   "metadata": {},
   "source": [
    "__Normalizing the numerical features: teacher_number_of_previously_posted_projects___"
   ]
  },
  {
   "cell_type": "code",
   "execution_count": 55,
   "metadata": {},
   "outputs": [
    {
     "name": "stdout",
     "output_type": "stream",
     "text": [
      "Mean : 11.153165275336848, Standard deviation : 27.77702641477403\n"
     ]
    }
   ],
   "source": [
    "# check this one: https://www.youtube.com/watch?v=0HOqOcln3Z4&t=530s\n",
    "# standardization sklearn: https://scikit-learn.org/stable/modules/generated/sklearn.preprocessing.StandardScaler.html\n",
    "from sklearn.preprocessing import StandardScaler\n",
    "\n",
    "# price_standardized = standardScalar.fit(project_data['price'].values)\n",
    "# this will rise the error\n",
    "# ValueError: Expected 2D array, got 1D array instead: array=[725.05 213.03 329.   ... 399.   287.73   5.5 ].\n",
    "# Reshape your data either using array.reshape(-1, 1)\n",
    "\n",
    "tnoppp_scalar = StandardScaler()\n",
    "tnoppp_scalar.fit(project_data['teacher_number_of_previously_posted_projects'].values.reshape(-1,1)) # finding the mean and standard deviation of this data\n",
    "print(f\"Mean : {tnoppp_scalar.mean_[0]}, Standard deviation : {np.sqrt(tnoppp_scalar.var_[0])}\")\n",
    "\n",
    "# Now standardize the data with above maen and variance.\n",
    "tnoppp_standardized = tnoppp_scalar.transform(project_data['teacher_number_of_previously_posted_projects'].values.reshape(-1, 1))"
   ]
  },
  {
   "cell_type": "code",
   "execution_count": null,
   "metadata": {
    "collapsed": true
   },
   "outputs": [],
   "source": []
  },
  {
   "cell_type": "markdown",
   "metadata": {
    "colab_type": "text",
    "id": "K9tnEGntqzFx"
   },
   "source": [
    "# Assignment 11: TruncatedSVD"
   ]
  },
  {
   "cell_type": "markdown",
   "metadata": {
    "colab_type": "text",
    "id": "m8n23zdRqzFx"
   },
   "source": [
    "- <font color='red'>step 1</font> Select the top 2k words from essay text and project_title (concatinate essay text with project title and then find the top 2k words) based on their <a href='https://scikit-learn.org/stable/modules/generated/sklearn.feature_extraction.text.TfidfVectorizer.html'>`idf_`</a> values \n",
    "- <font color='red'>step 2</font> Compute the co-occurance matrix with these 2k words, with window size=5 (<a href='https://www.analyticsvidhya.com/blog/2017/06/word-embeddings-count-word2veec/'>ref</a>)\n",
    "    <img src='cooc.JPG' width=300px>\n",
    "- <font color='red'>step 3</font> Use <a href='http://scikit-learn.org/stable/modules/generated/sklearn.decomposition.TruncatedSVD.html'>TruncatedSVD</a> on calculated co-occurance matrix and reduce its dimensions, choose the number of components (`n_components`) using <a href='https://www.appliedaicourse.com/course/applied-ai-course-online/lessons/pca-code-example-using-non-visualization/'>elbow method</a>\n",
    " >- The shape of the matrix after TruncatedSVD will be 2000\\*n, i.e. each row represents a vector form of the corresponding word. <br>\n",
    " >- Vectorize the essay text and project titles using these word vectors. (while vectorizing, do ignore all the words which are not in top 2k words)\n",
    "- <font color='red'>step 4</font> Concatenate these truncatedSVD matrix, with the matrix with features\n",
    "<ul>\n",
    "    <li><strong>school_state</strong> : categorical data</li>\n",
    "    <li><strong>clean_categories</strong> : categorical data</li>\n",
    "    <li><strong>clean_subcategories</strong> : categorical data</li>\n",
    "    <li><strong>project_grade_category</strong> :categorical data</li>\n",
    "    <li><strong>teacher_prefix</strong> : categorical data</li>\n",
    "    <li><strong>quantity</strong> : numerical data</li>\n",
    "    <li><strong>teacher_number_of_previously_posted_projects</strong> : numerical data</li>\n",
    "    <li><strong>price</strong> : numerical data</li>\n",
    "    <li><strong>sentiment score's of each of the essay</strong> : numerical data</li>\n",
    "    <li><strong>number of words in the title</strong> : numerical data</li>\n",
    "    <li><strong>number of words in the combine essays</strong> : numerical data</li>\n",
    "    <li><strong>word vectors calculated in</strong> <font color='red'>step 3</font> : numerical data</li>\n",
    "</ul>\n",
    "- <font color='red'>step 5</font>: Apply GBDT on matrix that was formed in <font color='red'>step 4</font> of this assignment, <font color='blue'><strong>DO REFER THIS BLOG: <a href='https://www.kdnuggets.com/2017/03/simple-xgboost-tutorial-iris-dataset.html'>XGBOOST DMATRIX<strong></a></font>\n",
    "<li><font color='red'>step 6</font>:Hyper parameter tuning (Consider any two hyper parameters)<ul><li>Find the best hyper parameter which will give the maximum <a href='https://www.appliedaicourse.com/course/applied-ai-course-online/lessons/receiver-operating-characteristic-curve-roc-curve-and-auc-1/'>AUC</a> value</li>\n",
    "    <li>Find the best hyper paramter using k-fold cross validation or simple cross validation data</li>\n",
    "    <li>Use gridsearch cv or randomsearch cv or you can also write your own for loops to do this task of hyperparameter tuning</li> \n",
    "        </ul>\n",
    "    </li>\n",
    "\n"
   ]
  },
  {
   "cell_type": "code",
   "execution_count": 0,
   "metadata": {
    "colab": {},
    "colab_type": "code",
    "id": "gl1jub35qzFy",
    "outputId": "eb004a11-6bcd-4621-d513-c06878c35710"
   },
   "outputs": [
    {
     "name": "stdout",
     "output_type": "stream",
     "text": [
      "score: 0.8333333333333334\n",
      "colsample_bytree: 0.9\n",
      "eta: 0.05\n",
      "max_depth: 6\n",
      "num_boost_round: 100\n",
      "subsample: 0.9\n"
     ]
    }
   ],
   "source": [
    "import sys\n",
    "import math\n",
    " \n",
    "import numpy as np\n",
    "from sklearn.grid_search import GridSearchCV\n",
    "from sklearn.metrics import roc_auc_score\n",
    "\n",
    "# you might need to install this one\n",
    "import xgboost as xgb\n",
    "\n",
    "class XGBoostClassifier():\n",
    "    def __init__(self, num_boost_round=10, **params):\n",
    "        self.clf = None\n",
    "        self.num_boost_round = num_boost_round\n",
    "        self.params = params\n",
    "        self.params.update({'objective': 'multi:softprob'})\n",
    " \n",
    "    def fit(self, X, y, num_boost_round=None):\n",
    "        num_boost_round = num_boost_round or self.num_boost_round\n",
    "        self.label2num = {label: i for i, label in enumerate(sorted(set(y)))}\n",
    "        dtrain = xgb.DMatrix(X, label=[self.label2num[label] for label in y])\n",
    "        self.clf = xgb.train(params=self.params, dtrain=dtrain, num_boost_round=num_boost_round, verbose_eval=1)\n",
    " \n",
    "    def predict(self, X):\n",
    "        num2label = {i: label for label, i in self.label2num.items()}\n",
    "        Y = self.predict_proba(X)\n",
    "        y = np.argmax(Y, axis=1)\n",
    "        return np.array([num2label[i] for i in y])\n",
    " \n",
    "    def predict_proba(self, X):\n",
    "        dtest = xgb.DMatrix(X)\n",
    "        return self.clf.predict(dtest)\n",
    " \n",
    "    def score(self, X, y):\n",
    "        Y = self.predict_proba(X)[:,1]\n",
    "        return roc_auc_score(y, Y)\n",
    " \n",
    "    def get_params(self, deep=True):\n",
    "        return self.params\n",
    " \n",
    "    def set_params(self, **params):\n",
    "        if 'num_boost_round' in params:\n",
    "            self.num_boost_round = params.pop('num_boost_round')\n",
    "        if 'objective' in params:\n",
    "            del params['objective']\n",
    "        self.params.update(params)\n",
    "        return self\n",
    "    \n",
    "\n",
    "clf = XGBoostClassifier(eval_metric = 'auc', num_class = 2, nthread = 4,)\n",
    "###################################################################\n",
    "#               Change from here                                  #\n",
    "###################################################################\n",
    "parameters = {\n",
    "    'num_boost_round': [100, 250, 500],\n",
    "    'eta': [0.05, 0.1, 0.3],\n",
    "    'max_depth': [6, 9, 12],\n",
    "    'subsample': [0.9, 1.0],\n",
    "    'colsample_bytree': [0.9, 1.0],\n",
    "}\n",
    "\n",
    "clf = GridSearchCV(clf, parameters)\n",
    "X = np.array([[1,2], [3,4], [2,1], [4,3], [1,0], [4,5]])\n",
    "Y = np.array([0, 1, 0, 1, 0, 1])\n",
    "clf.fit(X, Y)\n",
    "\n",
    "# print(clf.grid_scores_)\n",
    "best_parameters, score, _ = max(clf.grid_scores_, key=lambda x: x[1])\n",
    "print('score:', score)\n",
    "for param_name in sorted(best_parameters.keys()):\n",
    "    print(\"%s: %r\" % (param_name, best_parameters[param_name]))"
   ]
  },
  {
   "cell_type": "markdown",
   "metadata": {
    "colab_type": "text",
    "id": "qXpy_wJIqzF0"
   },
   "source": [
    "<h1>2. TruncatedSVD </h1>"
   ]
  },
  {
   "cell_type": "markdown",
   "metadata": {
    "colab_type": "text",
    "id": "2hk7cG4bqzF0"
   },
   "source": [
    "<h2>2.1 Selecting top 2000 words from `essay` and `project_title`</h2>"
   ]
  },
  {
   "cell_type": "code",
   "execution_count": 0,
   "metadata": {
    "colab": {},
    "colab_type": "code",
    "collapsed": true,
    "id": "W_zeUjqMqzF1"
   },
   "outputs": [],
   "source": [
    "# please write all the code with proper documentation, and proper titles for each subsection\n",
    "# go through documentations and blogs before you start coding\n",
    "# first figure out what to do, and then think about how to do.\n",
    "# reading and understanding error messages will be very much helpfull in debugging your code\n",
    "# when you plot any graph make sure you use \n",
    "    # a. Title, that describes your plot, this will be very helpful to the reader\n",
    "    # b. Legends if needed\n",
    "    # c. X-axis label\n",
    "    # d. Y-axis label"
   ]
  },
  {
   "cell_type": "code",
   "execution_count": 56,
   "metadata": {},
   "outputs": [
    {
     "data": {
      "text/html": [
       "<div>\n",
       "<style>\n",
       "    .dataframe thead tr:only-child th {\n",
       "        text-align: right;\n",
       "    }\n",
       "\n",
       "    .dataframe thead th {\n",
       "        text-align: left;\n",
       "    }\n",
       "\n",
       "    .dataframe tbody tr th {\n",
       "        vertical-align: top;\n",
       "    }\n",
       "</style>\n",
       "<table border=\"1\" class=\"dataframe\">\n",
       "  <thead>\n",
       "    <tr style=\"text-align: right;\">\n",
       "      <th></th>\n",
       "      <th>Unnamed: 0</th>\n",
       "      <th>id</th>\n",
       "      <th>teacher_id</th>\n",
       "      <th>teacher_prefix</th>\n",
       "      <th>school_state</th>\n",
       "      <th>project_submitted_datetime</th>\n",
       "      <th>project_grade_category</th>\n",
       "      <th>project_title</th>\n",
       "      <th>project_essay_1</th>\n",
       "      <th>project_essay_2</th>\n",
       "      <th>...</th>\n",
       "      <th>clean_subcategories</th>\n",
       "      <th>essay</th>\n",
       "      <th>price</th>\n",
       "      <th>quantity</th>\n",
       "      <th>num_words_essay</th>\n",
       "      <th>num_words_title</th>\n",
       "      <th>compound_sent_score</th>\n",
       "      <th>positive_sent_score</th>\n",
       "      <th>neutral_sent_score</th>\n",
       "      <th>negative_sent_score</th>\n",
       "    </tr>\n",
       "  </thead>\n",
       "  <tbody>\n",
       "    <tr>\n",
       "      <th>0</th>\n",
       "      <td>160221</td>\n",
       "      <td>p253737</td>\n",
       "      <td>c90749f5d961ff158d4b4d1e7dc665fc</td>\n",
       "      <td>Mrs.</td>\n",
       "      <td>IN</td>\n",
       "      <td>2016-12-05 13:43:57</td>\n",
       "      <td>Grades PreK-2</td>\n",
       "      <td>Educational Support for English Learners at Home</td>\n",
       "      <td>My students are English learners that are work...</td>\n",
       "      <td>\\\"The limits of your language are the limits o...</td>\n",
       "      <td>...</td>\n",
       "      <td>ESL Literacy</td>\n",
       "      <td>My students are English learners that are work...</td>\n",
       "      <td>154.6</td>\n",
       "      <td>23</td>\n",
       "      <td>161</td>\n",
       "      <td>5</td>\n",
       "      <td>0.9694</td>\n",
       "      <td>0.144</td>\n",
       "      <td>0.844</td>\n",
       "      <td>0.012</td>\n",
       "    </tr>\n",
       "  </tbody>\n",
       "</table>\n",
       "<p>1 rows × 26 columns</p>\n",
       "</div>"
      ],
      "text/plain": [
       "   Unnamed: 0       id                        teacher_id teacher_prefix  \\\n",
       "0      160221  p253737  c90749f5d961ff158d4b4d1e7dc665fc           Mrs.   \n",
       "\n",
       "  school_state project_submitted_datetime project_grade_category  \\\n",
       "0           IN        2016-12-05 13:43:57          Grades PreK-2   \n",
       "\n",
       "                                      project_title  \\\n",
       "0  Educational Support for English Learners at Home   \n",
       "\n",
       "                                     project_essay_1  \\\n",
       "0  My students are English learners that are work...   \n",
       "\n",
       "                                     project_essay_2         ...           \\\n",
       "0  \\\"The limits of your language are the limits o...         ...            \n",
       "\n",
       "  clean_subcategories                                              essay  \\\n",
       "0        ESL Literacy  My students are English learners that are work...   \n",
       "\n",
       "   price  quantity  num_words_essay num_words_title compound_sent_score  \\\n",
       "0  154.6        23              161               5              0.9694   \n",
       "\n",
       "  positive_sent_score  neutral_sent_score  negative_sent_score  \n",
       "0               0.144               0.844                0.012  \n",
       "\n",
       "[1 rows x 26 columns]"
      ]
     },
     "execution_count": 56,
     "metadata": {},
     "output_type": "execute_result"
    }
   ],
   "source": [
    "project_data.head(1)"
   ]
  },
  {
   "cell_type": "markdown",
   "metadata": {},
   "source": [
    "__Concatenate essay and project_title features__"
   ]
  },
  {
   "cell_type": "code",
   "execution_count": 57,
   "metadata": {
    "collapsed": true
   },
   "outputs": [],
   "source": [
    "essay_title =[]\n",
    "for i in range(len(preprocessed_essays)) :\n",
    "    essay_title.append(preprocessed_title[i] +' '+preprocessed_essays[i])"
   ]
  },
  {
   "cell_type": "code",
   "execution_count": 58,
   "metadata": {},
   "outputs": [
    {
     "data": {
      "text/plain": [
       "'educational support english learners home my students english learners working english second third languages we melting pot refugees immigrants native born americans bringing gift language school we 24 languages represented english learner program students every level mastery we also 40 countries represented families within school each student brings wealth knowledge experiences us open eyes new cultures beliefs respect the limits language limits world ludwig wittgenstein our english learner strong support system home begs resources many times parents learning read speak english along side children sometimes creates barriers parents able help child learn phonetics letter recognition reading skills by providing dvd players students able continue mastery english language even no one home able assist all families students within level 1 proficiency status offered part program these educational videos specially chosen english learner teacher sent home regularly watch the videos help child develop early reading skills parents not access dvd player opportunity check dvd player use year the plan use videos educational dvd years come el students nannan'"
      ]
     },
     "execution_count": 58,
     "metadata": {},
     "output_type": "execute_result"
    }
   ],
   "source": [
    "essay_title[0]"
   ]
  },
  {
   "cell_type": "markdown",
   "metadata": {},
   "source": [
    "__Find top 2k words based on idf score__"
   ]
  },
  {
   "cell_type": "code",
   "execution_count": 59,
   "metadata": {},
   "outputs": [
    {
     "name": "stdout",
     "output_type": "stream",
     "text": [
      "Shape of matrix   (109248, 16976)\n"
     ]
    }
   ],
   "source": [
    "tfidf_vect = TfidfVectorizer(min_df=10)\n",
    "essay_title_tfidf = tfidf_vect.fit_transform(essay_title)\n",
    "print(\"Shape of matrix  \",essay_title_tfidf.shape)"
   ]
  },
  {
   "cell_type": "code",
   "execution_count": 60,
   "metadata": {},
   "outputs": [
    {
     "data": {
      "text/plain": [
       "<1x16976 sparse matrix of type '<class 'numpy.float64'>'\n",
       "\twith 114 stored elements in Compressed Sparse Row format>"
      ]
     },
     "execution_count": 60,
     "metadata": {},
     "output_type": "execute_result"
    }
   ],
   "source": [
    "essay_title_tfidf[0]"
   ]
  },
  {
   "cell_type": "code",
   "execution_count": 61,
   "metadata": {
    "scrolled": false
   },
   "outputs": [
    {
     "name": "stdout",
     "output_type": "stream",
     "text": [
      "['commission', 'beep', 'dreadful', 'fireworks', 'inheritance', 'photojournalism', 'ogden', 'firefighter', 'wan', 'fins', 'acceptances', 'inject', 'injuring', 'tinikling', 'uninhibited', 'bedrooms', 'accessorize', 'syracuse', 'crocodile', 'inoperable', 'reflector', 'inglewood', 'tabata', 'lily', 'tabletops', 'atrocities', 'depressing', 'wary', 'phillips', 'flatten', 'ensues', 'classtime', 'lighters', 'flashing', 'okc', 'belonged', 'infection', 'claws', 'inferential', 'cleans', 'rehabilitate', 'rehab', 'fitzgerald', 'cleverly', 'becuase', 'waits', 'sympathy', 'refinement', 'swimmers', 'fiddle', 'planetary', 'instructionally', 'almond', 'fewest', 'norman', 'methodically', 'cohorts', 'festivities', 'stinks', 'stinky', 'dictating', 'festive', 'coils', 'colin', 'collapsible', 'crashed', 'equitably', 'creepy', 'stills', 'crickets', 'thompson', 'lessened', 'stealing', 'symmetrical', 'reenergize', 'crisscross', 'stemm', 'pits', 'epidemics', 'recruitment', 'swish', 'recounted', 'fieldwork', 'stethoscope', 'vouchers', 'dominos', 'legislature', 'swiss', 'fidgetiness', 'rekindle', 'philanthropic', 'meticulously', 'forwards', 'perler', 'igneous', 'responders', 'apprenticeship', 'chesapeake', 'resistible', '920', 'spools', 'perservere', 'illegible', 'formidable', 'emptied', 'emt', 'chicagoland', 'residences', 'underscore', 'reshape', 'mommies', 'bicycling', '840', 'mongolia', 'linger', 'splits', 'chamberlain', '665', 'wheat', 'freeway', 'chap', '670', 'directives', 'tms', 'whackers', 'wh', 'empires', 'underdogs', 'rethinking', 'hysterical', 'charted', 'fragmented', 'splat', 'longed', 'tks', 'tame', 'chimed', 'alerts', 'chipping', 'flowering', 'incidental', 'tribute', 'uneasy', 'watersheds', 'dk', 'bes', 'inconsistencies', 'cruz', 'unengaged', 'stagecraft', 'atleast', 'taiwan', 'stall', 'unfairly', 'clamor', 'tailors', 'incurred', 'clasroom', 'netbook', 'pests', 'flyer', 'chromatic', 'reproducibles', 'bhutan', 'enclaves', 'sprinting', 'chop', 'chopped', 'choreographed', 'meshed', 'folklore', 'fo', 'beverage', 'impossibility', 'peruvian', 'abiotic', 'squeaking', 'repeats', 'squeals', 'pervades', 'sweeper', 'colonists', 'agar', 'jolt', 'programable', 'conservatory', 'ventilation', 'consortium', 'subs', 'joyce', 'exacerbated', 'coughing', 'procured', 'constitutes', 'autobiographical', 'proceeded', 'jugs', 'vegetation', 'subsidies', 'julius', 'constitutional', 'vault', 'vastness', 'jonathan', 'portals', 'popper', 'dia', 'stunted', 'popplet', 'poppy', 'exposition', 'jesse', 'jessica', 'prongs', 'versatiles', 'prong', 'vernon', 'stuyvesant', 'adorn', 'confirmation', 'jingles', 'styling', 'millennium', 'diabetic', 'porch', 'backrounds', 'nutritionally', 'probation', 'constricting', 'antioch', 'avatar', 'awry', 'microsociety', 'prevalence', 'mifflin', 'preserves', 'utopian', 'kittle', 'detract', 'preservatives', 'deterred', 'exemplified', 'kinesthetics', 'cookin', 'obscure', 'exclamations', 'kinestetic', 'aversion', 'midsummer', 'knobs', 'knocks', 'contra', 'postive', 'expended', 'substantive', 'migratory', 'cortex', 'upons', 'substitution', 'variance', 'developer', 'vanguard', 'detectors', 'vandalized', 'babysitter', 'vamos', 'prismacolor', 'migraines', 'kandinsky', 'valuables', 'kodable', 'nubs', 'confide', 'leappad', 'rancho', 'unrelenting', 'rallied', 'intimidation', 'allocations', 'suspects', 'rags', 'barrage', 'mis', 'espn', 'notecards', 'barometer', 'allocate', 'racking', 'lauded', 'appeared', 'offense', 'investigator', 'poise', 'poking', 'straighten', 'tighten', 'confetti', 'lavish', 'algae', 'fbla', 'playoffs', 'intergrate', 'readjusting', 'viva', 'misfortune', 'combating', 'pleasers', 'plight', 'storia', 'metronomes', 'comings', 'acheivement', 'auburn', 'designating', 'commended', 'cozmo', 'oppurtunity', 'etch', 'nothe', 'oculus', 'compel', 'dormant', 'extremes', 'vibrantly', 'istudents', 'unwrap', 'condensation', 'strum', 'extraneous', 'condensed', 'dos', 'laotian', 'conduction', 'studetns', 'iwrite', 'conducts', 'eve', 'propulsion', 'bacon', 'proprioception', 'psyched', 'ptc', 'conceptualizing', 'complimented', 'quantify', 'mints', 'diagramming', 'facelift', 'nsta', 'ezra', 'transmission', 'complimentary', 'untouched', 'minions', 'ez', 'untreated', 'ethnics', 'etk', 'puddle', 'evacuate', 'irving', 'unusually', 'spinelli', 'forgets', 'emitted', 'harold', 'mandolin', 'sneaking', 'myrtle', 'harms', 'mandelamy', 'buzzword', 'cadet', 'paperclips', '1990s', 'bugle', 'seatings', 'daydream', 'soaps', 'paraphrase', 'hatches', 'tweeting', 'bolt', 'darn', 'seedling', 'dishman', 'worldviews', 'manipulations', 'bummed', 'smashed', 'ghosts', 'hanscom', 'sequels', 'disinfected', 'ecologically', 'bunsen', 'ecologists', 'dd', '185', 'panda', 'senators', 'bookbag', '1940', 'sells', 'pandas', 'hawaiians', 'ahu', 'calipers', 'twofold', 'helicopter', 'helm', 'naive', 'mahalo', 'elegant', 'magnetics', 'cane', 'scans', 'boasting', 'motel', 'canopies', 'boarders', 'hens', '215', 'herd', 'withing', 'sardines', 'helena', 'cams', 'part2', 'electromagnetism', 'gentleman', 'socioemotional', 'genocide', 'elaborating', 'screencast', 'artisans', 'ahhs', 'scout', 'darkroom', 'scouring', 'headsprout', 'generalized', 'electing', 'caloric', 'electricians', 'electrify', 'gels', 'servings', 'buffet', 'sandra', 'meditations', 'yrs', 'defending', 'griffin', 'gobbled', 'arenas', 'gluten', 'operators', 'borderline', 'tessellations', 'giddy', 'terror', 'overactive', 'shred', 'grumpy', 'globalizing', 'guardianship', 'overgrown', 'skirts', 'dyed', 'ought', 'goings', 'bore', 'muffs', 'simulates', 'theorem', 'multiplied', 'bothersome', 'deleted', 'brainiacs', 'mayan', 'truely', '06', '100s', 'degradation', 'medicines', 'brakes', 'dwell', 'zap', 'zao', 'overheats', 'skittles', 'alan', 'giraffe', 'xerox', 'mushroom', 'meditative', 'britannica', 'pails', 'wth', 'painless', 'married', 'shang', '155', 'marriage', 'hamsters', 'sexuality', 'marina', 'seussmy', 'setts', 'tempting', 'brink', 'giveaway', 'operative', 'deceased', 'glen', 'overworked', 'skyscraper', 'slack', 'decomposers', 'masterminds', 'dismay', 'ozmo', 'glamour', 'mash', 'easter', 'yea', 'declines', 'haha', 'disproportionate', 'giza', 'sled', 'oobleck', 'twentieth', 'hoover', 'cautious', '45am', 'luke', '470', 'peanuts', 'rollercoasters', 'rod', 'tat', 'naturals', 'blacks', 'cavities', 'hostile', 'rocketed', 'houghton', 'bitter', 'taxi', 'hoodies', '390', 'furiously', 'depiction', 'furry', 'hollow', 'lush', 'holmes', 'rubbings', 'unaffordable', 'roving', 'sour', 'wilkes', 'blighted', 'discrepancies', 'cashier', 'funeral', 'speciality', 'dropouts', 'lubbock', 'freshwater', 'risked', 'cementing', 'lou', 'riots', 'hues', 'loser', '575', 'pedagogical', 'uncovered', 'divert', 'spicing', 'richardson', 'pepper', 'loot', 'penn', 'hubbard', 'cemented', 'diversion', 'risky', 'whittier', 'whizzes', 'lovin', 'whoa', 'biotic', 'frindle', 'rj', 'birch', 'alum', 'roberts', 'pee', 'uncharged', 'napoleon', 'administering', 'safeguard', 'rylant', 'tonannan', 'carpenters', 'saavy', 'pastures', 'ugh', 'saddest', 'gardena', 'aspergers', '2a', 'carnivorous', 'galapagos', 'futons', 'bloomed', '310', 'macaroni', '2700', 'windowless', 'sandpaper', 'carpenter', 'pasture', 'hiatus', 'hinton', 'somethings', 'ambassador', 'portugal', 'lovaas', 'teasing', 'elevator', 'underachievers', 'cupcake', 'testers', 'descents', 'truthfully', 'truthful', 'cosmetology', 'outperforming', 'tetherball', 'uploads', 'passengers', 'mattresses', 'symbolize', 'tangibly', 'cottage', 'sydney', 'tamil', 'coupon', 'declutter', 'taboo', 'cycled', 'technologist', 'trigonometric', 'cruise', 'teresa', 'earbud', 'microeconomics', 'eagar', 'territories', 'pitcher', 'counsel', 'thinkcentral', 'materialistic', 'peeked', 'ewriter', 'applause', 'lackluster', 'uniting', 'mercier', 'deed', 'mentored', 'krazy', 'perch', 'archeologists', 'admittance', 'depaola', 'mbot', 'middles', 'urgently', 'urges', 'arching', 'appliance', 'archers', 'deliberately', 'deteriorate', 'excitingly', 'admittedly', 'kippsters', 'demystify', 'admirably', 'usc', 'cures', 'preferably', 'duplo', 'albeit', 'oranges', 'undefeated', 'dented', 'mayberry', 'precedent', 'excavate', 'empirical', 'dabble', 'aliens', 'pinched', 'curated', 'pla', 'trinidad', 'underexposed', 'pierce', 'maxwell', 'longitude', 'embryos', 'udl', 'elevates', 'supervisor', 'micronesian', 'ornaments', 'desserts', 'tardiness', 'powell', 'appleseed', 'metallophone', 'copiers', 'precarious', 'crocheting', 'aftercare', 'marveled', 'tease', 'enchance', 'engagingly', 'phenomenons', 'plyometric', 'suspend', 'plastics', 'unreasonable', 'aircraft', 'aggravation', 'payne', 'energizes', 'megaphone', 'petri', 'depended', 'lauren', 'plywood', 'pdfs', 'assimilation', 'teacch', 'temperamental', 'peterson', 'cowboy', 'panama', 'lateral', 'undo', 'liter', 'unexpectedly', 'meld', 'crushing', 'swallowed', 'parochial', 'darlings', 'learningnannan', 'paras', 'enlarging', 'pausing', 'tegu', 'unfathomable', 'daubers', 'sweatshirt', 'desegregation', 'le', 'lawndale', 'pleases', 'layoffs', 'tweak', 'sustenance', 'dave', 'parrot', 'attuned', 'melinda', 'equiptment', 'plotting', 'onomatopoeia', 'tchoukball', 'twirling', 'mardi', 'artroom', 'elmer', 'deposits', 'agile', 'akin', 'darker', 'cutouts', 'couros', 'surgical', 'cucumbers', 'phonetics', 'decay', 'armenian', 'courtesy', 'enchanting', 'crumble', 'declare', 'tumbler', 'drove', 'leappads', 'advent', 'everday', 'unbiased', 'locals', 'kinesiology', 'lloyd', 'undervalued', 'polk', 'marimba', 'deprive', 'meshing', 'temporal', 'pallets', 'unappealing', 'pollen', 'turf', 'littered', 'onions', 'unattractive', 'untraditional', 'depleting', 'pondering', 'livelihood', 'pasted', 'palestine', 'patty', 'phoneme', 'tact', 'tacoma', 'octane', 'ecoland', 'arose', 'pale', 'physicians', 'vera', 'admin', 'homelife', 'hinds', 'carousel', 'soooo', 'gallagher', 'rushes', 'nashua', 'carter', 'carton', '40th', 'soundtrack', 'homer', 'rocked', 'homerun', 'funnels', 'naturalist', 'fundations', 'sox', 'spaced', 'ftc', 'discard', 'ross', 'caves', 'salinity', 'gamification', 'sonia', 'saltwater', 'heartbeats', 'scigirls', 'heats', 'schoology', 'heightens', 'solder', 'motherboard', 'scares', 'nanos', 'wixie', 'sax', '2100', 'disturbs', 'withdrawn', 'bluebonnet', 'gateways', 'sanders', 'moss', '25th', 'bloxel', 'carbohydrates', 'bittersweet', 'ceilings', 'scouting', 'resin', 'retardation', 'foss', 'forums', 'igbo', 'resorted', 'resolutions', 'animators', 'chests', 'aaa', 'illuminates', 'formatted', 'diversed', 'prerecorded', 'bifida', 'childish', 'rescued', 'chills', 'ness', 'springboards', 'sprinkle', 'sprinkled', 'chopping', '70s', 'splashing', 'wes', 'hysterically', 'whs', '510', 'frivolous', 'rivals', 'disastrous', 'hubs', 'whispering', 'tobacco', 'ringer', 'riley', 'hull', 'ri', 'rhetorical', 'rex', 'rework', 'humid', 'freezer', 'toast', 'nephews', 'hype', '680', 'headquarters', 'scrapes', 'replenishment', 'glitches', 'shyness', 'glossy', 'skiing', 'youngster', 'shuttle', 'disperse', 'dispersed', 'skinny', '10s', 'glogster', 'topical', 'shivering', 'amulet', 'yemeni', 'ams', 'slabs', 'guts', 'breaths', 'breeding', 'h2o', '133', 'shoots', 'glucose', 'sketchup', 'groomed', 'sibelius', '00am', 'zoobs', 'boxcar', 'grams', 'analogy', 'botanical', 'situational', 'bradley', 'bragging', 'gras', 'signage', 'tore', 'totter', 'zig', 'skateboards', 'sighted', 'greed', 'touchable', 'yupik', 'brandon', 'topped', 'disproportionately', 'yahoo', 'boggling', 'cafes', 'busted', 'snaps', 'buys', 'amish', 'sniffles', 'mythological', 'caesar', 'harshness', 'geographers', '1996', 'seashells', 'slept', 'seas', 'sealed', 'bolsters', 'boldness', 'distractible', 'boise', 'hawk', 'hawthorne', 'hayes', 'woodland', 'snag', '1900s', 'burdensome', 'germinate', 'hallmark', 'boomwhacker', 'halt', 'shaw', 'shattering', 'mouthwash', 'browsed', 'slopes', 'sloppy', 'browsers', 'shakes', 'sever', 'settles', 'bookshare', 'bookmaking', 'hans', 'disinterest', 'gettysburg', 'wounded', 'bunches', 'toolkits', 'reporter', 'forgo', 'spurts', 'familes', 'keats', 'vis', 'interventionists', 'interwoven', 'ramona', 'dias', 'intuition', 'prideful', 'radishes', 'racer', 'consulting', 'contractions', 'streamed', 'raced', 'bargain', 'fad', 'anonymity', 'barcode', 'suction', 'vigorously', 'intersections', 'rapunzel', 'rarity', 'commemorate', 'stoked', 'dictates', 'feared', 'readtheory', 'obedient', 'bathe', 'northwestern', 'comfortability', 'downstairs', 'vacuums', 'intermittently', 'intern', 'keeffe', 'rats', 'visualizations', 'storied', 'folds', 'stormy', 'faucets', 'validating', 'contour', 'invincible', 'anthony', 'jeff', 'promptly', 'consumes', 'priviledge', 'export', 'congestion', 'tot', 'programed', 'k0', 'consolidation', 'dowels', 'devising', 'vending', 'adaptor', 'expired', 'actualize', 'substituting', 'acuity', 'expenditures', 'jealous', 'prioritizes', 'diameter', 'babe', 'expectancy', 'pythagorean', 'pulitzer', 'eyewitness', 'videographers', 'transmit', 'ironically', 'irritable', 'eyestrain', 'valleys', 'vicinity', 'concurrently', 'additive', 'dory', 'bait', 'bagged', 'ivar', 'studentsmy', 'conduit', 'vocalize', 'stoichiometry', 'intellectuals', 'relaxes', 'washi', 'independency', 'standers', 'classsroom', 'adjective', 'rejected', 'individualism', 'annan', 'individualizes', 'stapling', 'classworks', 'awakened', 'nickels', 'belmont', 'accelerates', 'tints', 'regimen', 'refusing', 'nicknamed', 'flickering', 'benifit', 'nike', 'newsprint', 'chromosome', 'reoccurring', 'rents', 'chuck', 'fluidly', 'wavelength', 'chula', 'renderings', 'animoto', 'churchill', 'inconsistency', 'reminisce', 'ding', 'modernized', 'newness', 'beowulf', 'citizenry', 'flights', 'incubate', 'reasearch', 'beetles', 'nonfictional', 'donald', 'reenacting', 'nonliving', 'vying', 'insisted', 'difficultly', 'cluttering', 'bearded', 'coastline', 'cocoon', 'keyed', 'inserted', 'timbres', 'instincts', 'keychains', 'prezis', 'battleship', 'insulators', 'volcanic', 'misinformation', 'intellects', 'firemen', 'vase', 'filthy', 'khmer', 'refreshments', 'converts', 'stationery', 'accessable', 'refresher', 'exerting', 'digestion', 'awarding', 'climbers', 'mla', 'waldorf', 'kg', 'finals', 'accidently', 'inputting', 'refilled', 'anyways', 'toppings', 'thera', 'deters', 'topography', 'multistep', 'dibels', 'apes', 'naeyc', 'nano', 'norfolk', 'thon', 'noon', 'naturalists', 'necessitating', 'thickness', 'digitized', 'bounty', 'todd', 'deploy', 'onenote', 'omnikin', 'nhis', 'newtons', 'approximate', 'notability', 'munch', 'til', 'toothless', 'ancestral', 'dismal', 'nuisance', 'tibetan', 'nuanced', 'apollo', 'octopus', 'departmentalize', 'mutes', 'oddly', 'mvp', 'toni', 'thou', 'na', 'opposites', 'digitizing', 'themnannan', 'chief', 'classy', 'reinstated', 'rejection', 'citrus', 'circulated', 'cinema', 'cinco', 'remodeling', 'stabilized', 'reno', 'biases', 'resisting', 'clearinghouse', 'checkbooks', 'splinters', 'retiring', 'retro', 'rev', 'revitalized', 'ridiculously', 'biome', 'biosphere', 'rite', 'birdie', 'stares', 'befriend', 'celebratory', 'bayou', 'rangers', 'barry', 'raving', 'rc', 'readin', 'stomping', 'readying', 'stitches', 'reception', 'cohesiveness', 'recharged', 'recieving', 'beehive', 'recitals', 'recited', 'reconfigure', 'redeem', 'redundant', 'reenactments', 'ste', 'bedelia', 'reflexes', 'climbed', 'climax', 'birdies', 'rotary', 'commotion', 'brayers', 'brotherhood', 'slife', 'brewing', 'brentwood', 'shooters', 'slanted', 'slant', 'shoving', 'skyline', 'breakage', 'showers', 'bordered', 'sentiment', 'shutter', 'skillet', 'brands', 'sideline', 'skate', 'borne', 'brainy', 'sitters', 'brackets', 'braces', 'simulator', 'bookflix', 'sensorial', 'spaceship', 'cando', 'catapulting', 'sower', 'blew', 'blight', 'bloggers', 'ruth', 'blooms', 'salish', 'someway', 'satisfactory', 'scaling', 'candler', 'smithsonian', 'solfege', 'canceled', 'bocce', 'scrub', 'caldwell', 'seatwork', 'cacophony', 'sneeze', 'sedimentary', 'snazzy', 'bushes', 'rake', 'raffles', 'arab', 'photographed', 'tangling', 'cuisine', 'cuddling', 'persian', 'persistently', 'css', 'pesticides', 'athleticism', 'philanthropy', 'crunches', 'tadpole', 'crow', 'assuredly', 'cromebooks', 'picturing', 'crochet', 'pinecrest', 'pis', 'pixar', 'planetarium', 'swell', 'playhouse', 'playlist', 'craftivities', 'percussive', 'curse', 'suspenseful', 'daylight', 'optimizes', 'delete', 'dehydrated', 'deforestation', 'defeating', 'outweighs', 'overstated', 'debug', 'palooza', 'panic', 'dazzle', 'daydreaming', 'pegboards', 'paso', 'password', 'cypress', 'patriot', 'pavement', 'pax', 'tbi', 'taxonomy', 'pebbles', 'peculiar', 'pedro', 'plop', 'sushi', 'strata', 'studens', 'constraint', 'subscribes', 'constellation', 'conquered', 'subconsciously', 'conforming', 'confinement', 'proofread', 'stunting', 'proofreading', 'propagation', 'strugglers', 'backboards', 'concludes', 'conceived', 'conceive', 'compliant', 'quadrant', 'quake', 'complementing', 'queer', 'quintessential', 'bard', 'strategizing', 'constructivist', 'bach', 'audacity', 'supermarket', 'survives', 'policemen', 'politely', 'pollinator', 'polymer', 'ponds', 'countdown', 'supples', 'possessed', 'correctional', 'poured', 'precipitation', 'contacted', 'suns', 'ave', 'predictors', 'sung', 'prehistoric', 'preloaded', 'conveying', 'awbie', 'pretzel', 'contraption', 'sudents', 'multifunctional', 'simultaneous', 'webster', 'les', 'gujarati', 'migrants', 'alleviated', 'allergens', 'mancala', '490', 'externally', 'jacobs', 'drain', 'hornets', 'wife', 'edwards', 'getaway', 'glazing', 'vertebrate', 'leaks', 'edibles', 'turnout', 'michelangelo', 'warmups', 'mhs', 'meyer', 'draper', 'trekking', 'hacky', 'horizontal', 'manufactured', 'activties', 'yamaha', 'ithink', 'mali', 'iste', 'allot', 'misplacing', 'transformers', 'donates', '525', 'fitzwater', 'hover', 'invigorated', 'vigilant', 'whopping', 'allotment', 'gloss', 'agriscience', 'facs', 'tykes', 'milkweed', 'enzyme', 'lengthen', 'genes', 'wristband', 'mailing', 'grumble', 'generators', 'majestic', 'ahoy', 'vicious', 'hefty', 'foreshadowing', 'wichita', 'metacognitive', 'hao', 'vent', 'hoberman', 'lakeside', 'indies', 'tubing', 'heroic', 'exclaims', 'indication', 'dustpan', 'mcleod', 'dystopia', 'mathletics', 'hammock', 'fled', 'watered', 'kitty', 'everest', 'exchanged', 'upstanding', 'examines', 'albania', 'gig', 'indefinitely', 'knot', 'hindrances', 'matured', 'hinges', 'kodaly', 'koosh', 'trusty', 'hammering', 'earthworm', 'wigs', 'melts', 'explanatory', 'joyously', 'judgments', 'dremel', 'unsung', 'jumpers', 'drip', 'trike', 'latex', 'absorption', 'folktale', 'ka', 'honolulu', 'marsh', 'mechanic', 'homophones', 'addictive', 'melissa', 'lapdesks', 'kaplan', 'validation', 'drummer', 'flats', 'giants', '230', 'mediate', 'martinez', 'weathered', 'headbands', 'videotape', 'amant', 'lunchboxes', 'hypothesizing', 'francophone', 'emily', 'impractical', 'accomplishes', 'insures', 'fisher', 'gorilla', 'ignoring', 'unanswered', 'ferris', 'emigrated', 'fern', '1998', 'amps', 'ik', 'intergenerational', 'dividends', 'touchscreens', 'lung', 'mon', 'vitamin', 'fictions', 'lumber', 'inserting', 'grandfather', '740', 'moth', 'motifs', 'vow', 'endeavoring', 'affordability', 'loungers', 'founders', 'inconvenient', 'inspection', 'imprisoned', '86th', 'unbreakable', 'zoning', 'embryo', 'underutilized', 'fidgeters', 'unexplored', 'vulnerability', 'informs', 'disseminate', '1957', 'ikea', 'entertainers', 'waffle', 'fauna', 'machu', 'liberia', 'ukrainian', 'finders', 'loaner', 'muffin', 'finer', '1985', 'huh', 'inattentiveness', 'mobil', 'havens', 'elevation', 'leukemia', 'whispers', 'invariably', 'grammatically', 'hows', 'london', '1984', 'mixers', 'frigid', 'fondness', 'geoboard', 'unclear', 'finder', 'longfellow', 'moines', 'wakes', 'uniformity', 'mu', 'ana', 'dodgeballs', 'entities', 'wagons', 'workday', 'fremont', 'hardwick', 'garment', 'pollutants', 'capes', 'snuggled', 'clamps', 'geologic', 'livingston', 'gathers', 'sectioned', 'hexbug', 'relegated', 'afro', 'snowman', 'krashen', 'uplifted', 'lao', 'lanterns', 'highschool', 'perseverant', 'gatherings', 'cubbie', 'surgeon', 'cubicles', 'garfield', 'abstraction', 'labquest', 'everglades', 'enveloped', 'snuggling', 'cricket', 'bennett', 'impediment', 'enthusiast', 'tackles', 'crumbling', 'won', 'campbell', 'schoolhouse', 'cruising', 'softwares', 'bodied', 'bomb', 'unleashing', 'representational', 'endorsement', 'unknowns', 'unkempt', 'crucible', 'lemons', 'screams', 'lexiles', 'piper', 'leveraging', 'refrigerators', 'genuis', 'lense', 'pickup', 'scripted', 'ereaders', 'playosmo', 'playwrights', 'pleaded', 'untold', '209', 'etched', 'soaked', 'coverings', 'atmospheric', 'pointless', 'coyote', 'cozier', 'crutch', '1992', 'lava', 'linguists', 'unreal', 'pint', 'cozying', 'suspensions', 'tails', 'unfolding', 'cp', 'impeded', 'philanthropists', 'solidified', 'candid', 'lillian', 'crushed', 'lightbulbs', 'automobiles', 'bachelor', 'kool', 'favored', 'cerebellum', 'spices', 'fats', 'achieve3000', 'rat', 'chairless', 'faux', 'spina', 'accustom', 'acted', 'reachable', 'accumulating', '620', 'spinal', 'combos', '640', 'wardrobe', 'vocally', 'committees', 'startling', 'rakes', 'clef', 'iqs', 'biscuit', 'bananagrams', 'froggy', '50th', 'complementary', 'fixes', 'viking', 'fafsa', 'faire', 'inventories', 'biotech', 'falcon', 'speedy', 'radiant', 'introverted', 'fantastically', 'ream', 'collaborates', 'accord', 'chelsea', 'acclimating', 'stencil', 'imbedded', '90th', 'clown', 'weighs', 'steinbeck', 'referee', 'beautifying', 'illuminating', 'inquirer', 'accentuate', 'forged', 'accesses', 'forgive', 'wedge', 'fireman', 'co2', 'cheetos', 'voicing', 'coalition', 'receipt', 'hurray', 'spiritually', 'recieved', 'stilton', 'iac', 'coherent', 'retaught', 'voters', 'recline', 'recliner', '730', 'cod', 'votes', 'stethoscopes', 'clients', 'installations', 'ban', 'complimenting', 'potters', 'katherine', 'reinventing', 'rugby', 'rudimentary', 'converge', 'springtime', 'contradiction', 'keenly', 'axis', 'funneling', 'pulley', 'continental', 'contextual', 'addictions', 'fungi', 'indonesia', 'casts', 'lombardi', 'backboard', 'killer', 'winding', 'furthered', 'prepped', '3120', 'excepting', 'powtoon', 'pragmatics', 'gainful', 'upstairs', 'soothes', 'excessively', 'carpentry', 'kinetics', 'hodge', 'sunflower', 'pregnancies', 'prejudices', 'premiere', 'fusing', 'ut', 'adapts', 'justifying', 'warned', 'confess', 'muhammad', 'repurposing', 'activies', 'fronts', '4cs', 'extracurriculars', 'activboard', 'isucceed', 'vibes', 'bakers', 'bites', 'reign', 'ish', 'pueblo', 'ireland', 'stripped', 'bistro', 'hospitalized', 'width', 'vases', 'rodeo', 'foreseeable', 'expenditure', 'julie', 'subscribed', 'venn', 'submerge', 'jolly', 'hops', 'roofs', 'rollin', 'blasting', 'jiggles', 'jewish', 'configure', 'jewel', 'jay', 'rogue', 'permeates', 'picchu', 'tenfold', 'titanic', 'shel', 'monologues', 'apraxic', 'manufacturer', 'ecse', 'brita', 'dsjh', 'nesting', 'glimmer', 'molecule', 'palfrey', 'modelling', 'alliteration', 'denying', 'dimmed', 'halse']"
     ]
    },
    {
     "name": "stdout",
     "output_type": "stream",
     "text": [
      "\n"
     ]
    }
   ],
   "source": [
    "## References : https://stackoverflow.com/questions/25217510/how-to-see-top-n-entries-of-term-document-matrix-after-tfidf-in-scikit-learn/25219535\n",
    "indices = np.argsort(tfidf_vect.idf_)[::-1]\n",
    "features = tfidf_vect.get_feature_names()\n",
    "top_n = 2000\n",
    "top_features = [features[i] for i in indices[:top_n]]\n",
    "print(top_features)"
   ]
  },
  {
   "cell_type": "markdown",
   "metadata": {
    "colab_type": "text",
    "id": "0h1n6fbEqzF2"
   },
   "source": [
    "<h2>2.2 Computing Co-occurance matrix</h2>"
   ]
  },
  {
   "cell_type": "code",
   "execution_count": 58,
   "metadata": {
    "colab": {},
    "colab_type": "code",
    "collapsed": true,
    "id": "euNHCTEcqzF3"
   },
   "outputs": [],
   "source": [
    "# please write all the code with proper documentation, and proper titles for each subsection\n",
    "# go through documentations and blogs before you start coding \n",
    "# first figure out what to do, and then think about how to do.\n",
    "# reading and understanding error messages will be very much helpfull in debugging your code\n",
    "# make sure you featurize train and test data separatly\n",
    "\n",
    "# when you plot any graph make sure you use \n",
    "    # a. Title, that describes your plot, this will be very helpful to the reader\n",
    "    # b. Legends if needed\n",
    "    # c. X-axis label\n",
    "    # d. Y-axis label"
   ]
  },
  {
   "cell_type": "markdown",
   "metadata": {},
   "source": [
    "__Function to form Co-Occurence Matrix__  "
   ]
  },
  {
   "cell_type": "code",
   "execution_count": 62,
   "metadata": {
    "collapsed": true
   },
   "outputs": [],
   "source": [
    "## Reference : https://stackoverflow.com/questions/20574257/constructing-a-co-occurrence-matrix-in-python-pandas\n",
    "def form_coocur_mat(sample, n_neighbour, top_n_feat_names) :\n",
    "    #coocur_mat = []\n",
    "    coocur_mat = np.array([[0 for row in range(len(top_n_feat_names))] for column in range(len(top_n_feat_names))])\n",
    "    coocur_df = pd.DataFrame(coocur_mat, index=top_n_feat_names, columns=top_n_feat_names)\n",
    "    index = 0\n",
    "    for sentence in sample :\n",
    "        word_list = sentence.split(\" \")\n",
    "        index = index + 1\n",
    "        #print(index)\n",
    "        for row in range(len(word_list)) :\n",
    "            if word_list[row] in top_n_feat_names :\n",
    "                for col in range(1,n_neighbour+1) :\n",
    "                    if (row + col) < len(word_list) and word_list[row+col] in top_n_feat_names :\n",
    "                        if ((row + col) < len(word_list)) and (word_list[row] != word_list[row+col]) :\n",
    "                            coocur_df.loc[word_list[row], word_list[row+col]] += 1 # If word i occurs in the proximity of word j add +1 to matrix.\n",
    "                            coocur_df.loc[word_list[row+col], word_list[row]] += 1 # Same as above for word j\n",
    "        # Get the progress of the execution \n",
    "        if index % 1000 == 0:\n",
    "            print('Number of sentences whose processing have been completed = ',index)\n",
    "    return coocur_df            \n",
    "                \n",
    "                "
   ]
  },
  {
   "cell_type": "markdown",
   "metadata": {},
   "source": [
    "__Function to find the optimal no. of components based on explained variance using elbow-curve method__"
   ]
  },
  {
   "cell_type": "code",
   "execution_count": 63,
   "metadata": {
    "collapsed": true
   },
   "outputs": [],
   "source": [
    "from sklearn.decomposition import TruncatedSVD\n",
    "def TruncatedSVD_n_comp(coocur_mat, k) :\n",
    "    variance = []\n",
    "    maxexp_var = -1\n",
    "    svdmax = 0\n",
    "    svdmax_list = []\n",
    "    for component in k:\n",
    "        t_svd = TruncatedSVD(n_components=component)\n",
    "        t_svd.fit(coocur_mat)\n",
    "        expsum = t_svd.explained_variance_ratio_.sum() # Calculate the explained variance ratio sum.\n",
    "        variance.append(expsum)\n",
    "        svdmax_list.append(t_svd)\n",
    "    maxexp_var = max(variance)\n",
    "    max_index = variance.index(maxexp_var)\n",
    "    svdmax = svdmax_list[max_index]\n",
    "    return svdmax, k, variance "
   ]
  },
  {
   "cell_type": "code",
   "execution_count": 64,
   "metadata": {
    "collapsed": true
   },
   "outputs": [],
   "source": [
    "def plot_Cumulative_Variance(k , variance) :\n",
    "    plt.figure(1,figsize = (7,5))\n",
    "    plt.clf()\n",
    "    plt.plot(k, variance)\n",
    "    plt.scatter(k, variance)\n",
    "    plt.axis('tight')\n",
    "    plt.grid()\n",
    "    plt.title(\"Variance Explained vs. Number of Components\")\n",
    "    plt.xlabel(\"Number of Components\")\n",
    "    plt.ylabel(\"Total Variance Explained in %\")\n",
    "    plt.show()"
   ]
  },
  {
   "cell_type": "markdown",
   "metadata": {},
   "source": [
    "__Function to compute vectors U,Sigma and V Transpose__"
   ]
  },
  {
   "cell_type": "code",
   "execution_count": 65,
   "metadata": {
    "collapsed": true
   },
   "outputs": [],
   "source": [
    "## Reference :https://stackoverflow.com/questions/31523575/get-u-sigma-v-matrix-from-truncated-svd-in-scikit-learn\n",
    "def compute_U_Sigma_VT(coocur_mat, svdmax):\n",
    "    U = svdmax.transform(coocur_mat)\n",
    "    Sigma_arr = np.array([[0 for x in range(svdmax.singular_values_.shape[0])] for x in range(svdmax.singular_values_.shape[0])])\n",
    "    for i in range(svdmax.singular_values_.shape[0]):\n",
    "        Sigma_arr[i, i] = svdmax.singular_values_[i]\n",
    "    VT = svdmax.components_    \n",
    "    Sigma = Sigma_arr\n",
    "    return (U, Sigma, VT)"
   ]
  },
  {
   "cell_type": "markdown",
   "metadata": {
    "colab_type": "text",
    "id": "gZ3CxfzRqzF4"
   },
   "source": [
    "<h2>2.3 Applying TruncatedSVD and Calculating Vectors for `essay` and `project_title`</h2>"
   ]
  },
  {
   "cell_type": "code",
   "execution_count": 93,
   "metadata": {
    "colab": {},
    "colab_type": "code",
    "collapsed": true,
    "id": "XxstINO8qzF4"
   },
   "outputs": [],
   "source": [
    "# please write all the code with proper documentation, and proper titles for each subsection\n",
    "# go through documentations and blogs before you start coding\n",
    "# first figure out what to do, and then think about how to do.\n",
    "# reading and understanding error messages will be very much helpfull in debugging your code\n",
    "# make sure you featurize train and test data separatly\n",
    "\n",
    "# when you plot any graph make sure you use \n",
    "    # a. Title, that describes your plot, this will be very helpful to the reader\n",
    "    # b. Legends if needed\n",
    "    # c. X-axis label\n",
    "    # d. Y-axis label"
   ]
  },
  {
   "cell_type": "code",
   "execution_count": 66,
   "metadata": {},
   "outputs": [
    {
     "name": "stdout",
     "output_type": "stream",
     "text": [
      "Number of sentences whose processing have been completed =  1000\n",
      "Number of sentences whose processing have been completed =  2000\n",
      "Number of sentences whose processing have been completed =  3000\n",
      "Number of sentences whose processing have been completed =  4000\n",
      "Number of sentences whose processing have been completed =  5000\n",
      "Number of sentences whose processing have been completed =  6000\n",
      "Number of sentences whose processing have been completed =  7000\n",
      "Number of sentences whose processing have been completed =  8000\n",
      "Number of sentences whose processing have been completed =  9000\n",
      "Number of sentences whose processing have been completed =  10000\n",
      "Number of sentences whose processing have been completed =  11000\n",
      "Number of sentences whose processing have been completed =  12000\n",
      "Number of sentences whose processing have been completed =  13000\n",
      "Number of sentences whose processing have been completed =  14000\n",
      "Number of sentences whose processing have been completed =  15000\n",
      "Number of sentences whose processing have been completed =  16000\n",
      "Number of sentences whose processing have been completed =  17000\n",
      "Number of sentences whose processing have been completed =  18000\n",
      "Number of sentences whose processing have been completed =  19000\n",
      "Number of sentences whose processing have been completed =  20000\n",
      "Number of sentences whose processing have been completed =  21000\n",
      "Number of sentences whose processing have been completed =  22000\n",
      "Number of sentences whose processing have been completed =  23000\n",
      "Number of sentences whose processing have been completed =  24000\n",
      "Number of sentences whose processing have been completed =  25000\n",
      "Number of sentences whose processing have been completed =  26000\n",
      "Number of sentences whose processing have been completed =  27000\n",
      "Number of sentences whose processing have been completed =  28000\n",
      "Number of sentences whose processing have been completed =  29000\n",
      "Number of sentences whose processing have been completed =  30000\n",
      "Number of sentences whose processing have been completed =  31000\n",
      "Number of sentences whose processing have been completed =  32000\n",
      "Number of sentences whose processing have been completed =  33000\n",
      "Number of sentences whose processing have been completed =  34000\n",
      "Number of sentences whose processing have been completed =  35000\n",
      "Number of sentences whose processing have been completed =  36000\n",
      "Number of sentences whose processing have been completed =  37000\n",
      "Number of sentences whose processing have been completed =  38000\n",
      "Number of sentences whose processing have been completed =  39000\n",
      "Number of sentences whose processing have been completed =  40000\n",
      "Number of sentences whose processing have been completed =  41000\n",
      "Number of sentences whose processing have been completed =  42000\n",
      "Number of sentences whose processing have been completed =  43000\n",
      "Number of sentences whose processing have been completed =  44000\n",
      "Number of sentences whose processing have been completed =  45000\n",
      "Number of sentences whose processing have been completed =  46000\n",
      "Number of sentences whose processing have been completed =  47000\n",
      "Number of sentences whose processing have been completed =  48000\n",
      "Number of sentences whose processing have been completed =  49000\n",
      "Number of sentences whose processing have been completed =  50000\n",
      "Number of sentences whose processing have been completed =  51000\n",
      "Number of sentences whose processing have been completed =  52000\n",
      "Number of sentences whose processing have been completed =  53000\n",
      "Number of sentences whose processing have been completed =  54000\n",
      "Number of sentences whose processing have been completed =  55000\n",
      "Number of sentences whose processing have been completed =  56000\n",
      "Number of sentences whose processing have been completed =  57000\n",
      "Number of sentences whose processing have been completed =  58000\n",
      "Number of sentences whose processing have been completed =  59000\n",
      "Number of sentences whose processing have been completed =  60000\n",
      "Number of sentences whose processing have been completed =  61000\n",
      "Number of sentences whose processing have been completed =  62000\n",
      "Number of sentences whose processing have been completed =  63000\n",
      "Number of sentences whose processing have been completed =  64000\n",
      "Number of sentences whose processing have been completed =  65000\n",
      "Number of sentences whose processing have been completed =  66000\n",
      "Number of sentences whose processing have been completed =  67000\n",
      "Number of sentences whose processing have been completed =  68000\n",
      "Number of sentences whose processing have been completed =  69000\n",
      "Number of sentences whose processing have been completed =  70000\n",
      "Number of sentences whose processing have been completed =  71000\n",
      "Number of sentences whose processing have been completed =  72000\n",
      "Number of sentences whose processing have been completed =  73000\n",
      "Number of sentences whose processing have been completed =  74000\n",
      "Number of sentences whose processing have been completed =  75000\n",
      "Number of sentences whose processing have been completed =  76000\n",
      "Number of sentences whose processing have been completed =  77000\n",
      "Number of sentences whose processing have been completed =  78000\n",
      "Number of sentences whose processing have been completed =  79000\n",
      "Number of sentences whose processing have been completed =  80000\n",
      "Number of sentences whose processing have been completed =  81000\n",
      "Number of sentences whose processing have been completed =  82000\n",
      "Number of sentences whose processing have been completed =  83000\n",
      "Number of sentences whose processing have been completed =  84000\n",
      "Number of sentences whose processing have been completed =  85000\n",
      "Number of sentences whose processing have been completed =  86000\n",
      "Number of sentences whose processing have been completed =  87000\n",
      "Number of sentences whose processing have been completed =  88000\n",
      "Number of sentences whose processing have been completed =  89000\n",
      "Number of sentences whose processing have been completed =  90000\n",
      "Number of sentences whose processing have been completed =  91000\n",
      "Number of sentences whose processing have been completed =  92000\n",
      "Number of sentences whose processing have been completed =  93000\n",
      "Number of sentences whose processing have been completed =  94000\n",
      "Number of sentences whose processing have been completed =  95000\n",
      "Number of sentences whose processing have been completed =  96000\n",
      "Number of sentences whose processing have been completed =  97000\n",
      "Number of sentences whose processing have been completed =  98000\n",
      "Number of sentences whose processing have been completed =  99000\n",
      "Number of sentences whose processing have been completed =  100000\n",
      "Number of sentences whose processing have been completed =  101000\n",
      "Number of sentences whose processing have been completed =  102000\n",
      "Number of sentences whose processing have been completed =  103000\n",
      "Number of sentences whose processing have been completed =  104000\n",
      "Number of sentences whose processing have been completed =  105000\n",
      "Number of sentences whose processing have been completed =  106000\n",
      "Number of sentences whose processing have been completed =  107000\n",
      "Number of sentences whose processing have been completed =  108000\n",
      "Number of sentences whose processing have been completed =  109000\n"
     ]
    }
   ],
   "source": [
    "coocur_mat = form_coocur_mat(essay_title, 5, top_features)"
   ]
  },
  {
   "cell_type": "code",
   "execution_count": 67,
   "metadata": {},
   "outputs": [
    {
     "data": {
      "text/plain": [
       "(2000, 2000)"
      ]
     },
     "execution_count": 67,
     "metadata": {},
     "output_type": "execute_result"
    }
   ],
   "source": [
    "coocur_mat.shape"
   ]
  },
  {
   "cell_type": "code",
   "execution_count": 68,
   "metadata": {
    "collapsed": true
   },
   "outputs": [],
   "source": [
    "svdmax, optimal_comp, variance = TruncatedSVD_n_comp(coocur_mat, [500, 700, 900, 1100, 1300, 1500])"
   ]
  },
  {
   "cell_type": "code",
   "execution_count": 69,
   "metadata": {},
   "outputs": [
    {
     "data": {
      "image/png": "[encoded data removed]",
      "text/plain": [
       "<Figure size 504x360 with 1 Axes>"
      ]
     },
     "metadata": {},
     "output_type": "display_data"
    }
   ],
   "source": [
    "plot_Cumulative_Variance(optimal_comp , variance)"
   ]
  },
  {
   "cell_type": "code",
   "execution_count": 70,
   "metadata": {},
   "outputs": [
    {
     "name": "stdout",
     "output_type": "stream",
     "text": [
      "(2000, 900)\n",
      "(900, 900)\n",
      "(900, 2000)\n"
     ]
    }
   ],
   "source": [
    "U,Sigma,VT = compute_U_Sigma_VT(coocur_mat, svdmax)\n",
    "print(U.shape)\n",
    "print(Sigma.shape)\n",
    "print(VT.shape)"
   ]
  },
  {
   "cell_type": "code",
   "execution_count": 72,
   "metadata": {
    "collapsed": true
   },
   "outputs": [],
   "source": [
    "## Reference :https://github.com/kuk/log-progress\n",
    "def log_progress(sequence, every=None, size=None, name='Items'):\n",
    "    from ipywidgets import IntProgress, HTML, VBox\n",
    "    from IPython.display import display\n",
    "\n",
    "    is_iterator = False\n",
    "    if size is None:\n",
    "        try:\n",
    "            size = len(sequence)\n",
    "        except TypeError:\n",
    "            is_iterator = True\n",
    "    if size is not None:\n",
    "        if every is None:\n",
    "            if size <= 200:\n",
    "                every = 1\n",
    "            else:\n",
    "                every = int(size / 200)     # every 0.5%\n",
    "    else:\n",
    "        assert every is not None, 'sequence is iterator, set every'\n",
    "\n",
    "    if is_iterator:\n",
    "        progress = IntProgress(min=0, max=1, value=1)\n",
    "        progress.bar_style = 'info'\n",
    "    else:\n",
    "        progress = IntProgress(min=0, max=size, value=0)\n",
    "    label = HTML()\n",
    "    box = VBox(children=[label, progress])\n",
    "    display(box)\n",
    "\n",
    "    index = 0\n",
    "    try:\n",
    "        for index, record in enumerate(sequence, 1):\n",
    "            if index == 1 or index % every == 0:\n",
    "                if is_iterator:\n",
    "                    label.value = '{name}: {index} / ?'.format(\n",
    "                        name=name,\n",
    "                        index=index\n",
    "                    )\n",
    "                else:\n",
    "                    progress.value = index\n",
    "                    label.value = u'{name}: {index} / {size}'.format(\n",
    "                        name=name,\n",
    "                        index=index,\n",
    "                        size=size\n",
    "                    )\n",
    "            yield record\n",
    "    except:\n",
    "        progress.bar_style = 'danger'\n",
    "        raise\n",
    "    else:\n",
    "        progress.bar_style = 'success'\n",
    "        progress.value = index\n",
    "        label.value = \"{name}: {index}\".format(\n",
    "            name=name,\n",
    "            index=str(index or '?')\n",
    "        )"
   ]
  },
  {
   "cell_type": "markdown",
   "metadata": {},
   "source": [
    "__Calculate vectors of essay__\n",
    "\n",
    "After decreasing the dimensions of word vectors using Truncated SVD, you can vectorize essay text by taking the mean to all the word vectors of important words in each essay.\n",
    "\n",
    "For example, an essay has three important words then you can represent that essay as a mean to the word vectors of those three words.\n"
   ]
  },
  {
   "cell_type": "code",
   "execution_count": 73,
   "metadata": {},
   "outputs": [
    {
     "data": {
      "application/vnd.jupyter.widget-view+json": {
       "model_id": "43059e653eb4423998a8aee1f6328aa8",
       "version_major": 2,
       "version_minor": 0
      },
      "text/plain": [
       "A Jupyter Widget"
      ]
     },
     "metadata": {},
     "output_type": "display_data"
    }
   ],
   "source": [
    "vector =np.zeros(900)\n",
    "vec_essay = []\n",
    "cnt = 0\n",
    "row_of_words = coocur_mat.index.values.tolist()\n",
    "for i in log_progress(range(len(preprocessed_essays))) :\n",
    "    e = preprocessed_essays[i]\n",
    "    cnt = 0\n",
    "    for word in e.split() :\n",
    "        if word in top_features :\n",
    "            ind = row_of_words.index(word)\n",
    "            vector+=U[ind]\n",
    "            cnt+=1\n",
    "    if cnt!=0 :\n",
    "        vector = vector / cnt\n",
    "    #print\n",
    "    vec_essay.append(vector.tolist())        \n",
    "    vector = np.zeros(900)"
   ]
  },
  {
   "cell_type": "markdown",
   "metadata": {},
   "source": [
    "__Calculate vectors of project_title__"
   ]
  },
  {
   "cell_type": "code",
   "execution_count": 88,
   "metadata": {},
   "outputs": [
    {
     "data": {
      "application/vnd.jupyter.widget-view+json": {
       "model_id": "a3f0e2d730f349629f6e8ab6ae5e2dd8",
       "version_major": 2,
       "version_minor": 0
      },
      "text/plain": [
       "A Jupyter Widget"
      ]
     },
     "metadata": {},
     "output_type": "display_data"
    }
   ],
   "source": [
    "vector =np.zeros(900)\n",
    "vec_title = []\n",
    "cnt = 0\n",
    "row_of_words = coocur_mat.index.values.tolist()\n",
    "for i in log_progress(range(len(preprocessed_title))) :\n",
    "    e = preprocessed_title[i]\n",
    "    cnt = 0\n",
    "    for word in e.split() :\n",
    "        if word in top_features :\n",
    "            ind = row_of_words.index(word)\n",
    "            vector+=U[ind]\n",
    "            cnt+=1\n",
    "    if cnt!=0 :\n",
    "        vector = vector / cnt\n",
    "    #print\n",
    "    vec_title.append(vector)        \n",
    "    vector = np.zeros(900)"
   ]
  },
  {
   "cell_type": "markdown",
   "metadata": {},
   "source": [
    "__Calculate vectors for feature essay and project_title after concatenation__"
   ]
  },
  {
   "cell_type": "code",
   "execution_count": 89,
   "metadata": {},
   "outputs": [
    {
     "data": {
      "application/vnd.jupyter.widget-view+json": {
       "model_id": "e4a5c01b1afd4d158a26ab83fca28ba0",
       "version_major": 2,
       "version_minor": 0
      },
      "text/plain": [
       "A Jupyter Widget"
      ]
     },
     "metadata": {},
     "output_type": "display_data"
    }
   ],
   "source": [
    "vector =np.zeros(900)\n",
    "vec_essay_title = []\n",
    "cnt = 0\n",
    "row_of_words = coocur_mat.index.values.tolist()\n",
    "for i in log_progress(range(len(essay_title))) :\n",
    "    e = essay_title[i]\n",
    "    cnt = 0\n",
    "    for word in e.split() :\n",
    "        if word in top_features :\n",
    "            ind = row_of_words.index(word)\n",
    "            vector+=U[ind]\n",
    "            cnt+=1\n",
    "    if cnt!=0 :\n",
    "        vector = vector / cnt\n",
    "    #print\n",
    "    vec_essay_title.append(vector)        \n",
    "    vector = np.zeros(900)"
   ]
  },
  {
   "cell_type": "code",
   "execution_count": 87,
   "metadata": {},
   "outputs": [
    {
     "name": "stdout",
     "output_type": "stream",
     "text": [
      "Shape of matrix   (109248, 2000)\n"
     ]
    }
   ],
   "source": [
    "vect_title = TfidfVectorizer(vocabulary = top_features,min_df = 10)\n",
    "title_tfidf = vect_title.fit_transform(preprocessed_title)\n",
    "print(\"Shape of matrix  \",title_tfidf.shape)"
   ]
  },
  {
   "cell_type": "code",
   "execution_count": 88,
   "metadata": {},
   "outputs": [
    {
     "name": "stdout",
     "output_type": "stream",
     "text": [
      "Shape of matrix   (218496, 2000)\n"
     ]
    }
   ],
   "source": [
    "vect_esstitle = TfidfVectorizer(vocabulary = top_features,min_df = 10)\n",
    "esstitle_tfidf = vect_esstitle.fit_transform(essay_title)\n",
    "print(\"Shape of matrix  \",esstitle_tfidf.shape)"
   ]
  },
  {
   "cell_type": "markdown",
   "metadata": {
    "colab_type": "text",
    "id": "mZ7J8hgiqzF5"
   },
   "source": [
    "<h2>2.4 Merge the features from <font color='red'>step 3</font> and <font color='red'>step 4</font></h2>"
   ]
  },
  {
   "cell_type": "code",
   "execution_count": 0,
   "metadata": {
    "colab": {},
    "colab_type": "code",
    "collapsed": true,
    "id": "Nt-lI4OaqzF6"
   },
   "outputs": [],
   "source": [
    "# please write all the code with proper documentation, and proper titles for each subsection\n",
    "# go through documentations and blogs before you start coding\n",
    "# first figure out what to do, and then think about how to do.\n",
    "# reading and understanding error messages will be very much helpfull in debugging your code\n",
    "# when you plot any graph make sure you use \n",
    "    # a. Title, that describes your plot, this will be very helpful to the reader\n",
    "    # b. Legends if needed\n",
    "    # c. X-axis label\n",
    "    # d. Y-axis label"
   ]
  },
  {
   "cell_type": "code",
   "execution_count": 91,
   "metadata": {},
   "outputs": [
    {
     "data": {
      "text/html": [
       "<div>\n",
       "<style>\n",
       "    .dataframe thead tr:only-child th {\n",
       "        text-align: right;\n",
       "    }\n",
       "\n",
       "    .dataframe thead th {\n",
       "        text-align: left;\n",
       "    }\n",
       "\n",
       "    .dataframe tbody tr th {\n",
       "        vertical-align: top;\n",
       "    }\n",
       "</style>\n",
       "<table border=\"1\" class=\"dataframe\">\n",
       "  <thead>\n",
       "    <tr style=\"text-align: right;\">\n",
       "      <th></th>\n",
       "      <th>Unnamed: 0</th>\n",
       "      <th>id</th>\n",
       "      <th>teacher_id</th>\n",
       "      <th>teacher_prefix</th>\n",
       "      <th>school_state</th>\n",
       "      <th>project_submitted_datetime</th>\n",
       "      <th>project_grade_category</th>\n",
       "      <th>project_title</th>\n",
       "      <th>project_essay_1</th>\n",
       "      <th>project_essay_2</th>\n",
       "      <th>...</th>\n",
       "      <th>clean_subcategories</th>\n",
       "      <th>essay</th>\n",
       "      <th>price</th>\n",
       "      <th>quantity</th>\n",
       "      <th>num_words_essay</th>\n",
       "      <th>num_words_title</th>\n",
       "      <th>compound_sent_score</th>\n",
       "      <th>positive_sent_score</th>\n",
       "      <th>neutral_sent_score</th>\n",
       "      <th>negative_sent_score</th>\n",
       "    </tr>\n",
       "  </thead>\n",
       "  <tbody>\n",
       "    <tr>\n",
       "      <th>0</th>\n",
       "      <td>160221</td>\n",
       "      <td>p253737</td>\n",
       "      <td>c90749f5d961ff158d4b4d1e7dc665fc</td>\n",
       "      <td>Mrs.</td>\n",
       "      <td>IN</td>\n",
       "      <td>2016-12-05 13:43:57</td>\n",
       "      <td>Grades PreK-2</td>\n",
       "      <td>Educational Support for English Learners at Home</td>\n",
       "      <td>My students are English learners that are work...</td>\n",
       "      <td>\\\"The limits of your language are the limits o...</td>\n",
       "      <td>...</td>\n",
       "      <td>ESL Literacy</td>\n",
       "      <td>My students are English learners that are work...</td>\n",
       "      <td>154.6</td>\n",
       "      <td>23</td>\n",
       "      <td>161</td>\n",
       "      <td>5</td>\n",
       "      <td>0.9694</td>\n",
       "      <td>0.144</td>\n",
       "      <td>0.844</td>\n",
       "      <td>0.012</td>\n",
       "    </tr>\n",
       "  </tbody>\n",
       "</table>\n",
       "<p>1 rows × 25 columns</p>\n",
       "</div>"
      ],
      "text/plain": [
       "   Unnamed: 0       id                        teacher_id teacher_prefix  \\\n",
       "0      160221  p253737  c90749f5d961ff158d4b4d1e7dc665fc           Mrs.   \n",
       "\n",
       "  school_state project_submitted_datetime project_grade_category  \\\n",
       "0           IN        2016-12-05 13:43:57          Grades PreK-2   \n",
       "\n",
       "                                      project_title  \\\n",
       "0  Educational Support for English Learners at Home   \n",
       "\n",
       "                                     project_essay_1  \\\n",
       "0  My students are English learners that are work...   \n",
       "\n",
       "                                     project_essay_2         ...           \\\n",
       "0  \\\"The limits of your language are the limits o...         ...            \n",
       "\n",
       "  clean_subcategories                                              essay  \\\n",
       "0        ESL Literacy  My students are English learners that are work...   \n",
       "\n",
       "   price  quantity num_words_essay num_words_title compound_sent_score  \\\n",
       "0  154.6        23             161               5              0.9694   \n",
       "\n",
       "   positive_sent_score  neutral_sent_score  negative_sent_score  \n",
       "0                0.144               0.844                0.012  \n",
       "\n",
       "[1 rows x 25 columns]"
      ]
     },
     "execution_count": 91,
     "metadata": {},
     "output_type": "execute_result"
    }
   ],
   "source": [
    "y = project_data['project_is_approved'].values\n",
    "project_data.drop(['project_is_approved'], axis=1, inplace=True)\n",
    "project_data.head(1)"
   ]
  },
  {
   "cell_type": "code",
   "execution_count": 92,
   "metadata": {
    "collapsed": true
   },
   "outputs": [],
   "source": [
    "X = project_data"
   ]
  },
  {
   "cell_type": "code",
   "execution_count": 93,
   "metadata": {
    "collapsed": true
   },
   "outputs": [],
   "source": [
    "from sklearn.model_selection import train_test_split\n",
    "X_train, X_test, y_train, y_test = train_test_split(X, y, test_size=0.33, stratify=y)\n",
    "X_train, X_cv, y_train, y_cv = train_test_split(X_train, y_train, test_size=0.33, stratify=y_train)"
   ]
  },
  {
   "cell_type": "markdown",
   "metadata": {},
   "source": [
    "__one hot encoding the catogorical features: school state__"
   ]
  },
  {
   "cell_type": "code",
   "execution_count": 94,
   "metadata": {},
   "outputs": [
    {
     "name": "stdout",
     "output_type": "stream",
     "text": [
      "After vectorizations\n",
      "(49041, 51) (49041,)\n",
      "(24155, 51) (24155,)\n",
      "(36052, 51) (36052,)\n",
      "['ak', 'al', 'ar', 'az', 'ca', 'co', 'ct', 'dc', 'de', 'fl', 'ga', 'hi', 'ia', 'id', 'il', 'in', 'ks', 'ky', 'la', 'ma', 'md', 'me', 'mi', 'mn', 'mo', 'ms', 'mt', 'nc', 'nd', 'ne', 'nh', 'nj', 'nm', 'nv', 'ny', 'oh', 'ok', 'or', 'pa', 'ri', 'sc', 'sd', 'tn', 'tx', 'ut', 'va', 'vt', 'wa', 'wi', 'wv', 'wy']\n",
      "====================================================================================================\n"
     ]
    }
   ],
   "source": [
    "# One hot encoding of school state\n",
    "vectorizer = CountVectorizer()\n",
    "vectorizer.fit(X_train['school_state'].values) # fit has to happen only on train data\n",
    "\n",
    "# we use the fitted CountVectorizer to convert the text to vector\n",
    "X_train_state_ohe = vectorizer.transform(X_train['school_state'].values)\n",
    "X_cv_state_ohe = vectorizer.transform(X_cv['school_state'].values)\n",
    "X_test_state_ohe = vectorizer.transform(X_test['school_state'].values)\n",
    "\n",
    "print(\"After vectorizations\")\n",
    "print(X_train_state_ohe.shape, y_train.shape)\n",
    "print(X_cv_state_ohe.shape, y_cv.shape)\n",
    "print(X_test_state_ohe.shape, y_test.shape)\n",
    "print(vectorizer.get_feature_names())\n",
    "print(\"=\"*100)"
   ]
  },
  {
   "cell_type": "markdown",
   "metadata": {},
   "source": [
    "__one hot encoding the catogorical features: teacher_prefix__"
   ]
  },
  {
   "cell_type": "code",
   "execution_count": 95,
   "metadata": {},
   "outputs": [
    {
     "name": "stdout",
     "output_type": "stream",
     "text": [
      "After vectorizations\n",
      "(49041, 6) (49041,)\n",
      "(24155, 6) (24155,)\n",
      "(36052, 6) (36052,)\n",
      "['dr', 'mr', 'mrs', 'ms', 'nan', 'teacher']\n",
      "====================================================================================================\n"
     ]
    }
   ],
   "source": [
    "# One hot encoding of \n",
    "vectorizer = CountVectorizer()\n",
    "vectorizer.fit(X_train['teacher_prefix'].values.astype('U')) # fit has to happen only on train data\n",
    "\n",
    "# we use the fitted CountVectorizer to convert the text to vector\n",
    "X_train_teacher_ohe = vectorizer.transform(X_train['teacher_prefix'].values.astype('U'))\n",
    "X_cv_teacher_ohe = vectorizer.transform(X_cv['teacher_prefix'].values.astype('U'))\n",
    "X_test_teacher_ohe = vectorizer.transform(X_test['teacher_prefix'].values.astype('U'))\n",
    "\n",
    "print(\"After vectorizations\")\n",
    "print(X_train_teacher_ohe.shape, y_train.shape)\n",
    "print(X_cv_teacher_ohe.shape, y_cv.shape)\n",
    "print(X_test_teacher_ohe.shape, y_test.shape)\n",
    "print(vectorizer.get_feature_names())\n",
    "print(\"=\"*100)"
   ]
  },
  {
   "cell_type": "markdown",
   "metadata": {},
   "source": [
    "__one hot encoding the catogorical features: project_grade_category__"
   ]
  },
  {
   "cell_type": "code",
   "execution_count": 96,
   "metadata": {},
   "outputs": [
    {
     "name": "stdout",
     "output_type": "stream",
     "text": [
      "After vectorizations\n",
      "(49041, 3) (49041,)\n",
      "(24155, 3) (24155,)\n",
      "(36052, 3) (36052,)\n",
      "['12', 'grades', 'prek']\n",
      "====================================================================================================\n"
     ]
    }
   ],
   "source": [
    "vectorizer = CountVectorizer()\n",
    "vectorizer.fit(X_train['project_grade_category'].values.astype('U')) # fit has to happen only on train data\n",
    "\n",
    "# we use the fitted CountVectorizer to convert the text to vector\n",
    "X_train_grade_ohe = vectorizer.transform(X_train['project_grade_category'].values.astype('U'))\n",
    "X_cv_grade_ohe = vectorizer.transform(X_cv['project_grade_category'].values.astype('U'))\n",
    "X_test_grade_ohe = vectorizer.transform(X_test['project_grade_category'].values.astype('U'))\n",
    "\n",
    "print(\"After vectorizations\")\n",
    "print(X_train_grade_ohe.shape, y_train.shape)\n",
    "print(X_cv_grade_ohe.shape, y_cv.shape)\n",
    "print(X_test_grade_ohe.shape, y_test.shape)\n",
    "print(vectorizer.get_feature_names())\n",
    "print(\"=\"*100)"
   ]
  },
  {
   "cell_type": "markdown",
   "metadata": {},
   "source": [
    "__one hot encoding the catogorical features: clean_categories__"
   ]
  },
  {
   "cell_type": "code",
   "execution_count": 97,
   "metadata": {},
   "outputs": [
    {
     "name": "stdout",
     "output_type": "stream",
     "text": [
      "After vectorizations\n",
      "(49041, 9) (49041,)\n",
      "(24155, 9) (24155,)\n",
      "(36052, 9) (36052,)\n",
      "['appliedlearning', 'care_hunger', 'health_sports', 'history_civics', 'literacy_language', 'math_science', 'music_arts', 'specialneeds', 'warmth']\n",
      "====================================================================================================\n"
     ]
    }
   ],
   "source": [
    "vectorizer = CountVectorizer()\n",
    "vectorizer.fit(X_train['clean_categories'].values.astype('U')) # fit has to happen only on train data\n",
    "\n",
    "# we use the fitted CountVectorizer to convert the text to vector\n",
    "X_train_cat_ohe = vectorizer.transform(X_train['clean_categories'].values.astype('U'))\n",
    "X_cv_cat_ohe = vectorizer.transform(X_cv['clean_categories'].values.astype('U'))\n",
    "X_test_cat_ohe = vectorizer.transform(X_test['clean_categories'].values.astype('U'))\n",
    "\n",
    "print(\"After vectorizations\")\n",
    "print(X_train_cat_ohe.shape, y_train.shape)\n",
    "print(X_cv_cat_ohe.shape, y_cv.shape)\n",
    "print(X_test_cat_ohe.shape, y_test.shape)\n",
    "print(vectorizer.get_feature_names())\n",
    "print(\"=\"*100)"
   ]
  },
  {
   "cell_type": "markdown",
   "metadata": {},
   "source": [
    "__one hot encoding the catogorical features: clean_subcategories__"
   ]
  },
  {
   "cell_type": "code",
   "execution_count": 98,
   "metadata": {},
   "outputs": [
    {
     "name": "stdout",
     "output_type": "stream",
     "text": [
      "After vectorizations\n",
      "(49041, 30) (49041,)\n",
      "(24155, 30) (24155,)\n",
      "(36052, 30) (36052,)\n",
      "['appliedsciences', 'care_hunger', 'charactereducation', 'civics_government', 'college_careerprep', 'communityservice', 'earlydevelopment', 'economics', 'environmentalscience', 'esl', 'extracurricular', 'financialliteracy', 'foreignlanguages', 'gym_fitness', 'health_lifescience', 'health_wellness', 'history_geography', 'literacy', 'literature_writing', 'mathematics', 'music', 'nutritioneducation', 'other', 'parentinvolvement', 'performingarts', 'socialsciences', 'specialneeds', 'teamsports', 'visualarts', 'warmth']\n",
      "====================================================================================================\n"
     ]
    }
   ],
   "source": [
    "vectorizer = CountVectorizer()\n",
    "vectorizer.fit(X_train['clean_subcategories'].values.astype('U')) # fit has to happen only on train data\n",
    "\n",
    "# we use the fitted CountVectorizer to convert the text to vector\n",
    "X_train_subcat_ohe = vectorizer.transform(X_train['clean_subcategories'].values.astype('U'))\n",
    "X_cv_subcat_ohe = vectorizer.transform(X_cv['clean_subcategories'].values.astype('U'))\n",
    "X_test_subcat_ohe = vectorizer.transform(X_test['clean_subcategories'].values.astype('U'))\n",
    "\n",
    "print(\"After vectorizations\")\n",
    "print(X_train_subcat_ohe.shape, y_train.shape)\n",
    "print(X_cv_subcat_ohe.shape, y_cv.shape)\n",
    "print(X_test_subcat_ohe.shape, y_test.shape)\n",
    "print(vectorizer.get_feature_names())\n",
    "print(\"=\"*100)"
   ]
  },
  {
   "cell_type": "markdown",
   "metadata": {},
   "source": [
    "__Normalizing the numerical features: Price__"
   ]
  },
  {
   "cell_type": "code",
   "execution_count": 99,
   "metadata": {},
   "outputs": [
    {
     "name": "stdout",
     "output_type": "stream",
     "text": [
      "After vectorizations\n",
      "(49041, 1) (49041,)\n",
      "(24155, 1) (24155,)\n",
      "(36052, 1) (36052,)\n",
      "====================================================================================================\n"
     ]
    }
   ],
   "source": [
    "from sklearn.preprocessing import Normalizer\n",
    "normalizer = Normalizer()\n",
    "# normalizer.fit(X_train['price'].values)\n",
    "# this will rise an error Expected 2D array, got 1D array instead: \n",
    "# array=[105.22 215.96  96.01 ... 368.98  80.53 709.67].\n",
    "# Reshape your data either using \n",
    "# array.reshape(-1, 1) if your data has a single feature \n",
    "# array.reshape(1, -1)  if it contains a single sample.\n",
    "normalizer.fit(X_train['price'].values.reshape(-1,1))\n",
    "\n",
    "X_train_price_norm = normalizer.transform(X_train['price'].values.reshape(-1,1))\n",
    "X_cv_price_norm = normalizer.transform(X_cv['price'].values.reshape(-1,1))\n",
    "X_test_price_norm = normalizer.transform(X_test['price'].values.reshape(-1,1))\n",
    "\n",
    "print(\"After vectorizations\")\n",
    "print(X_train_price_norm.shape, y_train.shape)\n",
    "print(X_cv_price_norm.shape, y_cv.shape)\n",
    "print(X_test_price_norm.shape, y_test.shape)\n",
    "print(\"=\"*100)"
   ]
  },
  {
   "cell_type": "markdown",
   "metadata": {},
   "source": [
    "__Normalizing the numerical features: quantity__"
   ]
  },
  {
   "cell_type": "code",
   "execution_count": 100,
   "metadata": {},
   "outputs": [
    {
     "name": "stdout",
     "output_type": "stream",
     "text": [
      "After vectorizations\n",
      "(49041, 1) (49041,)\n",
      "(24155, 1) (24155,)\n",
      "(36052, 1) (36052,)\n",
      "====================================================================================================\n"
     ]
    }
   ],
   "source": [
    "from sklearn.preprocessing import Normalizer\n",
    "normalizer = Normalizer()\n",
    "# normalizer.fit(X_train['price'].values)\n",
    "# this will rise an error Expected 2D array, got 1D array instead: \n",
    "# array=[105.22 215.96  96.01 ... 368.98  80.53 709.67].\n",
    "# Reshape your data either using \n",
    "# array.reshape(-1, 1) if your data has a single feature \n",
    "# array.reshape(1, -1)  if it contains a single sample.\n",
    "normalizer.fit(X_train['quantity'].values.reshape(-1,1))\n",
    "\n",
    "X_train_quantity_norm = normalizer.transform(X_train['quantity'].values.reshape(-1,1))\n",
    "X_cv_quantity_norm = normalizer.transform(X_cv['quantity'].values.reshape(-1,1))\n",
    "X_test_quantity_norm = normalizer.transform(X_test['quantity'].values.reshape(-1,1))\n",
    "\n",
    "print(\"After vectorizations\")\n",
    "print(X_train_quantity_norm.shape, y_train.shape)\n",
    "print(X_cv_quantity_norm.shape, y_cv.shape)\n",
    "print(X_test_quantity_norm.shape, y_test.shape)\n",
    "print(\"=\"*100)"
   ]
  },
  {
   "cell_type": "markdown",
   "metadata": {},
   "source": [
    "__Normalizing the numerical features: num_words_essay ___"
   ]
  },
  {
   "cell_type": "code",
   "execution_count": 101,
   "metadata": {},
   "outputs": [
    {
     "name": "stdout",
     "output_type": "stream",
     "text": [
      "After vectorizations\n",
      "(49041, 1) (49041,)\n",
      "(24155, 1) (24155,)\n",
      "(36052, 1) (36052,)\n",
      "====================================================================================================\n"
     ]
    }
   ],
   "source": [
    "from sklearn.preprocessing import Normalizer\n",
    "normalizer = Normalizer()\n",
    "# normalizer.fit(X_train['price'].values)\n",
    "# this will rise an error Expected 2D array, got 1D array instead: \n",
    "# array=[105.22 215.96  96.01 ... 368.98  80.53 709.67].\n",
    "# Reshape your data either using \n",
    "# array.reshape(-1, 1) if your data has a single feature \n",
    "# array.reshape(1, -1)  if it contains a single sample.\n",
    "normalizer.fit(X_train['num_words_essay'].values.reshape(-1,1))\n",
    "\n",
    "X_train_nowe_norm = normalizer.transform(X_train['num_words_essay'].values.reshape(-1,1))\n",
    "X_cv_nowe_norm = normalizer.transform(X_cv['num_words_essay'].values.reshape(-1,1))\n",
    "X_test_nowe_norm = normalizer.transform(X_test['num_words_essay'].values.reshape(-1,1))\n",
    "\n",
    "print(\"After vectorizations\")\n",
    "print(X_train_nowe_norm.shape, y_train.shape)\n",
    "print(X_cv_nowe_norm.shape, y_cv.shape)\n",
    "print(X_test_nowe_norm.shape, y_test.shape)\n",
    "print(\"=\"*100)"
   ]
  },
  {
   "cell_type": "markdown",
   "metadata": {},
   "source": [
    "__Normalizing the numerical features: number of words in title__"
   ]
  },
  {
   "cell_type": "code",
   "execution_count": 102,
   "metadata": {},
   "outputs": [
    {
     "name": "stdout",
     "output_type": "stream",
     "text": [
      "After vectorizations\n",
      "(49041, 1) (49041,)\n",
      "(24155, 1) (24155,)\n",
      "(36052, 1) (36052,)\n",
      "====================================================================================================\n"
     ]
    }
   ],
   "source": [
    "from sklearn.preprocessing import Normalizer\n",
    "normalizer = Normalizer()\n",
    "# normalizer.fit(X_train['price'].values)\n",
    "# this will rise an error Expected 2D array, got 1D array instead: \n",
    "# array=[105.22 215.96  96.01 ... 368.98  80.53 709.67].\n",
    "# Reshape your data either using \n",
    "# array.reshape(-1, 1) if your data has a single feature \n",
    "# array.reshape(1, -1)  if it contains a single sample.\n",
    "normalizer.fit(X_train['num_words_title'].values.reshape(-1,1))\n",
    "\n",
    "X_train_nowt_norm = normalizer.transform(X_train['num_words_title'].values.reshape(-1,1))\n",
    "X_cv_nowt_norm = normalizer.transform(X_cv['num_words_title'].values.reshape(-1,1))\n",
    "X_test_nowt_norm = normalizer.transform(X_test['num_words_title'].values.reshape(-1,1))\n",
    "\n",
    "print(\"After vectorizations\")\n",
    "print(X_train_nowt_norm.shape, y_train.shape)\n",
    "print(X_cv_nowt_norm.shape, y_cv.shape)\n",
    "print(X_test_nowt_norm.shape, y_test.shape)\n",
    "print(\"=\"*100)"
   ]
  },
  {
   "cell_type": "markdown",
   "metadata": {},
   "source": [
    "__Normalizing the numerical features: teacher_number_of_previously_posted_projects___"
   ]
  },
  {
   "cell_type": "code",
   "execution_count": 103,
   "metadata": {},
   "outputs": [
    {
     "name": "stdout",
     "output_type": "stream",
     "text": [
      "After vectorizations\n",
      "(49041, 1) (49041,)\n",
      "(24155, 1) (24155,)\n",
      "(36052, 1) (36052,)\n",
      "====================================================================================================\n"
     ]
    }
   ],
   "source": [
    "\n",
    "from sklearn.preprocessing import Normalizer\n",
    "normalizer = Normalizer()\n",
    "# normalizer.fit(X_train['price'].values)\n",
    "# this will rise an error Expected 2D array, got 1D array instead: \n",
    "# array=[105.22 215.96  96.01 ... 368.98  80.53 709.67].\n",
    "# Reshape your data either using \n",
    "# array.reshape(-1, 1) if your data has a single feature \n",
    "# array.reshape(1, -1)  if it contains a single sample.\n",
    "normalizer.fit(X_train['teacher_number_of_previously_posted_projects'].values.reshape(-1,1))\n",
    "\n",
    "X_train_tnoppp_norm = normalizer.transform(X_train['teacher_number_of_previously_posted_projects'].values.reshape(-1,1))\n",
    "X_cv_tnoppp_norm = normalizer.transform(X_cv['teacher_number_of_previously_posted_projects'].values.reshape(-1,1))\n",
    "X_test_tnoppp_norm = normalizer.transform(X_test['teacher_number_of_previously_posted_projects'].values.reshape(-1,1))\n",
    "\n",
    "print(\"After vectorizations\")\n",
    "print(X_train_tnoppp_norm.shape, y_train.shape)\n",
    "print(X_cv_tnoppp_norm.shape, y_cv.shape)\n",
    "print(X_test_tnoppp_norm.shape, y_test.shape)\n",
    "print(\"=\"*100)"
   ]
  },
  {
   "cell_type": "markdown",
   "metadata": {},
   "source": [
    "__Splitting Sentiment Scores__"
   ]
  },
  {
   "cell_type": "code",
   "execution_count": 104,
   "metadata": {
    "collapsed": true
   },
   "outputs": [],
   "source": [
    "X_train_cos = X_train['compound_sent_score'].values.reshape(-1,1)\n",
    "X_cv_cos = X_cv['compound_sent_score'].values.reshape(-1,1)\n",
    "X_test_cos = X_test['compound_sent_score'].values.reshape(-1,1)"
   ]
  },
  {
   "cell_type": "code",
   "execution_count": 105,
   "metadata": {
    "collapsed": true
   },
   "outputs": [],
   "source": [
    "X_train_pos = X_train['positive_sent_score'].values.reshape(-1,1)\n",
    "X_cv_pos = X_cv['positive_sent_score'].values.reshape(-1,1)\n",
    "X_test_pos = X_test['positive_sent_score'].values.reshape(-1,1)"
   ]
  },
  {
   "cell_type": "code",
   "execution_count": 106,
   "metadata": {
    "collapsed": true
   },
   "outputs": [],
   "source": [
    "X_train_neg = X_train['negative_sent_score'].values.reshape(-1,1)\n",
    "X_cv_neg = X_cv['negative_sent_score'].values.reshape(-1,1)\n",
    "X_test_neg = X_test['negative_sent_score'].values.reshape(-1,1)"
   ]
  },
  {
   "cell_type": "code",
   "execution_count": 107,
   "metadata": {
    "collapsed": true
   },
   "outputs": [],
   "source": [
    "X_train_neu = X_train['neutral_sent_score'].values.reshape(-1,1)\n",
    "X_cv_neu = X_cv['neutral_sent_score'].values.reshape(-1,1)\n",
    "X_test_neu = X_test['neutral_sent_score'].values.reshape(-1,1)"
   ]
  },
  {
   "cell_type": "markdown",
   "metadata": {},
   "source": [
    "__Calculate vectors of essay and project_title after concatenation for Train data__"
   ]
  },
  {
   "cell_type": "code",
   "execution_count": 109,
   "metadata": {},
   "outputs": [
    {
     "data": {
      "application/vnd.jupyter.widget-view+json": {
       "model_id": "a1bbba890f1448378910dddd478ac69e",
       "version_major": 2,
       "version_minor": 0
      },
      "text/plain": [
       "A Jupyter Widget"
      ]
     },
     "metadata": {},
     "output_type": "display_data"
    }
   ],
   "source": [
    "vector =np.zeros(900)\n",
    "vec_essay_title_train = []\n",
    "cnt = 0\n",
    "row_of_words = coocur_mat.index.values.tolist()\n",
    "for i in log_progress(range(49041)) :\n",
    "    e = essay_title[i]\n",
    "    cnt = 0\n",
    "    for word in e.split() :\n",
    "        if word in top_features :\n",
    "            ind = row_of_words.index(word)\n",
    "            vector+=U[ind]\n",
    "            cnt+=1\n",
    "    if cnt!=0 :\n",
    "        vector = vector / cnt\n",
    "    #print\n",
    "    vec_essay_title_train.append(vector)        \n",
    "    vector = np.zeros(900)"
   ]
  },
  {
   "cell_type": "code",
   "execution_count": 114,
   "metadata": {},
   "outputs": [
    {
     "data": {
      "text/plain": [
       "49041"
      ]
     },
     "execution_count": 114,
     "metadata": {},
     "output_type": "execute_result"
    }
   ],
   "source": [
    "len(vec_essay_title_train)"
   ]
  },
  {
   "cell_type": "markdown",
   "metadata": {},
   "source": [
    "__Calculate vectors of essay and project_title after concatenation for CV data__"
   ]
  },
  {
   "cell_type": "code",
   "execution_count": 110,
   "metadata": {},
   "outputs": [
    {
     "data": {
      "application/vnd.jupyter.widget-view+json": {
       "model_id": "772d3f5cf61a452f8462ec2273ea30b5",
       "version_major": 2,
       "version_minor": 0
      },
      "text/plain": [
       "A Jupyter Widget"
      ]
     },
     "metadata": {},
     "output_type": "display_data"
    }
   ],
   "source": [
    "vector =np.zeros(900)\n",
    "vec_essay_title_cv = []\n",
    "cnt = 0\n",
    "row_of_words = coocur_mat.index.values.tolist()\n",
    "for i in log_progress(range(24155)) :\n",
    "    e = essay_title[49041+i]\n",
    "    cnt = 0\n",
    "    for word in e.split() :\n",
    "        if word in top_features :\n",
    "            ind = row_of_words.index(word)\n",
    "            vector+=U[ind]\n",
    "            cnt+=1\n",
    "    if cnt!=0 :\n",
    "        vector = vector / cnt\n",
    "    #print\n",
    "    vec_essay_title_cv.append(vector)        \n",
    "    vector = np.zeros(900)"
   ]
  },
  {
   "cell_type": "code",
   "execution_count": 116,
   "metadata": {},
   "outputs": [
    {
     "data": {
      "text/plain": [
       "24155"
      ]
     },
     "execution_count": 116,
     "metadata": {},
     "output_type": "execute_result"
    }
   ],
   "source": [
    "len(vec_essay_title_cv)"
   ]
  },
  {
   "cell_type": "markdown",
   "metadata": {},
   "source": [
    "__Calculate vectors of essay and project_title after concatenation for Test data__"
   ]
  },
  {
   "cell_type": "code",
   "execution_count": 111,
   "metadata": {},
   "outputs": [
    {
     "data": {
      "application/vnd.jupyter.widget-view+json": {
       "model_id": "37573e7185fd45a99c4772fdb8b9a0ff",
       "version_major": 2,
       "version_minor": 0
      },
      "text/plain": [
       "A Jupyter Widget"
      ]
     },
     "metadata": {},
     "output_type": "display_data"
    }
   ],
   "source": [
    "vector =np.zeros(900)\n",
    "vec_essay_title_test = []\n",
    "cnt = 0\n",
    "row_of_words = coocur_mat.index.values.tolist()\n",
    "for i in log_progress(range(36052)) :\n",
    "    e = essay_title[49041+24155+i]\n",
    "    cnt = 0\n",
    "    for word in e.split() :\n",
    "        if word in top_features :\n",
    "            ind = row_of_words.index(word)\n",
    "            vector+=U[ind]\n",
    "            cnt+=1\n",
    "    if cnt!=0 :\n",
    "        vector = vector / cnt\n",
    "    #print\n",
    "    vec_essay_title_test.append(vector)        \n",
    "    vector = np.zeros(900)"
   ]
  },
  {
   "cell_type": "code",
   "execution_count": 118,
   "metadata": {},
   "outputs": [
    {
     "data": {
      "text/plain": [
       "36052"
      ]
     },
     "execution_count": 118,
     "metadata": {},
     "output_type": "execute_result"
    }
   ],
   "source": [
    "len(vec_essay_title_test)"
   ]
  },
  {
   "cell_type": "markdown",
   "metadata": {},
   "source": [
    "__Calculate vectors of essay for Train data__"
   ]
  },
  {
   "cell_type": "code",
   "execution_count": 112,
   "metadata": {},
   "outputs": [
    {
     "data": {
      "application/vnd.jupyter.widget-view+json": {
       "model_id": "a947fec992ca417c94429dd75a234b23",
       "version_major": 2,
       "version_minor": 0
      },
      "text/plain": [
       "A Jupyter Widget"
      ]
     },
     "metadata": {},
     "output_type": "display_data"
    }
   ],
   "source": [
    "vector =np.zeros(900)\n",
    "vec_essay_train = []\n",
    "cnt = 0\n",
    "row_of_words = coocur_mat.index.values.tolist()\n",
    "for i in log_progress(range(49041)) :\n",
    "    e = preprocessed_essays[i]\n",
    "    cnt = 0\n",
    "    for word in e.split() :\n",
    "        if word in top_features :\n",
    "            ind = row_of_words.index(word)\n",
    "            vector+=U[ind]\n",
    "            cnt+=1\n",
    "    if cnt!=0 :\n",
    "        vector = vector / cnt\n",
    "    #print\n",
    "    vec_essay_train.append(vector)        \n",
    "    vector = np.zeros(900)"
   ]
  },
  {
   "cell_type": "markdown",
   "metadata": {},
   "source": [
    "__Calculate vectors of essay CV data__"
   ]
  },
  {
   "cell_type": "code",
   "execution_count": 113,
   "metadata": {},
   "outputs": [
    {
     "data": {
      "application/vnd.jupyter.widget-view+json": {
       "model_id": "9885cc578165469992722aa3453dc22f",
       "version_major": 2,
       "version_minor": 0
      },
      "text/plain": [
       "A Jupyter Widget"
      ]
     },
     "metadata": {},
     "output_type": "display_data"
    }
   ],
   "source": [
    "vector =np.zeros(900)\n",
    "vec_essay_cv = []\n",
    "cnt = 0\n",
    "row_of_words = coocur_mat.index.values.tolist()\n",
    "for i in log_progress(range(24155)) :\n",
    "    e = preprocessed_essays[49041+i]\n",
    "    cnt = 0\n",
    "    for word in e.split() :\n",
    "        if word in top_features :\n",
    "            ind = row_of_words.index(word)\n",
    "            vector+=U[ind]\n",
    "            cnt+=1\n",
    "    if cnt!=0 :\n",
    "        vector = vector / cnt\n",
    "    #print\n",
    "    vec_essay_cv.append(vector)        \n",
    "    vector = np.zeros(900)"
   ]
  },
  {
   "cell_type": "markdown",
   "metadata": {},
   "source": [
    "__Calculate vectors of essay Test data__"
   ]
  },
  {
   "cell_type": "code",
   "execution_count": 114,
   "metadata": {},
   "outputs": [
    {
     "data": {
      "application/vnd.jupyter.widget-view+json": {
       "model_id": "4d6f7b8829404552a590793ec237b3bb",
       "version_major": 2,
       "version_minor": 0
      },
      "text/plain": [
       "A Jupyter Widget"
      ]
     },
     "metadata": {},
     "output_type": "display_data"
    }
   ],
   "source": [
    "vector =np.zeros(900)\n",
    "vec_essay_test = []\n",
    "cnt = 0\n",
    "row_of_words = coocur_mat.index.values.tolist()\n",
    "for i in log_progress(range(36052)) :\n",
    "    e = preprocessed_essays[49041+24155+i]\n",
    "    cnt = 0\n",
    "    for word in e.split() :\n",
    "        if word in top_features :\n",
    "            ind = row_of_words.index(word)\n",
    "            vector+=U[ind]\n",
    "            cnt+=1\n",
    "    if cnt!=0 :\n",
    "        vector = vector / cnt\n",
    "    #print\n",
    "    vec_essay_test.append(vector)        \n",
    "    vector = np.zeros(900)"
   ]
  },
  {
   "cell_type": "markdown",
   "metadata": {},
   "source": [
    "__Calculate vectors of title Train data__"
   ]
  },
  {
   "cell_type": "code",
   "execution_count": 115,
   "metadata": {},
   "outputs": [
    {
     "data": {
      "application/vnd.jupyter.widget-view+json": {
       "model_id": "944177d3027c4cb6bc7081f0934d5f4c",
       "version_major": 2,
       "version_minor": 0
      },
      "text/plain": [
       "A Jupyter Widget"
      ]
     },
     "metadata": {},
     "output_type": "display_data"
    }
   ],
   "source": [
    "vector =np.zeros(900)\n",
    "vec_title_train = []\n",
    "cnt = 0\n",
    "row_of_words = coocur_mat.index.values.tolist()\n",
    "for i in log_progress(range(49041)) :\n",
    "    e = preprocessed_title[i]\n",
    "    cnt = 0\n",
    "    for word in e.split() :\n",
    "        if word in top_features :\n",
    "            ind = row_of_words.index(word)\n",
    "            vector+=U[ind]\n",
    "            cnt+=1\n",
    "    if cnt!=0 :\n",
    "        vector = vector / cnt\n",
    "    #print\n",
    "    vec_title_train.append(vector)        \n",
    "    vector = np.zeros(900)"
   ]
  },
  {
   "cell_type": "markdown",
   "metadata": {},
   "source": [
    "__Calculate vectors of title CV data__"
   ]
  },
  {
   "cell_type": "code",
   "execution_count": 116,
   "metadata": {},
   "outputs": [
    {
     "data": {
      "application/vnd.jupyter.widget-view+json": {
       "model_id": "3f01ac2561614d5790d7d78360f42c54",
       "version_major": 2,
       "version_minor": 0
      },
      "text/plain": [
       "A Jupyter Widget"
      ]
     },
     "metadata": {},
     "output_type": "display_data"
    }
   ],
   "source": [
    "vector =np.zeros(900)\n",
    "vec_title_cv = []\n",
    "cnt = 0\n",
    "row_of_words = coocur_mat.index.values.tolist()\n",
    "for i in log_progress(range(24155)) :\n",
    "    e = preprocessed_title[49041+i]\n",
    "    cnt = 0\n",
    "    for word in e.split() :\n",
    "        if word in top_features :\n",
    "            ind = row_of_words.index(word)\n",
    "            vector+=U[ind]\n",
    "            cnt+=1\n",
    "    if cnt!=0 :\n",
    "        vector = vector / cnt\n",
    "    #print\n",
    "    vec_title_cv.append(vector)        \n",
    "    vector = np.zeros(900)"
   ]
  },
  {
   "cell_type": "markdown",
   "metadata": {},
   "source": [
    "__Calculate vectors of title Test data__"
   ]
  },
  {
   "cell_type": "code",
   "execution_count": 117,
   "metadata": {},
   "outputs": [
    {
     "data": {
      "application/vnd.jupyter.widget-view+json": {
       "model_id": "c0a8490773ee4b608c4df6905a6e18c1",
       "version_major": 2,
       "version_minor": 0
      },
      "text/plain": [
       "A Jupyter Widget"
      ]
     },
     "metadata": {},
     "output_type": "display_data"
    }
   ],
   "source": [
    "vector =np.zeros(900)\n",
    "vec_title_test = []\n",
    "cnt = 0\n",
    "row_of_words = coocur_mat.index.values.tolist()\n",
    "for i in log_progress(range(36052)) :\n",
    "    e = preprocessed_title[49041+24155+i]\n",
    "    cnt = 0\n",
    "    for word in e.split() :\n",
    "        if word in top_features :\n",
    "            ind = row_of_words.index(word)\n",
    "            vector+=U[ind]\n",
    "            cnt+=1\n",
    "    if cnt!=0 :\n",
    "        vector = vector / cnt\n",
    "    #print\n",
    "    vec_title_test.append(vector)        \n",
    "    vector = np.zeros(900)"
   ]
  },
  {
   "cell_type": "markdown",
   "metadata": {},
   "source": [
    "__Merging all the features for Train, CV and Test data__"
   ]
  },
  {
   "cell_type": "code",
   "execution_count": 118,
   "metadata": {},
   "outputs": [
    {
     "name": "stdout",
     "output_type": "stream",
     "text": [
      "Final Data matrix\n",
      "(49041, 2769) (49041,)\n",
      "(24155, 2769) (24155,)\n",
      "(36052, 2769) (36052,)\n",
      "====================================================================================================\n"
     ]
    }
   ],
   "source": [
    "from scipy.sparse import hstack\n",
    "X_tr = hstack((vec_essay_title_train,vec_title_train,vec_essay_train ,X_train_state_ohe, X_train_teacher_ohe, X_train_grade_ohe, X_train_price_norm,X_train_quantity_norm,X_train_nowe_norm,X_train_nowt_norm,X_train_tnoppp_norm,X_train_cos,X_train_pos,X_train_neg,X_train_neu )).tocsr()\n",
    "X_cr = hstack((vec_essay_title_cv,vec_title_cv,vec_essay_cv,X_cv_state_ohe, X_cv_teacher_ohe, X_cv_grade_ohe, X_cv_price_norm,X_cv_quantity_norm,X_cv_nowe_norm,X_cv_nowt_norm,X_cv_tnoppp_norm,X_cv_cos,X_cv_pos,X_cv_neg,X_cv_neu)).tocsr()\n",
    "X_te = hstack((vec_essay_title_test,vec_title_test,vec_essay_test,X_test_state_ohe, X_test_teacher_ohe, X_test_grade_ohe, X_test_price_norm,X_test_quantity_norm,X_test_nowe_norm,X_test_nowt_norm,X_test_tnoppp_norm,X_test_cos,X_test_pos,X_test_neg,X_test_neu)).tocsr()\n",
    "\n",
    "print(\"Final Data matrix\")\n",
    "print(X_tr.shape, y_train.shape)\n",
    "print(X_cr.shape, y_cv.shape)\n",
    "print(X_te.shape, y_test.shape)\n",
    "print(\"=\"*100)"
   ]
  },
  {
   "cell_type": "markdown",
   "metadata": {
    "colab_type": "text",
    "id": "ePa0CPYHqzF7"
   },
   "source": [
    "<h2>2.5 Apply XGBoost on the Final Features from the above section</h2>"
   ]
  },
  {
   "cell_type": "markdown",
   "metadata": {
    "colab_type": "text",
    "id": "VmK2KUzJqzF7"
   },
   "source": [
    "https://xgboost.readthedocs.io/en/latest/python/python_intro.html"
   ]
  },
  {
   "cell_type": "code",
   "execution_count": 0,
   "metadata": {
    "colab": {},
    "colab_type": "code",
    "collapsed": true,
    "id": "_cfamzr8qzF8"
   },
   "outputs": [],
   "source": [
    "# No need to split the data into train and test(cv)\n",
    "# use the Dmatrix and apply xgboost on the whole data\n",
    "# please check the Quora case study notebook as reference\n",
    "\n",
    "# please write all the code with proper documentation, and proper titles for each subsection\n",
    "# go through documentations and blogs before you start coding\n",
    "# first figure out what to do, and then think about how to do.\n",
    "# reading and understanding error messages will be very much helpfull in debugging your code\n",
    "# when you plot any graph make sure you use \n",
    "    # a. Title, that describes your plot, this will be very helpful to the reader\n",
    "    # b. Legends if needed\n",
    "    # c. X-axis label\n",
    "    # d. Y-axis label"
   ]
  },
  {
   "cell_type": "code",
   "execution_count": 156,
   "metadata": {},
   "outputs": [
    {
     "name": "stderr",
     "output_type": "stream",
     "text": [
      "C:\\Users\\Dell\\Anaconda3\\lib\\site-packages\\sklearn\\utils\\deprecation.py:75: DeprecationWarning:\n",
      "\n",
      "Function _ratio_float is deprecated; Use a float for 'ratio' is deprecated from version 0.2. The support will be removed in 0.4. Use a dict, str, or a callable instead.\n",
      "\n",
      "C:\\Users\\Dell\\Anaconda3\\lib\\site-packages\\sklearn\\utils\\deprecation.py:75: DeprecationWarning:\n",
      "\n",
      "Function _ratio_float is deprecated; Use a float for 'ratio' is deprecated from version 0.2. The support will be removed in 0.4. Use a dict, str, or a callable instead.\n",
      "\n",
      "C:\\Users\\Dell\\Anaconda3\\lib\\site-packages\\sklearn\\utils\\deprecation.py:75: DeprecationWarning:\n",
      "\n",
      "Function _ratio_float is deprecated; Use a float for 'ratio' is deprecated from version 0.2. The support will be removed in 0.4. Use a dict, str, or a callable instead.\n",
      "\n"
     ]
    }
   ],
   "source": [
    "from imblearn.over_sampling import SMOTE\n",
    "sm = SMOTE(random_state=42,ratio = 1)\n",
    "X_tr1,y_train1 = sm.fit_sample(X_tr,y_train)\n",
    "X_cr1,y_cv1 = sm.fit_sample(X_cr,y_cv)\n",
    "X_te1,y_test1 = sm.fit_sample(X_te,y_test)"
   ]
  },
  {
   "cell_type": "markdown",
   "metadata": {},
   "source": [
    "__Hyperparameter Tunning to find the best hyperparameters__"
   ]
  },
  {
   "cell_type": "code",
   "execution_count": 133,
   "metadata": {
    "scrolled": false
   },
   "outputs": [
    {
     "name": "stdout",
     "output_type": "stream",
     "text": [
      "Fitting 3 folds for each of 25 candidates, totalling 75 fits\n",
      "[CV] max_depth=2, n_estimators=1 .....................................\n",
      "[CV]  max_depth=2, n_estimators=1, score=0.5761913938340538, total=   5.9s\n",
      "[Parallel(n_jobs=1)]: Done   1 out of   1 | elapsed:    7.4s remaining:    0.0s\n",
      "[CV] max_depth=2, n_estimators=1 .....................................\n",
      "[CV]  max_depth=2, n_estimators=1, score=0.5670678894095297, total=   6.2s\n",
      "[Parallel(n_jobs=1)]: Done   2 out of   2 | elapsed:   15.3s remaining:    0.0s\n",
      "[CV] max_depth=2, n_estimators=1 .....................................\n",
      "[CV]  max_depth=2, n_estimators=1, score=0.5638618852163895, total=   6.4s\n",
      "[Parallel(n_jobs=1)]: Done   3 out of   3 | elapsed:   23.7s remaining:    0.0s\n",
      "[CV] max_depth=2, n_estimators=41 ....................................\n",
      "[CV]  max_depth=2, n_estimators=41, score=0.5761913938340538, total=   5.7s\n",
      "[Parallel(n_jobs=1)]: Done   4 out of   4 | elapsed:   31.1s remaining:    0.0s\n",
      "[CV] max_depth=2, n_estimators=41 ....................................\n",
      "[CV]  max_depth=2, n_estimators=41, score=0.5670678894095297, total=   6.4s\n",
      "[Parallel(n_jobs=1)]: Done   5 out of   5 | elapsed:   39.2s remaining:    0.0s\n",
      "[CV] max_depth=2, n_estimators=41 ....................................\n",
      "[CV]  max_depth=2, n_estimators=41, score=0.5638618852163895, total=   5.8s\n",
      "[Parallel(n_jobs=1)]: Done   6 out of   6 | elapsed:   46.7s remaining:    0.0s\n",
      "[CV] max_depth=2, n_estimators=81 ....................................\n",
      "[CV]  max_depth=2, n_estimators=81, score=0.5761913938340538, total=   7.0s\n",
      "[Parallel(n_jobs=1)]: Done   7 out of   7 | elapsed:   55.6s remaining:    0.0s\n",
      "[CV] max_depth=2, n_estimators=81 ....................................\n",
      "[CV]  max_depth=2, n_estimators=81, score=0.5670678894095297, total=   5.9s\n",
      "[Parallel(n_jobs=1)]: Done   8 out of   8 | elapsed:  1.1min remaining:    0.0s\n",
      "[CV] max_depth=2, n_estimators=81 ....................................\n",
      "[CV]  max_depth=2, n_estimators=81, score=0.5638618852163895, total=   6.0s\n",
      "[Parallel(n_jobs=1)]: Done   9 out of   9 | elapsed:  1.2min remaining:    0.0s\n",
      "[CV] max_depth=2, n_estimators=121 ...................................\n",
      "[CV]  max_depth=2, n_estimators=121, score=0.5761913938340538, total=   6.3s\n",
      "[Parallel(n_jobs=1)]: Done  10 out of  10 | elapsed:  1.3min remaining:    0.0s\n",
      "[CV] max_depth=2, n_estimators=121 ...................................\n",
      "[CV]  max_depth=2, n_estimators=121, score=0.5670678894095297, total=   7.8s\n",
      "[Parallel(n_jobs=1)]: Done  11 out of  11 | elapsed:  1.5min remaining:    0.0s\n",
      "[CV] max_depth=2, n_estimators=121 ...................................\n",
      "[CV]  max_depth=2, n_estimators=121, score=0.5638618852163895, total=   6.3s\n",
      "[Parallel(n_jobs=1)]: Done  12 out of  12 | elapsed:  1.6min remaining:    0.0s\n",
      "[CV] max_depth=2, n_estimators=161 ...................................\n",
      "[CV]  max_depth=2, n_estimators=161, score=0.5761913938340538, total=   6.0s\n",
      "[Parallel(n_jobs=1)]: Done  13 out of  13 | elapsed:  1.7min remaining:    0.0s\n",
      "[CV] max_depth=2, n_estimators=161 ...................................\n",
      "[CV]  max_depth=2, n_estimators=161, score=0.5670678894095297, total=   5.8s\n",
      "[Parallel(n_jobs=1)]: Done  14 out of  14 | elapsed:  1.9min remaining:    0.0s\n",
      "[CV] max_depth=2, n_estimators=161 ...................................\n",
      "[CV]  max_depth=2, n_estimators=161, score=0.5638618852163895, total=   5.8s\n",
      "[Parallel(n_jobs=1)]: Done  15 out of  15 | elapsed:  2.0min remaining:    0.0s\n",
      "[CV] max_depth=4, n_estimators=1 .....................................\n",
      "[CV]  max_depth=4, n_estimators=1, score=0.5728645522974581, total=   9.6s\n",
      "[Parallel(n_jobs=1)]: Done  16 out of  16 | elapsed:  2.2min remaining:    0.0s\n",
      "[CV] max_depth=4, n_estimators=1 .....................................\n",
      "[CV]  max_depth=4, n_estimators=1, score=0.570615019611982, total=  10.7s\n",
      "[Parallel(n_jobs=1)]: Done  17 out of  17 | elapsed:  2.4min remaining:    0.0s\n",
      "[CV] max_depth=4, n_estimators=1 .....................................\n",
      "[CV]  max_depth=4, n_estimators=1, score=0.563792480655418, total=  10.9s\n",
      "[Parallel(n_jobs=1)]: Done  18 out of  18 | elapsed:  2.6min remaining:    0.0s\n",
      "[CV] max_depth=4, n_estimators=41 ....................................\n",
      "[CV]  max_depth=4, n_estimators=41, score=0.5728645522974581, total=  10.6s\n",
      "[Parallel(n_jobs=1)]: Done  19 out of  19 | elapsed:  2.8min remaining:    0.0s\n",
      "[CV] max_depth=4, n_estimators=41 ....................................\n",
      "[CV]  max_depth=4, n_estimators=41, score=0.570615019611982, total=   9.9s\n",
      "[Parallel(n_jobs=1)]: Done  20 out of  20 | elapsed:  3.0min remaining:    0.0s\n",
      "[CV] max_depth=4, n_estimators=41 ....................................\n",
      "[CV]  max_depth=4, n_estimators=41, score=0.563792480655418, total=   9.2s\n",
      "[Parallel(n_jobs=1)]: Done  21 out of  21 | elapsed:  3.2min remaining:    0.0s\n",
      "[CV] max_depth=4, n_estimators=81 ....................................\n",
      "[CV]  max_depth=4, n_estimators=81, score=0.5728645522974581, total=   9.4s\n",
      "[Parallel(n_jobs=1)]: Done  22 out of  22 | elapsed:  3.4min remaining:    0.0s\n",
      "[CV] max_depth=4, n_estimators=81 ....................................\n",
      "[CV]  max_depth=4, n_estimators=81, score=0.570615019611982, total=   9.2s\n",
      "[Parallel(n_jobs=1)]: Done  23 out of  23 | elapsed:  3.6min remaining:    0.0s\n",
      "[CV] max_depth=4, n_estimators=81 ....................................\n",
      "[CV]  max_depth=4, n_estimators=81, score=0.563792480655418, total=  10.3s\n",
      "[Parallel(n_jobs=1)]: Done  24 out of  24 | elapsed:  3.8min remaining:    0.0s\n",
      "[CV] max_depth=4, n_estimators=121 ...................................\n",
      "[CV]  max_depth=4, n_estimators=121, score=0.5728645522974581, total=  10.2s\n",
      "[Parallel(n_jobs=1)]: Done  25 out of  25 | elapsed:  4.0min remaining:    0.0s\n",
      "[CV] max_depth=4, n_estimators=121 ...................................\n",
      "[CV]  max_depth=4, n_estimators=121, score=0.570615019611982, total=  10.2s\n",
      "[Parallel(n_jobs=1)]: Done  26 out of  26 | elapsed:  4.2min remaining:    0.0s\n",
      "[CV] max_depth=4, n_estimators=121 ...................................\n",
      "[CV]  max_depth=4, n_estimators=121, score=0.563792480655418, total=   9.4s\n",
      "[Parallel(n_jobs=1)]: Done  27 out of  27 | elapsed:  4.4min remaining:    0.0s\n",
      "[CV] max_depth=4, n_estimators=161 ...................................\n",
      "[CV]  max_depth=4, n_estimators=161, score=0.5728645522974581, total=   9.4s\n",
      "[Parallel(n_jobs=1)]: Done  28 out of  28 | elapsed:  4.5min remaining:    0.0s\n",
      "[CV] max_depth=4, n_estimators=161 ...................................\n",
      "[CV]  max_depth=4, n_estimators=161, score=0.570615019611982, total=  10.8s\n",
      "[Parallel(n_jobs=1)]: Done  29 out of  29 | elapsed:  4.8min remaining:    0.0s\n",
      "[CV] max_depth=4, n_estimators=161 ...................................\n",
      "[CV]  max_depth=4, n_estimators=161, score=0.563792480655418, total=  10.1s\n",
      "[Parallel(n_jobs=1)]: Done  30 out of  30 | elapsed:  5.0min remaining:    0.0s\n",
      "[CV] max_depth=6, n_estimators=1 .....................................\n",
      "[CV]  max_depth=6, n_estimators=1, score=0.5668918016171823, total=  14.5s\n",
      "[Parallel(n_jobs=1)]: Done  31 out of  31 | elapsed:  5.2min remaining:    0.0s\n",
      "[CV] max_depth=6, n_estimators=1 .....................................\n",
      "[CV]  max_depth=6, n_estimators=1, score=0.5671397156732483, total=  13.4s\n",
      "[Parallel(n_jobs=1)]: Done  32 out of  32 | elapsed:  5.5min remaining:    0.0s\n",
      "[CV] max_depth=6, n_estimators=1 .....................................\n",
      "[CV]  max_depth=6, n_estimators=1, score=0.559313895958143, total=  12.8s\n",
      "[Parallel(n_jobs=1)]: Done  33 out of  33 | elapsed:  5.7min remaining:    0.0s\n",
      "[CV] max_depth=6, n_estimators=41 ....................................\n",
      "[CV]  max_depth=6, n_estimators=41, score=0.5668918016171823, total=  14.5s\n",
      "[Parallel(n_jobs=1)]: Done  34 out of  34 | elapsed:  6.0min remaining:    0.0s\n",
      "[CV] max_depth=6, n_estimators=41 ....................................\n",
      "[CV]  max_depth=6, n_estimators=41, score=0.5671397156732483, total=  14.1s\n",
      "[Parallel(n_jobs=1)]: Done  35 out of  35 | elapsed:  6.3min remaining:    0.0s\n",
      "[CV] max_depth=6, n_estimators=41 ....................................\n",
      "[CV]  max_depth=6, n_estimators=41, score=0.559313895958143, total=  12.6s\n",
      "[Parallel(n_jobs=1)]: Done  36 out of  36 | elapsed:  6.5min remaining:    0.0s\n"
     ]
    },
    {
     "name": "stdout",
     "output_type": "stream",
     "text": [
      "[CV] max_depth=6, n_estimators=81 ....................................\n",
      "[CV]  max_depth=6, n_estimators=81, score=0.5668918016171823, total=  12.7s\n",
      "[Parallel(n_jobs=1)]: Done  37 out of  37 | elapsed:  6.8min remaining:    0.0s\n",
      "[CV] max_depth=6, n_estimators=81 ....................................\n",
      "[CV]  max_depth=6, n_estimators=81, score=0.5671397156732483, total=  12.8s\n",
      "[Parallel(n_jobs=1)]: Done  38 out of  38 | elapsed:  7.0min remaining:    0.0s\n",
      "[CV] max_depth=6, n_estimators=81 ....................................\n",
      "[CV]  max_depth=6, n_estimators=81, score=0.559313895958143, total=  12.9s\n",
      "[Parallel(n_jobs=1)]: Done  39 out of  39 | elapsed:  7.2min remaining:    0.0s\n",
      "[CV] max_depth=6, n_estimators=121 ...................................\n",
      "[CV]  max_depth=6, n_estimators=121, score=0.5668918016171823, total=  12.7s\n",
      "[Parallel(n_jobs=1)]: Done  40 out of  40 | elapsed:  7.5min remaining:    0.0s\n",
      "[CV] max_depth=6, n_estimators=121 ...................................\n",
      "[CV]  max_depth=6, n_estimators=121, score=0.5671397156732483, total=  12.8s\n",
      "[Parallel(n_jobs=1)]: Done  41 out of  41 | elapsed:  7.7min remaining:    0.0s\n",
      "[CV] max_depth=6, n_estimators=121 ...................................\n",
      "[CV]  max_depth=6, n_estimators=121, score=0.559313895958143, total=  12.6s\n",
      "[Parallel(n_jobs=1)]: Done  42 out of  42 | elapsed:  8.0min remaining:    0.0s\n",
      "[CV] max_depth=6, n_estimators=161 ...................................\n",
      "[CV]  max_depth=6, n_estimators=161, score=0.5668918016171823, total=  12.7s\n",
      "[Parallel(n_jobs=1)]: Done  43 out of  43 | elapsed:  8.2min remaining:    0.0s\n",
      "[CV] max_depth=6, n_estimators=161 ...................................\n",
      "[CV]  max_depth=6, n_estimators=161, score=0.5671397156732483, total=  12.8s\n",
      "[Parallel(n_jobs=1)]: Done  44 out of  44 | elapsed:  8.4min remaining:    0.0s\n",
      "[CV] max_depth=6, n_estimators=161 ...................................\n",
      "[CV]  max_depth=6, n_estimators=161, score=0.559313895958143, total=  12.6s\n",
      "[Parallel(n_jobs=1)]: Done  45 out of  45 | elapsed:  8.7min remaining:    0.0s\n",
      "[CV] max_depth=8, n_estimators=1 .....................................\n",
      "[CV]  max_depth=8, n_estimators=1, score=0.56388714219749, total=  16.1s\n",
      "[Parallel(n_jobs=1)]: Done  46 out of  46 | elapsed:  9.0min remaining:    0.0s\n",
      "[CV] max_depth=8, n_estimators=1 .....................................\n",
      "[CV]  max_depth=8, n_estimators=1, score=0.5595601942547664, total=  16.7s\n",
      "[Parallel(n_jobs=1)]: Done  47 out of  47 | elapsed:  9.3min remaining:    0.0s\n",
      "[CV] max_depth=8, n_estimators=1 .....................................\n",
      "[CV]  max_depth=8, n_estimators=1, score=0.5613693803820734, total=  16.2s\n",
      "[Parallel(n_jobs=1)]: Done  48 out of  48 | elapsed:  9.6min remaining:    0.0s\n",
      "[CV] max_depth=8, n_estimators=41 ....................................\n",
      "[CV]  max_depth=8, n_estimators=41, score=0.56388714219749, total=  16.6s\n",
      "[Parallel(n_jobs=1)]: Done  49 out of  49 | elapsed:  9.9min remaining:    0.0s\n",
      "[CV] max_depth=8, n_estimators=41 ....................................\n",
      "[CV]  max_depth=8, n_estimators=41, score=0.5595601942547664, total=  16.6s\n",
      "[Parallel(n_jobs=1)]: Done  50 out of  50 | elapsed: 10.2min remaining:    0.0s\n",
      "[CV] max_depth=8, n_estimators=41 ....................................\n",
      "[CV]  max_depth=8, n_estimators=41, score=0.5613693803820734, total=  16.3s\n",
      "[Parallel(n_jobs=1)]: Done  51 out of  51 | elapsed: 10.5min remaining:    0.0s\n",
      "[CV] max_depth=8, n_estimators=81 ....................................\n",
      "[CV]  max_depth=8, n_estimators=81, score=0.56388714219749, total=  16.0s\n",
      "[Parallel(n_jobs=1)]: Done  52 out of  52 | elapsed: 10.8min remaining:    0.0s\n",
      "[CV] max_depth=8, n_estimators=81 ....................................\n",
      "[CV]  max_depth=8, n_estimators=81, score=0.5595601942547664, total=  16.3s\n",
      "[Parallel(n_jobs=1)]: Done  53 out of  53 | elapsed: 11.1min remaining:    0.0s\n",
      "[CV] max_depth=8, n_estimators=81 ....................................\n",
      "[CV]  max_depth=8, n_estimators=81, score=0.5613693803820734, total=  16.7s\n",
      "[Parallel(n_jobs=1)]: Done  54 out of  54 | elapsed: 11.4min remaining:    0.0s\n",
      "[CV] max_depth=8, n_estimators=121 ...................................\n",
      "[CV]  max_depth=8, n_estimators=121, score=0.56388714219749, total=  16.0s\n",
      "[Parallel(n_jobs=1)]: Done  55 out of  55 | elapsed: 11.7min remaining:    0.0s\n",
      "[CV] max_depth=8, n_estimators=121 ...................................\n",
      "[CV]  max_depth=8, n_estimators=121, score=0.5595601942547664, total=  16.3s\n",
      "[Parallel(n_jobs=1)]: Done  56 out of  56 | elapsed: 12.0min remaining:    0.0s\n",
      "[CV] max_depth=8, n_estimators=121 ...................................\n",
      "[CV]  max_depth=8, n_estimators=121, score=0.5613693803820734, total=  16.3s\n",
      "[Parallel(n_jobs=1)]: Done  57 out of  57 | elapsed: 12.3min remaining:    0.0s\n",
      "[CV] max_depth=8, n_estimators=161 ...................................\n",
      "[CV]  max_depth=8, n_estimators=161, score=0.56388714219749, total=  16.2s\n",
      "[Parallel(n_jobs=1)]: Done  58 out of  58 | elapsed: 12.6min remaining:    0.0s\n",
      "[CV] max_depth=8, n_estimators=161 ...................................\n",
      "[CV]  max_depth=8, n_estimators=161, score=0.5595601942547664, total=  16.3s\n",
      "[Parallel(n_jobs=1)]: Done  59 out of  59 | elapsed: 12.9min remaining:    0.0s\n",
      "[CV] max_depth=8, n_estimators=161 ...................................\n",
      "[CV]  max_depth=8, n_estimators=161, score=0.5613693803820734, total=  16.1s\n",
      "[Parallel(n_jobs=1)]: Done  60 out of  60 | elapsed: 13.2min remaining:    0.0s\n",
      "[CV] max_depth=10, n_estimators=1 ....................................\n",
      "[CV]  max_depth=10, n_estimators=1, score=0.5519464854613696, total=  19.4s\n",
      "[Parallel(n_jobs=1)]: Done  61 out of  61 | elapsed: 13.5min remaining:    0.0s\n",
      "[CV] max_depth=10, n_estimators=1 ....................................\n",
      "[CV]  max_depth=10, n_estimators=1, score=0.5564961419407259, total=  19.7s\n",
      "[Parallel(n_jobs=1)]: Done  62 out of  62 | elapsed: 13.9min remaining:    0.0s\n",
      "[CV] max_depth=10, n_estimators=1 ....................................\n",
      "[CV]  max_depth=10, n_estimators=1, score=0.5572003207070308, total=  19.4s\n",
      "[Parallel(n_jobs=1)]: Done  63 out of  63 | elapsed: 14.2min remaining:    0.0s\n",
      "[CV] max_depth=10, n_estimators=41 ...................................\n",
      "[CV]  max_depth=10, n_estimators=41, score=0.5519464854613696, total=  19.5s\n",
      "[Parallel(n_jobs=1)]: Done  64 out of  64 | elapsed: 14.6min remaining:    0.0s\n",
      "[CV] max_depth=10, n_estimators=41 ...................................\n",
      "[CV]  max_depth=10, n_estimators=41, score=0.5564961419407259, total=  20.3s\n",
      "[Parallel(n_jobs=1)]: Done  65 out of  65 | elapsed: 15.0min remaining:    0.0s\n",
      "[CV] max_depth=10, n_estimators=41 ...................................\n",
      "[CV]  max_depth=10, n_estimators=41, score=0.5572003207070308, total=  19.7s\n",
      "[Parallel(n_jobs=1)]: Done  66 out of  66 | elapsed: 15.3min remaining:    0.0s\n",
      "[CV] max_depth=10, n_estimators=81 ...................................\n",
      "[CV]  max_depth=10, n_estimators=81, score=0.5519464854613696, total=  19.4s\n",
      "[Parallel(n_jobs=1)]: Done  67 out of  67 | elapsed: 15.7min remaining:    0.0s\n",
      "[CV] max_depth=10, n_estimators=81 ...................................\n",
      "[CV]  max_depth=10, n_estimators=81, score=0.5564961419407259, total=  19.7s\n",
      "[Parallel(n_jobs=1)]: Done  68 out of  68 | elapsed: 16.0min remaining:    0.0s\n",
      "[CV] max_depth=10, n_estimators=81 ...................................\n",
      "[CV]  max_depth=10, n_estimators=81, score=0.5572003207070308, total=  19.6s\n",
      "[Parallel(n_jobs=1)]: Done  69 out of  69 | elapsed: 16.4min remaining:    0.0s\n",
      "[CV] max_depth=10, n_estimators=121 ..................................\n",
      "[CV]  max_depth=10, n_estimators=121, score=0.5519464854613696, total=  19.4s\n",
      "[Parallel(n_jobs=1)]: Done  70 out of  70 | elapsed: 16.7min remaining:    0.0s\n",
      "[CV] max_depth=10, n_estimators=121 ..................................\n",
      "[CV]  max_depth=10, n_estimators=121, score=0.5564961419407259, total=  19.8s\n",
      "[Parallel(n_jobs=1)]: Done  71 out of  71 | elapsed: 17.1min remaining:    0.0s\n",
      "[CV] max_depth=10, n_estimators=121 ..................................\n",
      "[CV]  max_depth=10, n_estimators=121, score=0.5572003207070308, total=  19.7s\n",
      "[Parallel(n_jobs=1)]: Done  72 out of  72 | elapsed: 17.5min remaining:    0.0s\n",
      "[CV] max_depth=10, n_estimators=161 ..................................\n",
      "[CV]  max_depth=10, n_estimators=161, score=0.5519464854613696, total=  19.3s\n",
      "[Parallel(n_jobs=1)]: Done  73 out of  73 | elapsed: 17.8min remaining:    0.0s\n",
      "[CV] max_depth=10, n_estimators=161 ..................................\n",
      "[CV]  max_depth=10, n_estimators=161, score=0.5564961419407259, total=  19.7s\n",
      "[Parallel(n_jobs=1)]: Done  74 out of  74 | elapsed: 18.2min remaining:    0.0s\n",
      "[CV] max_depth=10, n_estimators=161 ..................................\n",
      "[CV]  max_depth=10, n_estimators=161, score=0.5572003207070308, total=  19.4s\n",
      "[Parallel(n_jobs=1)]: Done  75 out of  75 | elapsed: 18.5min remaining:    0.0s\n",
      "[Parallel(n_jobs=1)]: Done  75 out of  75 | elapsed: 18.5min finished\n",
      "BEST HYPERPARAMETERS AND SCORE ARE\n"
     ]
    },
    {
     "name": "stderr",
     "output_type": "stream",
     "text": [
      "C:\\Users\\Dell\\Anaconda3\\lib\\site-packages\\sklearn\\model_selection\\_search.py:747: DeprecationWarning:\n",
      "\n",
      "The grid_scores_ attribute was deprecated in version 0.18 in favor of the more elaborate cv_results_ attribute. The grid_scores_ attribute will not be available from 0.20\n",
      "\n"
     ]
    },
    {
     "name": "stdout",
     "output_type": "stream",
     "text": [
      "score: 0.569090684188286\n",
      "max_depth: 4\n",
      "n_estimators: 1\n"
     ]
    }
   ],
   "source": [
    "import sys\n",
    "import math\n",
    " \n",
    "import numpy as np\n",
    "#from sklearn.grid_search import GridSearchCV\n",
    "from sklearn.metrics import roc_auc_score\n",
    "from sklearn.model_selection import GridSearchCV\n",
    "# you might need to install this one\n",
    "import xgboost as xgb\n",
    "\n",
    "class XGBoostClassifier():\n",
    "    def __init__(self, num_boost_round=10, **params):\n",
    "        self.clf = None\n",
    "        self.num_boost_round = num_boost_round\n",
    "        self.params = params\n",
    "        self.params.update({'objective': 'multi:softprob'})\n",
    " \n",
    "    def fit(self, X, y, num_boost_round=None):\n",
    "        num_boost_round = num_boost_round or self.num_boost_round\n",
    "        self.label2num = {label: i for i, label in enumerate(sorted(set(y)))}\n",
    "        dtrain = xgb.DMatrix(X, label=[self.label2num[label] for label in y])\n",
    "        self.clf = xgb.train(params=self.params, dtrain=dtrain, num_boost_round=num_boost_round, verbose_eval=1)\n",
    " \n",
    "    def predict(self, X):\n",
    "        num2label = {i: label for label, i in self.label2num.items()}\n",
    "        Y = self.predict_proba(X)\n",
    "        y = np.argmax(Y, axis=1)\n",
    "        return np.array([num2label[i] for i in y])\n",
    " \n",
    "    def predict_proba(self, X):\n",
    "        dtest = xgb.DMatrix(X)\n",
    "        return self.clf.predict(dtest)\n",
    " \n",
    "    def score(self, X, y):\n",
    "        Y = self.predict_proba(X)[:,1]\n",
    "        return roc_auc_score(y, Y)\n",
    " \n",
    "    def get_params(self, deep=True):\n",
    "        return self.params\n",
    " \n",
    "    def set_params(self, **params):\n",
    "        if 'num_boost_round' in params:\n",
    "            self.num_boost_round = params.pop('num_boost_round')\n",
    "        if 'objective' in params:\n",
    "            del params['objective']\n",
    "        self.params.update(params)\n",
    "        return self\n",
    "    \n",
    "\n",
    "clf = XGBoostClassifier(eval_metric = 'auc', num_class = 2, nthread = 4,)\n",
    "###################################################################\n",
    "#               Change from here                                  #\n",
    "###################################################################\n",
    "parameters = {\n",
    "        'max_depth': [ 2, 4, 6, 8, 10],\n",
    "        'n_estimators':list(range(1,200,40))    \n",
    "}\n",
    "\n",
    "clf = GridSearchCV(clf, parameters,verbose = 100)\n",
    "clf.fit(X_tr1, y_train1)\n",
    "\n",
    "#print(clf.grid_scores_)\n",
    "print('BEST HYPERPARAMETERS AND SCORE ARE')\n",
    "best_parameters, score, _ = max(clf.grid_scores_, key=lambda x: x[1])\n",
    "print('score:', score)\n",
    "for param_name in sorted(best_parameters.keys()):\n",
    "    print(\"%s: %r\" % (param_name, best_parameters[param_name]))"
   ]
  },
  {
   "cell_type": "code",
   "execution_count": 136,
   "metadata": {
    "collapsed": true
   },
   "outputs": [],
   "source": [
    "## Reference : https://scikit-learn.org/stable/auto_examples/svm/plot_rbf_parameters.html\n",
    "from matplotlib.colors import Normalize\n",
    "class MidpointNormalize(Normalize):\n",
    "\n",
    "    def __init__(self, vmin=None, vmax=None, midpoint=None, clip=False):\n",
    "        self.midpoint = midpoint\n",
    "        Normalize.__init__(self, vmin, vmax, clip)\n",
    "\n",
    "    def __call__(self, value, clip=None):\n",
    "        x, y = [self.vmin, self.midpoint, self.vmax], [0, 0.5, 1]\n",
    "        return np.ma.masked_array(np.interp(value, x, y))"
   ]
  },
  {
   "cell_type": "code",
   "execution_count": 152,
   "metadata": {},
   "outputs": [
    {
     "name": "stdout",
     "output_type": "stream",
     "text": [
      "[[0.58520141 0.58520141 0.58520141 0.58520141 0.58520141]\n",
      " [0.61970067 0.61970067 0.61970067 0.61970067 0.61970067]\n",
      " [0.65167021 0.65167021 0.65167021 0.65167021 0.65167021]\n",
      " [0.6988782  0.6988782  0.6988782  0.6988782  0.6988782 ]\n",
      " [0.76129837 0.76129837 0.76129837 0.76129837 0.76129837]]\n"
     ]
    },
    {
     "data": {
      "image/png": "[encoded data removed]",
      "text/plain": [
       "<Figure size 1440x1080 with 2 Axes>"
      ]
     },
     "metadata": {},
     "output_type": "display_data"
    }
   ],
   "source": [
    "## Reference : https://scikit-learn.org/stable/auto_examples/svm/plot_rbf_parameters.html\n",
    "depth = [2, 4, 6, 8, 10]\n",
    "est = list(range(1,200,40))\n",
    "\n",
    "scores = clf.cv_results_['mean_train_score'].reshape(len(est),\n",
    "                                                     len(depth))\n",
    "print(scores)\n",
    "\n",
    "# Draw heatmap of the validation accuracy as a function of gamma and C\n",
    "#\n",
    "# The score are encoded as colors with the hot colormap which varies from dark\n",
    "# red to bright yellow. As the most interesting scores are all located in the\n",
    "# 0.92 to 0.97 range we use a custom normalizer to set the mid-point to 0.92 so\n",
    "# as to make it easier to visualize the small variations of score values in the\n",
    "# interesting range while not brutally collapsing all the low score values to\n",
    "# the same color.\n",
    "import itertools\n",
    "plt.figure(figsize=(20, 15))\n",
    "plt.subplots_adjust(left=.2, right=0.95, bottom=0.15, top=0.95)\n",
    "plt.imshow(np.array(scores), interpolation='nearest')\n",
    "cm = np.array(scores)\n",
    "plt.xlabel('n_estimators')\n",
    "plt.ylabel('max_depth')\n",
    "plt.colorbar()\n",
    "plt.xticks(np.arange(len(est)), est, rotation=45)\n",
    "plt.yticks(np.arange(len(depth)), depth)\n",
    "fmt = 'f'\n",
    "thresh = cm.max() / 2.\n",
    "for i, j in itertools.product(range(cm.shape[0]), range(cm.shape[1])):\n",
    "    plt.text(j, i, format(cm[i, j], fmt),horizontalalignment=\"center\",color=\"white\")\n",
    "plt.title('Train AUC SCORES')\n",
    "plt.show()"
   ]
  },
  {
   "cell_type": "code",
   "execution_count": 151,
   "metadata": {
    "scrolled": false
   },
   "outputs": [
    {
     "name": "stdout",
     "output_type": "stream",
     "text": [
      "[[0.56904039 0.56904039 0.56904039 0.56904039 0.56904039]\n",
      " [0.56909068 0.56909068 0.56909068 0.56909068 0.56909068]\n",
      " [0.56444847 0.56444847 0.56444847 0.56444847 0.56444847]\n",
      " [0.56160557 0.56160557 0.56160557 0.56160557 0.56160557]\n",
      " [0.55521432 0.55521432 0.55521432 0.55521432 0.55521432]]\n"
     ]
    },
    {
     "data": {
      "image/png": "[encoded data removed]",
      "text/plain": [
       "<Figure size 1440x1080 with 2 Axes>"
      ]
     },
     "metadata": {},
     "output_type": "display_data"
    }
   ],
   "source": [
    "## Reference : https://scikit-learn.org/stable/auto_examples/svm/plot_rbf_parameters.html\n",
    "depth = [2, 4, 6, 8, 10]\n",
    "est = list(range(1,200,40))\n",
    "\n",
    "scores = clf.cv_results_['mean_test_score'].reshape(len(est),\n",
    "                                                     len(depth))\n",
    "print(scores)\n",
    "\n",
    "# Draw heatmap of the validation accuracy as a function of gamma and C\n",
    "#\n",
    "# The score are encoded as colors with the hot colormap which varies from dark\n",
    "# red to bright yellow. As the most interesting scores are all located in the\n",
    "# 0.92 to 0.97 range we use a custom normalizer to set the mid-point to 0.92 so\n",
    "# as to make it easier to visualize the small variations of score values in the\n",
    "# interesting range while not brutally collapsing all the low score values to\n",
    "# the same color.\n",
    "import itertools\n",
    "plt.figure(figsize=(20, 15))\n",
    "plt.subplots_adjust(left=.2, right=0.95, bottom=0.15, top=0.95)\n",
    "plt.imshow(np.array(scores), interpolation='nearest')\n",
    "cm = np.array(scores)\n",
    "plt.xlabel('n_estimators')\n",
    "plt.ylabel('max_depth')\n",
    "plt.colorbar()\n",
    "plt.xticks(np.arange(len(est)), est, rotation=45)\n",
    "plt.yticks(np.arange(len(depth)), depth)\n",
    "fmt = 'f'\n",
    "thresh = cm.max() / 2.\n",
    "for i, j in itertools.product(range(cm.shape[0]), range(cm.shape[1])):\n",
    "    plt.text(j, i, format(cm[i, j], fmt),horizontalalignment=\"center\",color=\"white\")\n",
    "plt.title('CV AUC SCORES')\n",
    "plt.show()"
   ]
  },
  {
   "cell_type": "markdown",
   "metadata": {},
   "source": [
    "__Creation of the model with the best hyperparameter and Evaluation of the model__"
   ]
  },
  {
   "cell_type": "code",
   "execution_count": 97,
   "metadata": {
    "collapsed": true
   },
   "outputs": [],
   "source": [
    "def batch_predict(clf, data):\n",
    "    # roc_auc_score(y_true, y_score) the 2nd parameter should be probability estimates of the positive class\n",
    "    # not the predicted outputs\n",
    "\n",
    "    y_data_pred = []\n",
    "    tr_loop = data.shape[0] - data.shape[0]%1000\n",
    "    # consider you X_tr shape is 49041, then your cr_loop will be 49041 - 49041%1000 = 49000\n",
    "    # in this for loop we will iterate unti the last 1000 multiplier\n",
    "    for i in range(0, tr_loop, 1000):\n",
    "        y_data_pred.extend(clf.predict_proba(data[i:i+1000])[:,1])\n",
    "    # we will be predicting for the last data points\n",
    "    y_data_pred.extend(clf.predict_proba(data[tr_loop:])[:,1])\n",
    "    return y_data_pred"
   ]
  },
  {
   "cell_type": "code",
   "execution_count": 116,
   "metadata": {
    "collapsed": true
   },
   "outputs": [],
   "source": [
    "# we are writing our own function for predict, with defined thresould\n",
    "# we will pick a threshold that will give the least fpr\n",
    "def predict(proba, threshould, fpr, tpr):\n",
    "    \n",
    "    t = threshould[np.argmax(fpr*(1-tpr))]\n",
    "    \n",
    "    # (tpr*(1-fpr)) will be maximum if your fpr is very low and tpr is very high\n",
    "    \n",
    "    print(\"the maximum value of tpr*(1-fpr)\", max(tpr*(1-fpr)), \"for threshold\", np.round(t,3))\n",
    "    predictions = []\n",
    "    for i in proba:\n",
    "        if i>=t:\n",
    "            predictions.append(1)\n",
    "        else:\n",
    "            predictions.append(0)\n",
    "    return t,predictions"
   ]
  },
  {
   "cell_type": "code",
   "execution_count": null,
   "metadata": {
    "collapsed": true
   },
   "outputs": [],
   "source": []
  },
  {
   "cell_type": "code",
   "execution_count": 158,
   "metadata": {},
   "outputs": [
    {
     "name": "stdout",
     "output_type": "stream",
     "text": [
      "[0]\ttrain-auc:0.564863\tvalid-auc:0.569723\n",
      "Multiple eval metrics have been passed: 'valid-auc' will be used for early stopping.\n",
      "\n",
      "Will train until valid-auc hasn't improved in 20 rounds.\n",
      "[10]\ttrain-auc:0.702882\tvalid-auc:0.693766\n",
      "[20]\ttrain-auc:0.742397\tvalid-auc:0.727442\n",
      "[30]\ttrain-auc:0.766575\tvalid-auc:0.749133\n",
      "[40]\ttrain-auc:0.786918\tvalid-auc:0.767623\n",
      "[50]\ttrain-auc:0.805832\tvalid-auc:0.784758\n",
      "[60]\ttrain-auc:0.820638\tvalid-auc:0.797427\n",
      "[70]\ttrain-auc:0.835083\tvalid-auc:0.812131\n",
      "[80]\ttrain-auc:0.86359\tvalid-auc:0.841114\n",
      "[90]\ttrain-auc:0.87633\tvalid-auc:0.853169\n",
      "[100]\ttrain-auc:0.88092\tvalid-auc:0.857611\n",
      "[110]\ttrain-auc:0.903953\tvalid-auc:0.883299\n",
      "[120]\ttrain-auc:0.906758\tvalid-auc:0.88527\n",
      "[130]\ttrain-auc:0.909568\tvalid-auc:0.88798\n",
      "[140]\ttrain-auc:0.915978\tvalid-auc:0.894504\n",
      "[150]\ttrain-auc:0.918648\tvalid-auc:0.896877\n",
      "[160]\ttrain-auc:0.919861\tvalid-auc:0.897998\n",
      "[170]\ttrain-auc:0.923008\tvalid-auc:0.90079\n",
      "[180]\ttrain-auc:0.924343\tvalid-auc:0.901661\n",
      "[190]\ttrain-auc:0.926376\tvalid-auc:0.903441\n",
      "[200]\ttrain-auc:0.927992\tvalid-auc:0.904706\n",
      "[210]\ttrain-auc:0.929289\tvalid-auc:0.905272\n",
      "[220]\ttrain-auc:0.930755\tvalid-auc:0.90669\n",
      "[230]\ttrain-auc:0.932363\tvalid-auc:0.90799\n",
      "[240]\ttrain-auc:0.933733\tvalid-auc:0.908657\n",
      "[250]\ttrain-auc:0.935121\tvalid-auc:0.909625\n",
      "[260]\ttrain-auc:0.936181\tvalid-auc:0.910203\n",
      "[270]\ttrain-auc:0.93671\tvalid-auc:0.910384\n",
      "[280]\ttrain-auc:0.937651\tvalid-auc:0.911173\n",
      "[290]\ttrain-auc:0.938547\tvalid-auc:0.911617\n",
      "[300]\ttrain-auc:0.939269\tvalid-auc:0.912252\n",
      "[310]\ttrain-auc:0.939846\tvalid-auc:0.912421\n",
      "[320]\ttrain-auc:0.940102\tvalid-auc:0.912469\n",
      "[330]\ttrain-auc:0.940246\tvalid-auc:0.912446\n",
      "[340]\ttrain-auc:0.941263\tvalid-auc:0.913067\n",
      "[350]\ttrain-auc:0.941581\tvalid-auc:0.913099\n",
      "[360]\ttrain-auc:0.942266\tvalid-auc:0.913177\n",
      "[370]\ttrain-auc:0.94284\tvalid-auc:0.913467\n",
      "[380]\ttrain-auc:0.943197\tvalid-auc:0.91349\n",
      "[390]\ttrain-auc:0.943784\tvalid-auc:0.913726\n",
      "[399]\ttrain-auc:0.944042\tvalid-auc:0.91373\n",
      "The test auc score is: 0.9137297792138238\n"
     ]
    }
   ],
   "source": [
    "## Reference : From Quora Question Pair Similarity Case Study\n",
    "params = {}\n",
    "params['eval_metric'] = 'auc'\n",
    "params['n_estimators'] = 1\n",
    "params['max_depth'] = 4\n",
    "\n",
    "d_train = xgb.DMatrix(X_tr1, label=y_train1)\n",
    "d_test = xgb.DMatrix(X_te1, label=y_test1)\n",
    "\n",
    "watchlist = [(d_train, 'train'), (d_test, 'valid')]\n",
    "\n",
    "bst = xgb.train(params, d_train, 400, watchlist, early_stopping_rounds=20, verbose_eval=10)\n",
    "\n",
    "xgdmat = xgb.DMatrix(X_tr1,y_train1)\n",
    "predict_y = bst.predict_proba(d_test)\n",
    "\n",
    "print(\"The test auc score is:\",roc_auc_score(y_test1, predict_y))"
   ]
  },
  {
   "cell_type": "code",
   "execution_count": 154,
   "metadata": {},
   "outputs": [
    {
     "data": {
      "image/png": "[encoded data removed]",
      "text/plain": [
       "<Figure size 432x288 with 1 Axes>"
      ]
     },
     "metadata": {},
     "output_type": "display_data"
    }
   ],
   "source": [
    "# https://scikit-learn.org/stable/modules/generated/sklearn.metrics.roc_curve.html#sklearn.metrics.roc_curve\n",
    "from sklearn.metrics import roc_curve, auc\n",
    "\n",
    "\n",
    "clf=xgb.XGBClassifier(max_depth = 4,n_estimators = 1,class_weight = 'balanced')#,min_samples_leaf = samples_leaf)\n",
    "clf.fit(X_tr1, y_train1)\n",
    "sig_clf = CalibratedClassifierCV(clf, method=\"sigmoid\")\n",
    "sig_clf.fit(X_tr1, y_train1)\n",
    "# roc_auc_score(y_true, y_score) the 2nd parameter should be probability estimates of the positive class\n",
    "# not the predicted outputs\n",
    "\n",
    "y_train_pred = batch_predict(sig_clf, X_tr1)    \n",
    "y_test_pred = batch_predict(sig_clf, X_te1)\n",
    "\n",
    "train_fpr, train_tpr, tr_thresholds = roc_curve(y_train1, y_train_pred)\n",
    "test_fpr, test_tpr, te_thresholds = roc_curve(y_test1, y_test_pred)\n",
    "\n",
    "plt.plot(train_fpr, train_tpr, label=\"train AUC =\"+str(auc(train_fpr, train_tpr)))\n",
    "plt.plot(test_fpr, test_tpr, label=\"test AUC =\"+str(auc(test_fpr, test_tpr)))\n",
    "plt.legend()\n",
    "plt.xlabel(\"FPR\")\n",
    "plt.ylabel(\"TPR\")\n",
    "plt.title(\"ROC AUC PLOTS\")\n",
    "plt.grid()\n",
    "plt.show()"
   ]
  },
  {
   "cell_type": "code",
   "execution_count": 164,
   "metadata": {
    "collapsed": true
   },
   "outputs": [],
   "source": [
    "## Reference : From Quora Question Pair Similarity Case Study\n",
    "# This function plots the confusion matrices given y_i, y_i_hat.\n",
    "def plot_confusion_matrix(strin, test_y, predict_y):\n",
    "    C = confusion_matrix(test_y, predict_y)\n",
    "    # C = 9,9 matrix, each cell (i,j) represents number of points of class i are predicted class j\n",
    "    \n",
    "    A =(((C.T)/(C.sum(axis=1))).T)\n",
    "    #divid each element of the confusion matrix with the sum of elements in that column\n",
    "    \n",
    "    # C = [[1, 2],\n",
    "    #     [3, 4]]\n",
    "    # C.T = [[1, 3],\n",
    "    #        [2, 4]]\n",
    "    # C.sum(axis = 1)  axis=0 corresonds to columns and axis=1 corresponds to rows in two diamensional array\n",
    "    # C.sum(axix =1) = [[3, 7]]\n",
    "    # ((C.T)/(C.sum(axis=1))) = [[1/3, 3/7]\n",
    "    #                           [2/3, 4/7]]\n",
    "\n",
    "    # ((C.T)/(C.sum(axis=1))).T = [[1/3, 2/3]\n",
    "    #                           [3/7, 4/7]]\n",
    "    # sum of row elements = 1\n",
    "    \n",
    "    B =(C/C.sum(axis=0))\n",
    "    #divid each element of the confusion matrix with the sum of elements in that row\n",
    "    # C = [[1, 2],\n",
    "    #     [3, 4]]\n",
    "    # C.sum(axis = 0)  axis=0 corresonds to columns and axis=1 corresponds to rows in two diamensional array\n",
    "    # C.sum(axix =0) = [[4, 6]]\n",
    "    # (C/C.sum(axis=0)) = [[1/4, 2/6],\n",
    "    #                      [3/4, 4/6]] \n",
    "    plt.figure(figsize=(20,4))\n",
    "    \n",
    "    labels = [1,2]\n",
    "    # representing A in heatmap format\n",
    "    cmap=sns.light_palette(\"blue\")\n",
    "    plt.subplot(1, 3, 1)\n",
    "    sns.heatmap(C, annot=True, cmap=cmap, fmt=\".3f\", xticklabels=labels, yticklabels=labels)\n",
    "    plt.xlabel('Predicted Class')\n",
    "    plt.ylabel('Original Class')\n",
    "    plt.title(strin + \" Confusion matrix\")\n",
    "    \n",
    "    plt.subplot(1, 3, 2)\n",
    "    sns.heatmap(B, annot=True, cmap=cmap, fmt=\".3f\", xticklabels=labels, yticklabels=labels)\n",
    "    plt.xlabel('Predicted Class')\n",
    "    plt.ylabel('Original Class')\n",
    "    plt.title(strin +\" Precision matrix\")\n",
    "    \n",
    "    plt.subplot(1, 3, 3)\n",
    "    # representing B in heatmap format\n",
    "    sns.heatmap(A, annot=True, cmap=cmap, fmt=\".3f\", xticklabels=labels, yticklabels=labels)\n",
    "    plt.xlabel('Predicted Class')\n",
    "    plt.ylabel('Original Class')\n",
    "    plt.title(strin +\" Recall matrix\")\n",
    "    \n",
    "    plt.show()"
   ]
  },
  {
   "cell_type": "markdown",
   "metadata": {},
   "source": [
    "__Evaluation of the Model__"
   ]
  },
  {
   "cell_type": "code",
   "execution_count": 166,
   "metadata": {},
   "outputs": [
    {
     "name": "stdout",
     "output_type": "stream",
     "text": [
      "Total number of data points : 83230\n"
     ]
    },
    {
     "data": {
      "image/png": "[encoded data removed]",
      "text/plain": [
       "<Figure size 1440x288 with 6 Axes>"
      ]
     },
     "metadata": {},
     "output_type": "display_data"
    }
   ],
   "source": [
    "## Reference : From Quora Question Pair Similarity Case Study\n",
    "predict_y_tr = bst.predict_proba(d_train)\n",
    "predicted_y_tr =np.array(predict_y_tr>tr_thresholds,dtype=int)\n",
    "print(\"Total number of data points :\", len(predicted_y_tr))\n",
    "plot_confusion_matrix('Train',y_train1, predicted_y_tr)"
   ]
  },
  {
   "cell_type": "code",
   "execution_count": 165,
   "metadata": {},
   "outputs": [
    {
     "name": "stdout",
     "output_type": "stream",
     "text": [
      "Total number of data points : 61186\n"
     ]
    },
    {
     "data": {
      "image/png": "[encoded data removed]",
      "text/plain": [
       "<Figure size 1440x288 with 6 Axes>"
      ]
     },
     "metadata": {},
     "output_type": "display_data"
    }
   ],
   "source": [
    "## Reference : From Quora Question Pair Similarity Case Study\n",
    "predicted_y =np.array(predict_y>te_thresholds,dtype=int)\n",
    "print(\"Total number of data points :\", len(predicted_y))\n",
    "plot_confusion_matrix('Test',y_test1, predicted_y)"
   ]
  },
  {
   "cell_type": "markdown",
   "metadata": {
    "colab_type": "text",
    "id": "ePgl9sekqzF9"
   },
   "source": [
    "<h1>3. Conclusion</h1>"
   ]
  },
  {
   "cell_type": "code",
   "execution_count": 0,
   "metadata": {
    "colab": {},
    "colab_type": "code",
    "collapsed": true,
    "id": "F9M4ANPUqzF9"
   },
   "outputs": [],
   "source": [
    "# Please write down few lines about what you observed from this assignment. "
   ]
  },
  {
   "cell_type": "markdown",
   "metadata": {},
   "source": [
    "### Inference\n",
    "\n",
    "1) Here we have first used TruncatedSVD for dimensionality reduction with reduced execution speed.The Matrix Factorization is both memory and computation intensive.<br>\n",
    "\n",
    "2) We have merged all the features and applied XGBoost on the merged features. From the confusion matrices we can infer that the we have received a very good XGBoost Model with **Test AUC Score = 0.913**. \n"
   ]
  },
  {
   "cell_type": "markdown",
   "metadata": {},
   "source": [
    "## Steps Followed\n",
    "\n",
    "1) First we concatenate the essay and project_title feature from the dataset.<br> \n",
    "1) We find the top '2K' words or features from the dataset based on the tf-idf score. <br>\n",
    "3) We form the 'nxn' co-occurence matrix by using the 5 contextual words present in the neighbourhood of the reference word. We may change the window-size from 5 to any other number according to requirement.<br>\n",
    "4) We find the optimal number of components by using the variance explained.<br>\n",
    "5) We compute the various matrices 'U' of 'nxd', 'Sigma' of 'dxd' and 'VT' of 'dxn' using Matrix Factorization.<br>\n",
    "6) So we get a new U with reduced dimensions by applying TruncatedSVD.<br>\n",
    "7) We then merge various features as mentioned in the instructions.<br>\n",
    "8) Now we hypertune the XGBoost hyperparameters using  GridSearchCV to find the best hyperparameters.<br>\n",
    "9) Now we create the XGBoost model with the best hyperparameters.<br>\n",
    "10) Evaluate the performance of the model from Train and Test confusion, recall and precision matrices."
   ]
  },
  {
   "cell_type": "code",
   "execution_count": null,
   "metadata": {
    "collapsed": true
   },
   "outputs": [],
   "source": []
  }
 ],
 "metadata": {
  "colab": {
   "collapsed_sections": [
    "3wPSotkZqzFH",
    "noI4mG-xqzFQ",
    "gAopW81iqzFQ",
    "tvqx8dKSqzFV",
    "x9aLUNrQqzFX",
    "HGCSvZChqzFd"
   ],
   "name": "11_DonorsChoose_TruncatedSVD.ipynb",
   "provenance": [],
   "version": "0.3.2"
  },
  "kernelspec": {
   "display_name": "Python 3",
   "language": "python",
   "name": "python3"
  },
  "language_info": {
   "codemirror_mode": {
    "name": "ipython",
    "version": 3
   },
   "file_extension": ".py",
   "mimetype": "text/x-python",
   "name": "python",
   "nbconvert_exporter": "python",
   "pygments_lexer": "ipython3",
   "version": "3.6.2"
  },
  "widgets": {
   "application/vnd.jupyter.widget-state+json": {
    "state": {
     "0104dbb682854e89be51e7766a3046a0": {
      "model_module": "@jupyter-widgets/controls",
      "model_module_version": "1.0.0",
      "model_name": "HTMLModel",
      "state": {
       "layout": "IPY_MODEL_ac6a5ad60397440faca9e98813265dd8",
       "style": "IPY_MODEL_0ffd3efa78fc48228ecc7798d7318fa0",
       "value": "Items: 24155"
      }
     },
     "03ecd7ca7ec14c158a441952fa3731cc": {
      "model_module": "@jupyter-widgets/controls",
      "model_module_version": "1.0.0",
      "model_name": "HTMLModel",
      "state": {
       "layout": "IPY_MODEL_91b3400933d44cb2894c46aa73e93631",
       "style": "IPY_MODEL_1169abef49e0412099962772dd043fcf",
       "value": "Items: 36052"
      }
     },
     "0431fecab91d4abbaf996bd36e11b466": {
      "model_module": "@jupyter-widgets/controls",
      "model_module_version": "1.0.0",
      "model_name": "VBoxModel",
      "state": {
       "children": [
        "IPY_MODEL_7549810759e046c1866bd5929ae91158",
        "IPY_MODEL_ea0a7d0f939f4876811185c00b349871"
       ],
       "layout": "IPY_MODEL_2bb8473d470a47a893d3f97c29e596d9"
      }
     },
     "06726f2d14bb4cff8f15388a5b5823e9": {
      "model_module": "@jupyter-widgets/base",
      "model_module_version": "1.0.0",
      "model_name": "LayoutModel",
      "state": {}
     },
     "072c6f34879b4858b437a0bb051d91ac": {
      "model_module": "@jupyter-widgets/base",
      "model_module_version": "1.0.0",
      "model_name": "LayoutModel",
      "state": {}
     },
     "0c42e176d68949a7afbb12f1e4f7000e": {
      "model_module": "@jupyter-widgets/base",
      "model_module_version": "1.0.0",
      "model_name": "LayoutModel",
      "state": {}
     },
     "0d583a85e7fa453e9b5e8caf2f582911": {
      "model_module": "@jupyter-widgets/controls",
      "model_module_version": "1.0.0",
      "model_name": "DescriptionStyleModel",
      "state": {
       "description_width": ""
      }
     },
     "0ffd3efa78fc48228ecc7798d7318fa0": {
      "model_module": "@jupyter-widgets/controls",
      "model_module_version": "1.0.0",
      "model_name": "DescriptionStyleModel",
      "state": {
       "description_width": ""
      }
     },
     "1169abef49e0412099962772dd043fcf": {
      "model_module": "@jupyter-widgets/controls",
      "model_module_version": "1.0.0",
      "model_name": "DescriptionStyleModel",
      "state": {
       "description_width": ""
      }
     },
     "13a2415ff3f845fd8805d497d87b4795": {
      "model_module": "@jupyter-widgets/controls",
      "model_module_version": "1.0.0",
      "model_name": "IntProgressModel",
      "state": {
       "bar_style": "success",
       "layout": "IPY_MODEL_99fbfc0f8eec48f5b4f635daf75a9cb0",
       "max": 36052,
       "style": "IPY_MODEL_8bbb55789b55497aba0ca08f425b1271",
       "value": 36052
      }
     },
     "15c747dc16f9494eb22c730a4c66d54a": {
      "model_module": "@jupyter-widgets/controls",
      "model_module_version": "1.0.0",
      "model_name": "HTMLModel",
      "state": {
       "layout": "IPY_MODEL_c6b3de8ec4cd437f8ff118a5709eba4e",
       "style": "IPY_MODEL_6b830bb4ae3d49f6a9f7d6a4daeca82e",
       "value": "Items: 49041"
      }
     },
     "162499d483264f97a870981aa4d640f5": {
      "model_module": "@jupyter-widgets/controls",
      "model_module_version": "1.0.0",
      "model_name": "VBoxModel",
      "state": {
       "children": [
        "IPY_MODEL_15c747dc16f9494eb22c730a4c66d54a",
        "IPY_MODEL_d3e3c25944804934aef2c7e7727778e7"
       ],
       "layout": "IPY_MODEL_5bcb2bf56fc64488bc3995dbff3572ff"
      }
     },
     "180192700d374e75b60b1d12cc8e1c62": {
      "model_module": "@jupyter-widgets/controls",
      "model_module_version": "1.0.0",
      "model_name": "IntProgressModel",
      "state": {
       "bar_style": "success",
       "layout": "IPY_MODEL_4fc2cbf060184ee988c90ea6ac2a8aa6",
       "max": 24155,
       "style": "IPY_MODEL_f3eb3674480b4d77b517491cf0629c26",
       "value": 24155
      }
     },
     "183ae66fcf06494198989963bb562d1c": {
      "model_module": "@jupyter-widgets/controls",
      "model_module_version": "1.0.0",
      "model_name": "IntProgressModel",
      "state": {
       "bar_style": "danger",
       "layout": "IPY_MODEL_b934ff1cf13642ef93e476ebeb379d91",
       "max": 49041,
       "style": "IPY_MODEL_804b08ad03b44e43ab39d70aefffb1bf",
       "value": 23275
      }
     },
     "1be65ee227c943acafdff0595cf188e6": {
      "model_module": "@jupyter-widgets/base",
      "model_module_version": "1.0.0",
      "model_name": "LayoutModel",
      "state": {}
     },
     "21760c280d464ba3af1d0394c459ae10": {
      "model_module": "@jupyter-widgets/base",
      "model_module_version": "1.0.0",
      "model_name": "LayoutModel",
      "state": {}
     },
     "239c7d8341d34a6cb087faaf060c590d": {
      "model_module": "@jupyter-widgets/controls",
      "model_module_version": "1.0.0",
      "model_name": "HTMLModel",
      "state": {
       "layout": "IPY_MODEL_fbd3fe2a8e364064aad69c7ff9924510",
       "style": "IPY_MODEL_e00642de670248b7a4e27c31c7e62343",
       "value": "Items: 2184 / 109248"
      }
     },
     "262d5f605eb2477791c673eba602166b": {
      "model_module": "@jupyter-widgets/controls",
      "model_module_version": "1.0.0",
      "model_name": "DescriptionStyleModel",
      "state": {
       "description_width": ""
      }
     },
     "2bb8473d470a47a893d3f97c29e596d9": {
      "model_module": "@jupyter-widgets/base",
      "model_module_version": "1.0.0",
      "model_name": "LayoutModel",
      "state": {}
     },
     "2bd6bc2bccda4bcfb7cfced2fe9c65b8": {
      "model_module": "@jupyter-widgets/controls",
      "model_module_version": "1.0.0",
      "model_name": "HTMLModel",
      "state": {
       "layout": "IPY_MODEL_21760c280d464ba3af1d0394c459ae10",
       "style": "IPY_MODEL_4c8800661cc84ee8907573171bbfda19",
       "value": "Items: 109248"
      }
     },
     "2de8c8bb60494ef198e93a2c7cd63e5c": {
      "model_module": "@jupyter-widgets/controls",
      "model_module_version": "1.0.0",
      "model_name": "IntProgressModel",
      "state": {
       "bar_style": "danger",
       "layout": "IPY_MODEL_bc988f38d2a64d97835b6353e2d93ff0",
       "max": 109248,
       "style": "IPY_MODEL_bd9c0e99575d400f9f30abb40c86efca",
       "value": 2184
      }
     },
     "33a62cb9152541f99c3078867690afe4": {
      "model_module": "@jupyter-widgets/controls",
      "model_module_version": "1.0.0",
      "model_name": "VBoxModel",
      "state": {
       "children": [
        "IPY_MODEL_67dafc954c404933b6312f2cbf854744",
        "IPY_MODEL_457f5f27f01d4e6d87e16094933dfa30"
       ],
       "layout": "IPY_MODEL_bd86ebc08254402897fc58ace330a9f9"
      }
     },
     "3768579f7e8e48f892d0fd8d8632ec44": {
      "model_module": "@jupyter-widgets/controls",
      "model_module_version": "1.0.0",
      "model_name": "DescriptionStyleModel",
      "state": {
       "description_width": ""
      }
     },
     "3c45b67ee08c49129941f49ecb35c50c": {
      "model_module": "@jupyter-widgets/controls",
      "model_module_version": "1.0.0",
      "model_name": "ProgressStyleModel",
      "state": {
       "description_width": ""
      }
     },
     "40d0366c364847d3bec91e9e852e5ac1": {
      "model_module": "@jupyter-widgets/controls",
      "model_module_version": "1.0.0",
      "model_name": "DescriptionStyleModel",
      "state": {
       "description_width": ""
      }
     },
     "454ff60460494e3cb0e1ade92aaba46e": {
      "model_module": "@jupyter-widgets/controls",
      "model_module_version": "1.0.0",
      "model_name": "IntProgressModel",
      "state": {
       "bar_style": "success",
       "layout": "IPY_MODEL_551316e79968402f9882f64670cf052a",
       "max": 24155,
       "style": "IPY_MODEL_ad7e4327c64f46eb9bf5ac9c2cbe32f8",
       "value": 24155
      }
     },
     "457f5f27f01d4e6d87e16094933dfa30": {
      "model_module": "@jupyter-widgets/controls",
      "model_module_version": "1.0.0",
      "model_name": "IntProgressModel",
      "state": {
       "bar_style": "success",
       "layout": "IPY_MODEL_ccc9d91023c54f92a4fe3b51d8688be0",
       "max": 109248,
       "style": "IPY_MODEL_ada84a4aeebf4e849700bfdfafca42cd",
       "value": 109248
      }
     },
     "4a09033fd6434a7a83cdef851432d4c9": {
      "model_module": "@jupyter-widgets/controls",
      "model_module_version": "1.0.0",
      "model_name": "IntProgressModel",
      "state": {
       "bar_style": "success",
       "layout": "IPY_MODEL_4e6c7af56e974c2a89a73a8be63353b1",
       "max": 109248,
       "style": "IPY_MODEL_e7d556e7afc14f629f876de0ea2e61d4",
       "value": 109248
      }
     },
     "4c8800661cc84ee8907573171bbfda19": {
      "model_module": "@jupyter-widgets/controls",
      "model_module_version": "1.0.0",
      "model_name": "DescriptionStyleModel",
      "state": {
       "description_width": ""
      }
     },
     "4c9a3e74b2524fafb09cbaad67ab7526": {
      "model_module": "@jupyter-widgets/controls",
      "model_module_version": "1.0.0",
      "model_name": "ProgressStyleModel",
      "state": {
       "description_width": ""
      }
     },
     "4d2181c5534a41a3aba74d78e33eeb6e": {
      "model_module": "@jupyter-widgets/controls",
      "model_module_version": "1.0.0",
      "model_name": "VBoxModel",
      "state": {
       "children": [
        "IPY_MODEL_0104dbb682854e89be51e7766a3046a0",
        "IPY_MODEL_180192700d374e75b60b1d12cc8e1c62"
       ],
       "layout": "IPY_MODEL_acea9b85162e4571804e1e769c657216"
      }
     },
     "4e6c7af56e974c2a89a73a8be63353b1": {
      "model_module": "@jupyter-widgets/base",
      "model_module_version": "1.0.0",
      "model_name": "LayoutModel",
      "state": {}
     },
     "4fc2cbf060184ee988c90ea6ac2a8aa6": {
      "model_module": "@jupyter-widgets/base",
      "model_module_version": "1.0.0",
      "model_name": "LayoutModel",
      "state": {}
     },
     "534bf7f952cb48feb53b81b3b5c08339": {
      "model_module": "@jupyter-widgets/base",
      "model_module_version": "1.0.0",
      "model_name": "LayoutModel",
      "state": {}
     },
     "551316e79968402f9882f64670cf052a": {
      "model_module": "@jupyter-widgets/base",
      "model_module_version": "1.0.0",
      "model_name": "LayoutModel",
      "state": {}
     },
     "561827e0f3594534a31bd30d7080fd6e": {
      "model_module": "@jupyter-widgets/controls",
      "model_module_version": "1.0.0",
      "model_name": "VBoxModel",
      "state": {
       "children": [
        "IPY_MODEL_239c7d8341d34a6cb087faaf060c590d",
        "IPY_MODEL_2de8c8bb60494ef198e93a2c7cd63e5c"
       ],
       "layout": "IPY_MODEL_1be65ee227c943acafdff0595cf188e6"
      }
     },
     "5a254ae3c22a404c8d30ec5f7f2d1d07": {
      "model_module": "@jupyter-widgets/controls",
      "model_module_version": "1.0.0",
      "model_name": "DescriptionStyleModel",
      "state": {
       "description_width": ""
      }
     },
     "5bcb2bf56fc64488bc3995dbff3572ff": {
      "model_module": "@jupyter-widgets/base",
      "model_module_version": "1.0.0",
      "model_name": "LayoutModel",
      "state": {}
     },
     "5c2a5df9488c490ebe6aff81a708825d": {
      "model_module": "@jupyter-widgets/base",
      "model_module_version": "1.0.0",
      "model_name": "LayoutModel",
      "state": {}
     },
     "5cbf8d8a6503471b8e2bf880981a3353": {
      "model_module": "@jupyter-widgets/controls",
      "model_module_version": "1.0.0",
      "model_name": "ProgressStyleModel",
      "state": {
       "description_width": ""
      }
     },
     "61ae4fc1586e40e09740af753e69f2c7": {
      "model_module": "@jupyter-widgets/base",
      "model_module_version": "1.0.0",
      "model_name": "LayoutModel",
      "state": {}
     },
     "62a5928e99854950807d370a5de4b01e": {
      "model_module": "@jupyter-widgets/base",
      "model_module_version": "1.0.0",
      "model_name": "LayoutModel",
      "state": {}
     },
     "643ffd57ebff4f398686967e58d5630a": {
      "model_module": "@jupyter-widgets/controls",
      "model_module_version": "1.0.0",
      "model_name": "HTMLModel",
      "state": {
       "layout": "IPY_MODEL_695379d96d1749dbb01ac5fdf73b95f3",
       "style": "IPY_MODEL_5a254ae3c22a404c8d30ec5f7f2d1d07",
       "value": "Items: 24155"
      }
     },
     "658b060879254ff0a26fa8e7d7cebdac": {
      "model_module": "@jupyter-widgets/controls",
      "model_module_version": "1.0.0",
      "model_name": "HTMLModel",
      "state": {
       "layout": "IPY_MODEL_b774bb931c544d1da6d2a983a45344ca",
       "style": "IPY_MODEL_40d0366c364847d3bec91e9e852e5ac1",
       "value": "Items: 24155"
      }
     },
     "658cca56cc6b442da20a38141e347556": {
      "model_module": "@jupyter-widgets/controls",
      "model_module_version": "1.0.0",
      "model_name": "VBoxModel",
      "state": {
       "children": [
        "IPY_MODEL_03ecd7ca7ec14c158a441952fa3731cc",
        "IPY_MODEL_829f944637f9456793fea14237fd4407"
       ],
       "layout": "IPY_MODEL_c2a94f34dae942d88f5620770ffd28a6"
      }
     },
     "678fbae986ec4d458a1a7f029fc50dba": {
      "model_module": "@jupyter-widgets/controls",
      "model_module_version": "1.0.0",
      "model_name": "HTMLModel",
      "state": {
       "layout": "IPY_MODEL_0c42e176d68949a7afbb12f1e4f7000e",
       "style": "IPY_MODEL_c0189906ff944be58c49f5072d0040ef",
       "value": "Items: 23275 / 49041"
      }
     },
     "67dafc954c404933b6312f2cbf854744": {
      "model_module": "@jupyter-widgets/controls",
      "model_module_version": "1.0.0",
      "model_name": "HTMLModel",
      "state": {
       "layout": "IPY_MODEL_534bf7f952cb48feb53b81b3b5c08339",
       "style": "IPY_MODEL_0d583a85e7fa453e9b5e8caf2f582911",
       "value": "Items: 109248"
      }
     },
     "695379d96d1749dbb01ac5fdf73b95f3": {
      "model_module": "@jupyter-widgets/base",
      "model_module_version": "1.0.0",
      "model_name": "LayoutModel",
      "state": {}
     },
     "6b830bb4ae3d49f6a9f7d6a4daeca82e": {
      "model_module": "@jupyter-widgets/controls",
      "model_module_version": "1.0.0",
      "model_name": "DescriptionStyleModel",
      "state": {
       "description_width": ""
      }
     },
     "71c1042ee0dd4179940cf83572d6e492": {
      "model_module": "@jupyter-widgets/controls",
      "model_module_version": "1.0.0",
      "model_name": "HTMLModel",
      "state": {
       "layout": "IPY_MODEL_b2ea4a971e0d46238f4ac02d0b20d9f7",
       "style": "IPY_MODEL_262d5f605eb2477791c673eba602166b",
       "value": "Items: 49041"
      }
     },
     "74c059d82f96428d93ccb848e15feedf": {
      "model_module": "@jupyter-widgets/controls",
      "model_module_version": "1.0.0",
      "model_name": "IntProgressModel",
      "state": {
       "bar_style": "success",
       "layout": "IPY_MODEL_89838d13023d4b08afb189aad03c16db",
       "max": 49041,
       "style": "IPY_MODEL_4c9a3e74b2524fafb09cbaad67ab7526",
       "value": 49041
      }
     },
     "7549810759e046c1866bd5929ae91158": {
      "model_module": "@jupyter-widgets/controls",
      "model_module_version": "1.0.0",
      "model_name": "HTMLModel",
      "state": {
       "layout": "IPY_MODEL_8729552fb65a41fe906fe32c2a3cf341",
       "style": "IPY_MODEL_e289f4edd0bd4e11a506640ccaabcbaf",
       "value": "Items: 49041"
      }
     },
     "7f61687b72cf44f6b49a5801042a3f51": {
      "model_module": "@jupyter-widgets/controls",
      "model_module_version": "1.0.0",
      "model_name": "IntProgressModel",
      "state": {
       "bar_style": "success",
       "layout": "IPY_MODEL_06726f2d14bb4cff8f15388a5b5823e9",
       "max": 24155,
       "style": "IPY_MODEL_8f77e184b7594dcc89972930127cc122",
       "value": 24155
      }
     },
     "80431cacd0454affa1e1879e72ba1d3e": {
      "model_module": "@jupyter-widgets/base",
      "model_module_version": "1.0.0",
      "model_name": "LayoutModel",
      "state": {}
     },
     "804b08ad03b44e43ab39d70aefffb1bf": {
      "model_module": "@jupyter-widgets/controls",
      "model_module_version": "1.0.0",
      "model_name": "ProgressStyleModel",
      "state": {
       "description_width": ""
      }
     },
     "812b83afab4948efa4526787b8792d4a": {
      "model_module": "@jupyter-widgets/base",
      "model_module_version": "1.0.0",
      "model_name": "LayoutModel",
      "state": {}
     },
     "829f944637f9456793fea14237fd4407": {
      "model_module": "@jupyter-widgets/controls",
      "model_module_version": "1.0.0",
      "model_name": "IntProgressModel",
      "state": {
       "bar_style": "success",
       "layout": "IPY_MODEL_812b83afab4948efa4526787b8792d4a",
       "max": 36052,
       "style": "IPY_MODEL_aa53d236ded94de5aef37429c606f990",
       "value": 36052
      }
     },
     "835af464fbe74191bc705cdc499cbbff": {
      "model_module": "@jupyter-widgets/controls",
      "model_module_version": "1.0.0",
      "model_name": "HTMLModel",
      "state": {
       "layout": "IPY_MODEL_ca78c4eb52ca47aba3eb16006abdbec3",
       "style": "IPY_MODEL_3768579f7e8e48f892d0fd8d8632ec44",
       "value": "Items: 36052"
      }
     },
     "8729552fb65a41fe906fe32c2a3cf341": {
      "model_module": "@jupyter-widgets/base",
      "model_module_version": "1.0.0",
      "model_name": "LayoutModel",
      "state": {}
     },
     "892a5eda23a647f3b0496fb73964b323": {
      "model_module": "@jupyter-widgets/controls",
      "model_module_version": "1.0.0",
      "model_name": "VBoxModel",
      "state": {
       "children": [
        "IPY_MODEL_643ffd57ebff4f398686967e58d5630a",
        "IPY_MODEL_454ff60460494e3cb0e1ade92aaba46e"
       ],
       "layout": "IPY_MODEL_906b80216e524e3ab5a106ab1fe76b91"
      }
     },
     "89838d13023d4b08afb189aad03c16db": {
      "model_module": "@jupyter-widgets/base",
      "model_module_version": "1.0.0",
      "model_name": "LayoutModel",
      "state": {}
     },
     "8bbb55789b55497aba0ca08f425b1271": {
      "model_module": "@jupyter-widgets/controls",
      "model_module_version": "1.0.0",
      "model_name": "ProgressStyleModel",
      "state": {
       "description_width": ""
      }
     },
     "8f77e184b7594dcc89972930127cc122": {
      "model_module": "@jupyter-widgets/controls",
      "model_module_version": "1.0.0",
      "model_name": "ProgressStyleModel",
      "state": {
       "description_width": ""
      }
     },
     "906b80216e524e3ab5a106ab1fe76b91": {
      "model_module": "@jupyter-widgets/base",
      "model_module_version": "1.0.0",
      "model_name": "LayoutModel",
      "state": {}
     },
     "91b3400933d44cb2894c46aa73e93631": {
      "model_module": "@jupyter-widgets/base",
      "model_module_version": "1.0.0",
      "model_name": "LayoutModel",
      "state": {}
     },
     "99fbfc0f8eec48f5b4f635daf75a9cb0": {
      "model_module": "@jupyter-widgets/base",
      "model_module_version": "1.0.0",
      "model_name": "LayoutModel",
      "state": {}
     },
     "9c37f8ca542a4ca68425b1fe143afde7": {
      "model_module": "@jupyter-widgets/controls",
      "model_module_version": "1.0.0",
      "model_name": "VBoxModel",
      "state": {
       "children": [
        "IPY_MODEL_835af464fbe74191bc705cdc499cbbff",
        "IPY_MODEL_a269e0cf0073450c868cc86988af5e66"
       ],
       "layout": "IPY_MODEL_80431cacd0454affa1e1879e72ba1d3e"
      }
     },
     "9c815a79bf704c26a3be1ab62c5499e5": {
      "model_module": "@jupyter-widgets/controls",
      "model_module_version": "1.0.0",
      "model_name": "VBoxModel",
      "state": {
       "children": [
        "IPY_MODEL_b7b74f92f9a34a33907533eb29ac41b2",
        "IPY_MODEL_13a2415ff3f845fd8805d497d87b4795"
       ],
       "layout": "IPY_MODEL_bb203a2528644c8a8603af3f66cf0e63"
      }
     },
     "a269e0cf0073450c868cc86988af5e66": {
      "model_module": "@jupyter-widgets/controls",
      "model_module_version": "1.0.0",
      "model_name": "IntProgressModel",
      "state": {
       "bar_style": "success",
       "layout": "IPY_MODEL_aeae28764bbc493d98009f2631e43c63",
       "max": 36052,
       "style": "IPY_MODEL_5cbf8d8a6503471b8e2bf880981a3353",
       "value": 36052
      }
     },
     "a2a6787f586046d3851a1cd1ad0595a9": {
      "model_module": "@jupyter-widgets/controls",
      "model_module_version": "1.0.0",
      "model_name": "ProgressStyleModel",
      "state": {
       "description_width": ""
      }
     },
     "aa53d236ded94de5aef37429c606f990": {
      "model_module": "@jupyter-widgets/controls",
      "model_module_version": "1.0.0",
      "model_name": "ProgressStyleModel",
      "state": {
       "description_width": ""
      }
     },
     "ac6a5ad60397440faca9e98813265dd8": {
      "model_module": "@jupyter-widgets/base",
      "model_module_version": "1.0.0",
      "model_name": "LayoutModel",
      "state": {}
     },
     "acea9b85162e4571804e1e769c657216": {
      "model_module": "@jupyter-widgets/base",
      "model_module_version": "1.0.0",
      "model_name": "LayoutModel",
      "state": {}
     },
     "ad7e4327c64f46eb9bf5ac9c2cbe32f8": {
      "model_module": "@jupyter-widgets/controls",
      "model_module_version": "1.0.0",
      "model_name": "ProgressStyleModel",
      "state": {
       "description_width": ""
      }
     },
     "ada84a4aeebf4e849700bfdfafca42cd": {
      "model_module": "@jupyter-widgets/controls",
      "model_module_version": "1.0.0",
      "model_name": "ProgressStyleModel",
      "state": {
       "description_width": ""
      }
     },
     "aeae28764bbc493d98009f2631e43c63": {
      "model_module": "@jupyter-widgets/base",
      "model_module_version": "1.0.0",
      "model_name": "LayoutModel",
      "state": {}
     },
     "b075cb2003d54be5ad77c3e5e9099d97": {
      "model_module": "@jupyter-widgets/base",
      "model_module_version": "1.0.0",
      "model_name": "LayoutModel",
      "state": {}
     },
     "b2ea4a971e0d46238f4ac02d0b20d9f7": {
      "model_module": "@jupyter-widgets/base",
      "model_module_version": "1.0.0",
      "model_name": "LayoutModel",
      "state": {}
     },
     "b687767dd2414c30b826e64a2d570fb5": {
      "model_module": "@jupyter-widgets/controls",
      "model_module_version": "1.0.0",
      "model_name": "VBoxModel",
      "state": {
       "children": [
        "IPY_MODEL_658b060879254ff0a26fa8e7d7cebdac",
        "IPY_MODEL_7f61687b72cf44f6b49a5801042a3f51"
       ],
       "layout": "IPY_MODEL_5c2a5df9488c490ebe6aff81a708825d"
      }
     },
     "b774bb931c544d1da6d2a983a45344ca": {
      "model_module": "@jupyter-widgets/base",
      "model_module_version": "1.0.0",
      "model_name": "LayoutModel",
      "state": {}
     },
     "b7b74f92f9a34a33907533eb29ac41b2": {
      "model_module": "@jupyter-widgets/controls",
      "model_module_version": "1.0.0",
      "model_name": "HTMLModel",
      "state": {
       "layout": "IPY_MODEL_61ae4fc1586e40e09740af753e69f2c7",
       "style": "IPY_MODEL_f5dd84c44ec548618bbd052115daa2ec",
       "value": "Items: 36052"
      }
     },
     "b934ff1cf13642ef93e476ebeb379d91": {
      "model_module": "@jupyter-widgets/base",
      "model_module_version": "1.0.0",
      "model_name": "LayoutModel",
      "state": {}
     },
     "bb203a2528644c8a8603af3f66cf0e63": {
      "model_module": "@jupyter-widgets/base",
      "model_module_version": "1.0.0",
      "model_name": "LayoutModel",
      "state": {}
     },
     "bc988f38d2a64d97835b6353e2d93ff0": {
      "model_module": "@jupyter-widgets/base",
      "model_module_version": "1.0.0",
      "model_name": "LayoutModel",
      "state": {}
     },
     "bd86ebc08254402897fc58ace330a9f9": {
      "model_module": "@jupyter-widgets/base",
      "model_module_version": "1.0.0",
      "model_name": "LayoutModel",
      "state": {}
     },
     "bd9c0e99575d400f9f30abb40c86efca": {
      "model_module": "@jupyter-widgets/controls",
      "model_module_version": "1.0.0",
      "model_name": "ProgressStyleModel",
      "state": {
       "description_width": ""
      }
     },
     "c0189906ff944be58c49f5072d0040ef": {
      "model_module": "@jupyter-widgets/controls",
      "model_module_version": "1.0.0",
      "model_name": "DescriptionStyleModel",
      "state": {
       "description_width": ""
      }
     },
     "c2a94f34dae942d88f5620770ffd28a6": {
      "model_module": "@jupyter-widgets/base",
      "model_module_version": "1.0.0",
      "model_name": "LayoutModel",
      "state": {}
     },
     "c6b3de8ec4cd437f8ff118a5709eba4e": {
      "model_module": "@jupyter-widgets/base",
      "model_module_version": "1.0.0",
      "model_name": "LayoutModel",
      "state": {}
     },
     "c884974034784b3683099fd4e8f0fad5": {
      "model_module": "@jupyter-widgets/controls",
      "model_module_version": "1.0.0",
      "model_name": "VBoxModel",
      "state": {
       "children": [
        "IPY_MODEL_2bd6bc2bccda4bcfb7cfced2fe9c65b8",
        "IPY_MODEL_4a09033fd6434a7a83cdef851432d4c9"
       ],
       "layout": "IPY_MODEL_072c6f34879b4858b437a0bb051d91ac"
      }
     },
     "c966ba6cd97f47b2929466d3bcf1fd63": {
      "model_module": "@jupyter-widgets/controls",
      "model_module_version": "1.0.0",
      "model_name": "VBoxModel",
      "state": {
       "children": [
        "IPY_MODEL_678fbae986ec4d458a1a7f029fc50dba",
        "IPY_MODEL_183ae66fcf06494198989963bb562d1c"
       ],
       "layout": "IPY_MODEL_d5153ef5ed544be48fb25d9c5397298b"
      }
     },
     "ca0ff191023944ef8b0183f0cec264fa": {
      "model_module": "@jupyter-widgets/controls",
      "model_module_version": "1.0.0",
      "model_name": "VBoxModel",
      "state": {
       "children": [
        "IPY_MODEL_71c1042ee0dd4179940cf83572d6e492",
        "IPY_MODEL_74c059d82f96428d93ccb848e15feedf"
       ],
       "layout": "IPY_MODEL_d5d73031bad644d0ad818e2dd90e1d09"
      }
     },
     "ca78c4eb52ca47aba3eb16006abdbec3": {
      "model_module": "@jupyter-widgets/base",
      "model_module_version": "1.0.0",
      "model_name": "LayoutModel",
      "state": {}
     },
     "ccc9d91023c54f92a4fe3b51d8688be0": {
      "model_module": "@jupyter-widgets/base",
      "model_module_version": "1.0.0",
      "model_name": "LayoutModel",
      "state": {}
     },
     "d3e3c25944804934aef2c7e7727778e7": {
      "model_module": "@jupyter-widgets/controls",
      "model_module_version": "1.0.0",
      "model_name": "IntProgressModel",
      "state": {
       "bar_style": "success",
       "layout": "IPY_MODEL_b075cb2003d54be5ad77c3e5e9099d97",
       "max": 49041,
       "style": "IPY_MODEL_3c45b67ee08c49129941f49ecb35c50c",
       "value": 49041
      }
     },
     "d5153ef5ed544be48fb25d9c5397298b": {
      "model_module": "@jupyter-widgets/base",
      "model_module_version": "1.0.0",
      "model_name": "LayoutModel",
      "state": {}
     },
     "d5d73031bad644d0ad818e2dd90e1d09": {
      "model_module": "@jupyter-widgets/base",
      "model_module_version": "1.0.0",
      "model_name": "LayoutModel",
      "state": {}
     },
     "e00642de670248b7a4e27c31c7e62343": {
      "model_module": "@jupyter-widgets/controls",
      "model_module_version": "1.0.0",
      "model_name": "DescriptionStyleModel",
      "state": {
       "description_width": ""
      }
     },
     "e289f4edd0bd4e11a506640ccaabcbaf": {
      "model_module": "@jupyter-widgets/controls",
      "model_module_version": "1.0.0",
      "model_name": "DescriptionStyleModel",
      "state": {
       "description_width": ""
      }
     },
     "e7d556e7afc14f629f876de0ea2e61d4": {
      "model_module": "@jupyter-widgets/controls",
      "model_module_version": "1.0.0",
      "model_name": "ProgressStyleModel",
      "state": {
       "description_width": ""
      }
     },
     "ea0a7d0f939f4876811185c00b349871": {
      "model_module": "@jupyter-widgets/controls",
      "model_module_version": "1.0.0",
      "model_name": "IntProgressModel",
      "state": {
       "bar_style": "success",
       "layout": "IPY_MODEL_62a5928e99854950807d370a5de4b01e",
       "max": 49041,
       "style": "IPY_MODEL_a2a6787f586046d3851a1cd1ad0595a9",
       "value": 49041
      }
     },
     "f3eb3674480b4d77b517491cf0629c26": {
      "model_module": "@jupyter-widgets/controls",
      "model_module_version": "1.0.0",
      "model_name": "ProgressStyleModel",
      "state": {
       "description_width": ""
      }
     },
     "f5dd84c44ec548618bbd052115daa2ec": {
      "model_module": "@jupyter-widgets/controls",
      "model_module_version": "1.0.0",
      "model_name": "DescriptionStyleModel",
      "state": {
       "description_width": ""
      }
     },
     "fbd3fe2a8e364064aad69c7ff9924510": {
      "model_module": "@jupyter-widgets/base",
      "model_module_version": "1.0.0",
      "model_name": "LayoutModel",
      "state": {}
     }
    },
    "version_major": 2,
    "version_minor": 0
   }
  }
 },
 "nbformat": 4,
 "nbformat_minor": 1
}
